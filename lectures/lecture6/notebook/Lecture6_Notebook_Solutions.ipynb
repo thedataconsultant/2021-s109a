{
 "cells": [
  {
   "cell_type": "markdown",
   "metadata": {},
   "source": [
    "# <img style=\"float: left; padding-right: 10px; width: 45px\" src=\"https://github.com/Harvard-IACS/2021-s109a/blob/master/lectures/crest.png?raw=true\"> CS-S109A Introduction to Data Science \n",
    "\n",
    "## Lecture 6: Classification and Logistic Regression\n",
    "\n",
    "**Harvard University**<br>\n",
    "**Summer 2021**<br>\n",
    "**Instructors:** Kevin Rader<br>\n",
    "**Authors:** Rahul Dave, David Sondak, Will Claybaugh, Pavlos Protopapas, Chris Tanner, Kevin Rader\n",
    "\n",
    "---"
   ]
  },
  {
   "cell_type": "markdown",
   "metadata": {},
   "source": [
    "# Table of Contents \n",
    "<ol start=\"0\">\n",
    "<li> Learning Goals </li>\n",
    "<li> Logistic Regression</li> \n",
    "<li> More Logistic Regression </li> \n",
    "<li> Classification Accuracy</li>\n",
    "\n",
    "    "
   ]
  },
  {
   "cell_type": "markdown",
   "metadata": {},
   "source": [
    "## Learning Goals\n",
    "\n",
    "This Jupyter notebook accompanies Lecture 6. By the end of this lecture, you should be able to:\n",
    "\n",
    "- Fit, plot, and interpret logistic regression models\n",
    "- Fit and interpret multinomial logistic regression models\n",
    "- Determine classification boundaries for logistic regression models\n",
    "- Know how to evaluate classification methods via miclassification rate, ROC curves, and AUC.\n"
   ]
  },
  {
   "cell_type": "code",
   "execution_count": 2,
   "metadata": {},
   "outputs": [],
   "source": [
    "%matplotlib inline\n",
    "import numpy as np\n",
    "import matplotlib.pyplot as plt\n",
    "import pandas as pd\n",
    "import seaborn as sns\n",
    "import sklearn as sk\n",
    "from sklearn.preprocessing import PolynomialFeatures\n",
    "from sklearn.linear_model import LinearRegression\n",
    "from sklearn.linear_model import LogisticRegression\n",
    "\n",
    "pd.set_option('display.width', 500)\n",
    "pd.set_option('display.max_columns', 100)"
   ]
  },
  {
   "cell_type": "markdown",
   "metadata": {},
   "source": [
    "## Part 0: Reading the data \n",
    "\n",
    "In this notebook, we will be using the Heart dataset from lecture.  The variables we will be using today include:\n",
    "\n",
    "- `AHD`: whether or not the patient presents atherosclerotic heart disease (a heart attack): `Yes` or `No`\n",
    "- `Sex`: a binary indicator for whether the patient is male (Sex=1) or female (Sex=0)\n",
    "- `Age`: age of patient, in years\n",
    "- `MaxHR`: the maximum heart rate of patient based on exercise testing\n",
    "- `RestBP`: the resting systolic blood pressure of the patient\n",
    "- `Chol`: the HDL cholesterol level of the patient\n",
    "\n",
    "For further information on the dataset, please see the [UC Irvine Machine Learning Repository](https://archive.ics.uci.edu/ml/datasets/Heart+Disease)."
   ]
  },
  {
   "cell_type": "code",
   "execution_count": 3,
   "metadata": {},
   "outputs": [
    {
     "name": "stdout",
     "output_type": "stream",
     "text": [
      "(303, 15)\n"
     ]
    },
    {
     "data": {
      "text/html": [
       "<div>\n",
       "<style scoped>\n",
       "    .dataframe tbody tr th:only-of-type {\n",
       "        vertical-align: middle;\n",
       "    }\n",
       "\n",
       "    .dataframe tbody tr th {\n",
       "        vertical-align: top;\n",
       "    }\n",
       "\n",
       "    .dataframe thead th {\n",
       "        text-align: right;\n",
       "    }\n",
       "</style>\n",
       "<table border=\"1\" class=\"dataframe\">\n",
       "  <thead>\n",
       "    <tr style=\"text-align: right;\">\n",
       "      <th></th>\n",
       "      <th>Unnamed: 0</th>\n",
       "      <th>Age</th>\n",
       "      <th>Sex</th>\n",
       "      <th>ChestPain</th>\n",
       "      <th>RestBP</th>\n",
       "      <th>Chol</th>\n",
       "      <th>Fbs</th>\n",
       "      <th>RestECG</th>\n",
       "      <th>MaxHR</th>\n",
       "      <th>ExAng</th>\n",
       "      <th>Oldpeak</th>\n",
       "      <th>Slope</th>\n",
       "      <th>Ca</th>\n",
       "      <th>Thal</th>\n",
       "      <th>AHD</th>\n",
       "    </tr>\n",
       "  </thead>\n",
       "  <tbody>\n",
       "    <tr>\n",
       "      <th>0</th>\n",
       "      <td>1</td>\n",
       "      <td>63</td>\n",
       "      <td>1</td>\n",
       "      <td>typical</td>\n",
       "      <td>145</td>\n",
       "      <td>233</td>\n",
       "      <td>1</td>\n",
       "      <td>2</td>\n",
       "      <td>150</td>\n",
       "      <td>0</td>\n",
       "      <td>2.3</td>\n",
       "      <td>3</td>\n",
       "      <td>0.0</td>\n",
       "      <td>fixed</td>\n",
       "      <td>0</td>\n",
       "    </tr>\n",
       "    <tr>\n",
       "      <th>1</th>\n",
       "      <td>2</td>\n",
       "      <td>67</td>\n",
       "      <td>1</td>\n",
       "      <td>asymptomatic</td>\n",
       "      <td>160</td>\n",
       "      <td>286</td>\n",
       "      <td>0</td>\n",
       "      <td>2</td>\n",
       "      <td>108</td>\n",
       "      <td>1</td>\n",
       "      <td>1.5</td>\n",
       "      <td>2</td>\n",
       "      <td>3.0</td>\n",
       "      <td>normal</td>\n",
       "      <td>1</td>\n",
       "    </tr>\n",
       "    <tr>\n",
       "      <th>2</th>\n",
       "      <td>3</td>\n",
       "      <td>67</td>\n",
       "      <td>1</td>\n",
       "      <td>asymptomatic</td>\n",
       "      <td>120</td>\n",
       "      <td>229</td>\n",
       "      <td>0</td>\n",
       "      <td>2</td>\n",
       "      <td>129</td>\n",
       "      <td>1</td>\n",
       "      <td>2.6</td>\n",
       "      <td>2</td>\n",
       "      <td>2.0</td>\n",
       "      <td>reversable</td>\n",
       "      <td>1</td>\n",
       "    </tr>\n",
       "    <tr>\n",
       "      <th>3</th>\n",
       "      <td>4</td>\n",
       "      <td>37</td>\n",
       "      <td>1</td>\n",
       "      <td>nonanginal</td>\n",
       "      <td>130</td>\n",
       "      <td>250</td>\n",
       "      <td>0</td>\n",
       "      <td>0</td>\n",
       "      <td>187</td>\n",
       "      <td>0</td>\n",
       "      <td>3.5</td>\n",
       "      <td>3</td>\n",
       "      <td>0.0</td>\n",
       "      <td>normal</td>\n",
       "      <td>0</td>\n",
       "    </tr>\n",
       "    <tr>\n",
       "      <th>4</th>\n",
       "      <td>5</td>\n",
       "      <td>41</td>\n",
       "      <td>0</td>\n",
       "      <td>nontypical</td>\n",
       "      <td>130</td>\n",
       "      <td>204</td>\n",
       "      <td>0</td>\n",
       "      <td>2</td>\n",
       "      <td>172</td>\n",
       "      <td>0</td>\n",
       "      <td>1.4</td>\n",
       "      <td>1</td>\n",
       "      <td>0.0</td>\n",
       "      <td>normal</td>\n",
       "      <td>0</td>\n",
       "    </tr>\n",
       "  </tbody>\n",
       "</table>\n",
       "</div>"
      ],
      "text/plain": [
       "   Unnamed: 0  Age  Sex     ChestPain  RestBP  Chol  Fbs  RestECG  MaxHR  ExAng  Oldpeak  Slope   Ca        Thal  AHD\n",
       "0           1   63    1       typical     145   233    1        2    150      0      2.3      3  0.0       fixed    0\n",
       "1           2   67    1  asymptomatic     160   286    0        2    108      1      1.5      2  3.0      normal    1\n",
       "2           3   67    1  asymptomatic     120   229    0        2    129      1      2.6      2  2.0  reversable    1\n",
       "3           4   37    1    nonanginal     130   250    0        0    187      0      3.5      3  0.0      normal    0\n",
       "4           5   41    0    nontypical     130   204    0        2    172      0      1.4      1  0.0      normal    0"
      ]
     },
     "execution_count": 3,
     "metadata": {},
     "output_type": "execute_result"
    }
   ],
   "source": [
    "df_heart = pd.read_csv('../data/Heart.csv')\n",
    "\n",
    "# Force the response into a binary indicator:\n",
    "df_heart['AHD'] = 1*(df_heart['AHD'] == \"Yes\")\n",
    "\n",
    "print(df_heart.shape)\n",
    "df_heart.head()"
   ]
  },
  {
   "cell_type": "markdown",
   "metadata": {},
   "source": [
    "**Q0.1** Do some EDA to see how each of the 3 predictors `['Sex','Age','MaxHR']` separately relate to the response: `AHD`.  Consider looking at summary statistics, contingency tables, and relevant visuals comparing the two groups in the response variable.\n",
    "Hint: [`pd.crosstab`](https://pandas.pydata.org/pandas-docs/stable/reference/api/pandas.crosstab.html) could be very useful for creating contigency tables"
   ]
  },
  {
   "cell_type": "code",
   "execution_count": 22,
   "metadata": {},
   "outputs": [
    {
     "data": {
      "text/html": [
       "<div>\n",
       "<style scoped>\n",
       "    .dataframe tbody tr th:only-of-type {\n",
       "        vertical-align: middle;\n",
       "    }\n",
       "\n",
       "    .dataframe tbody tr th {\n",
       "        vertical-align: top;\n",
       "    }\n",
       "\n",
       "    .dataframe thead th {\n",
       "        text-align: right;\n",
       "    }\n",
       "</style>\n",
       "<table border=\"1\" class=\"dataframe\">\n",
       "  <thead>\n",
       "    <tr style=\"text-align: right;\">\n",
       "      <th>AHD</th>\n",
       "      <th>0</th>\n",
       "      <th>1</th>\n",
       "    </tr>\n",
       "    <tr>\n",
       "      <th>Sex</th>\n",
       "      <th></th>\n",
       "      <th></th>\n",
       "    </tr>\n",
       "  </thead>\n",
       "  <tbody>\n",
       "    <tr>\n",
       "      <th>0</th>\n",
       "      <td>72</td>\n",
       "      <td>25</td>\n",
       "    </tr>\n",
       "    <tr>\n",
       "      <th>1</th>\n",
       "      <td>92</td>\n",
       "      <td>114</td>\n",
       "    </tr>\n",
       "  </tbody>\n",
       "</table>\n",
       "</div>"
      ],
      "text/plain": [
       "AHD   0    1\n",
       "Sex         \n",
       "0    72   25\n",
       "1    92  114"
      ]
     },
     "execution_count": 22,
     "metadata": {},
     "output_type": "execute_result"
    }
   ],
   "source": [
    "######\n",
    "# your code here\n",
    "######\n",
    "\n",
    "pd.crosstab(df_heart['Sex'],df_heart['AHD'])"
   ]
  },
  {
   "cell_type": "code",
   "execution_count": 26,
   "metadata": {},
   "outputs": [
    {
     "data": {
      "image/png": "[encoded data removed]",
      "text/plain": [
       "<Figure size 432x288 with 1 Axes>"
      ]
     },
     "metadata": {
      "needs_background": "light"
     },
     "output_type": "display_data"
    }
   ],
   "source": [
    "plt.hist(df_heart['Age'][df_heart['AHD']==1],alpha=0.5)\n",
    "plt.hist(df_heart['Age'][df_heart['AHD']==0],alpha=0.5);"
   ]
  },
  {
   "cell_type": "code",
   "execution_count": 27,
   "metadata": {},
   "outputs": [
    {
     "data": {
      "image/png": "[encoded data removed]",
      "text/plain": [
       "<Figure size 432x288 with 1 Axes>"
      ]
     },
     "metadata": {
      "needs_background": "light"
     },
     "output_type": "display_data"
    }
   ],
   "source": [
    "plt.hist(df_heart['MaxHR'][df_heart['AHD']==1],alpha=0.5)\n",
    "plt.hist(df_heart['MaxHR'][df_heart['AHD']==0],alpha=0.5);"
   ]
  },
  {
   "cell_type": "markdown",
   "metadata": {},
   "source": [
    "**Q0.2** Interpret your EDA in the previous part.  Which of the predictors would be most useful in a classification model to predict `AHD`?"
   ]
  },
  {
   "cell_type": "markdown",
   "metadata": {},
   "source": [
    "*your answer here*\n",
    "\n",
    "Males have a much higher rate of AHD (114/206 = 55.3%) than females (25/97 = 25.8%).  \n",
    "Ages in the late 50s and early 60s have the highest chances of having a heart attack (the rate is lower at younger and older ages, suggesting a quadratic term may be appropriate), while lower resting hearts have a higher chance of AHD.  Sex and MaxHR should work well as predictors as they show reasonably strong relationships."
   ]
  },
  {
   "cell_type": "markdown",
   "metadata": {},
   "source": [
    "---"
   ]
  },
  {
   "cell_type": "markdown",
   "metadata": {},
   "source": [
    "## Part 1: Logistic Regression Modeling"
   ]
  },
  {
   "cell_type": "markdown",
   "metadata": {},
   "source": [
    "Below are both a linear regression model and a (logistic regression model)[https://scikit-learn.org/stable/modules/generated/sklearn.linear_model.LogisticRegression.html] fit using sklearn to predict `AHD` from `Age`."
   ]
  },
  {
   "cell_type": "code",
   "execution_count": 5,
   "metadata": {},
   "outputs": [
    {
     "name": "stdout",
     "output_type": "stream",
     "text": [
      "Linear Regression Estimated Betas: -0.21198629605591568 [0.01232082]\n",
      "Logistic Regression Estimated Betas: [-3.00591177] [[0.05198618]]\n"
     ]
    }
   ],
   "source": [
    "data_x = df_heart[['Age']]\n",
    "data_y = df_heart['AHD']\n",
    "\n",
    "regress1 = LinearRegression(fit_intercept=True).fit(data_x, data_y)\n",
    "logit1 = LogisticRegression(C=10000,fit_intercept=True).fit(data_x, data_y)\n",
    "\n",
    "print(\"Linear Regression Estimated Betas:\",regress1.intercept_,regress1.coef_)\n",
    "print(\"Logistic Regression Estimated Betas:\",logit1.intercept_,logit1.coef_)"
   ]
  },
  {
   "cell_type": "markdown",
   "metadata": {},
   "source": [
    "Two different prediction commands can be used on a logistic regression model in sklearn (be careful of the form of the output from them):\n",
    "- model.predict(X): to get the predicted classifications (0 or 1, here)\n",
    "- model.predict_proba(X): to get the predicted probabiltiies of 'success'\n",
    "        \n",
    "**Q1.1** Calculate both types of predictions for the patients in the data set for `logit1`.  What do you notice?"
   ]
  },
  {
   "cell_type": "code",
   "execution_count": 6,
   "metadata": {},
   "outputs": [
    {
     "name": "stdout",
     "output_type": "stream",
     "text": [
      "[1 1 1 0 0 0 1 0 1 0 0 0 0 0 0 0 0 0 0 0 1 1 1 1 1 0 1 1 0 0 1 1 1 1 0 0 0\n",
      " 0 0 1 1 0 1 1 1 1 0 0 1 0 0 1 0 0 1 0 0 0 0 0 0 0 1 0 0 1 1 0 1 0 1 1 1 1\n",
      " 0 1 1 0 0 1 0 0 0 1 0 0 0 0 0 0 1 1 1 0 1 0 1 1 0 0 0 0 0 1 0 0 1 0 1 0 1\n",
      " 0 0 0 1 0 1 0 1 1 0 1 0 0 1 0 0 0 0 1 0 0 0 0 0 0 1 1 0 0 1 1 0 1 1 0 0 0\n",
      " 0 1 0 0 1 0 1 1 0 1 1 1 0 1 0 1 0 0 0 0 0 0 1 0 1 1 1 0 0 0 0 0 0 0 0 1 1\n",
      " 1 0 1 0 1 0 0 0 1 1 1 1 0 0 1 0 1 0 1 0 0 1 0 0 1 0 0 0 1 0 0 0 0 1 1 0 0\n",
      " 0 0 1 0 0 1 0 1 0 0 0 1 0 0 0 0 0 0 0 0 0 1 1 1 1 0 0 1 0 1 1 0 0 0 1 1 1\n",
      " 0 0 1 1 0 1 0 0 1 0 0 1 1 0 1 1 1 1 0 0 1 0 0 0 0 1 1 1 1 0 0 1 0 0 1 1 0\n",
      " 1 0 0 1 0 0 0]\n",
      "[[0.43309916 0.56690084]\n",
      " [0.3829224  0.6170776 ]\n",
      " [0.3829224  0.6170776 ]\n",
      " [0.74695225 0.25304775]\n",
      " [0.70567669 0.29432331]\n",
      " [0.52365373 0.47634627]\n",
      " [0.44590468 0.55409532]\n",
      " [0.51067323 0.48932677]\n",
      " [0.43309916 0.56690084]\n",
      " [0.56233504 0.43766496]\n",
      " [0.51067323 0.48932677]\n",
      " [0.52365373 0.47634627]\n",
      " [0.52365373 0.47634627]\n",
      " [0.67228098 0.32771902]\n",
      " [0.57508539 0.42491461]\n",
      " [0.51067323 0.48932677]\n",
      " [0.62494127 0.37505873]\n",
      " [0.54950179 0.45049821]\n",
      " [0.62494127 0.37505873]\n",
      " [0.61267936 0.38732064]\n",
      " [0.42038238 0.57961762]\n",
      " [0.49767832 0.50232168]\n",
      " [0.49767832 0.50232168]\n",
      " [0.49767832 0.50232168]\n",
      " [0.47171544 0.52828456]\n",
      " [0.60027298 0.39972702]\n",
      " [0.49767832 0.50232168]\n",
      " [0.39527879 0.60472121]\n",
      " [0.68363033 0.31636967]\n",
      " [0.71635746 0.28364254]\n",
      " [0.35867152 0.64132848]\n",
      " [0.47171544 0.52828456]\n",
      " [0.42038238 0.57961762]\n",
      " [0.48468655 0.51531345]\n",
      " [0.67228098 0.32771902]\n",
      " [0.69476509 0.30523491]\n",
      " [0.68363033 0.31636967]\n",
      " [0.51067323 0.48932677]\n",
      " [0.53660235 0.46339765]\n",
      " [0.45878242 0.54121758]\n",
      " [0.40777042 0.59222958]\n",
      " [0.71635746 0.28364254]\n",
      " [0.33512239 0.66487761]\n",
      " [0.48468655 0.51531345]\n",
      " [0.45878242 0.54121758]\n",
      " [0.49767832 0.50232168]\n",
      " [0.58773662 0.41226338]\n",
      " [0.60027298 0.39972702]\n",
      " [0.40777042 0.59222958]\n",
      " [0.56233504 0.43766496]\n",
      " [0.70567669 0.29432331]\n",
      " [0.40777042 0.59222958]\n",
      " [0.67228098 0.32771902]\n",
      " [0.67228098 0.32771902]\n",
      " [0.47171544 0.52828456]\n",
      " [0.54950179 0.45049821]\n",
      " [0.60027298 0.39972702]\n",
      " [0.70567669 0.29432331]\n",
      " [0.54950179 0.45049821]\n",
      " [0.58773662 0.41226338]\n",
      " [0.58773662 0.41226338]\n",
      " [0.64897743 0.35102257]\n",
      " [0.49767832 0.50232168]\n",
      " [0.54950179 0.45049821]\n",
      " [0.54950179 0.45049821]\n",
      " [0.47171544 0.52828456]\n",
      " [0.47171544 0.52828456]\n",
      " [0.54950179 0.45049821]\n",
      " [0.48468655 0.51531345]\n",
      " [0.64897743 0.35102257]\n",
      " [0.40777042 0.59222958]\n",
      " [0.3829224  0.6170776 ]\n",
      " [0.44590468 0.55409532]\n",
      " [0.40777042 0.59222958]\n",
      " [0.67228098 0.32771902]\n",
      " [0.40777042 0.59222958]\n",
      " [0.47171544 0.52828456]\n",
      " [0.58773662 0.41226338]\n",
      " [0.62494127 0.37505873]\n",
      " [0.49767832 0.50232168]\n",
      " [0.66072654 0.33927346]\n",
      " [0.56233504 0.43766496]\n",
      " [0.72680069 0.27319931]\n",
      " [0.37071548 0.62928452]\n",
      " [0.57508539 0.42491461]\n",
      " [0.67228098 0.32771902]\n",
      " [0.63704495 0.36295505]\n",
      " [0.56233504 0.43766496]\n",
      " [0.56233504 0.43766496]\n",
      " [0.58773662 0.41226338]\n",
      " [0.39527879 0.60472121]\n",
      " [0.44590468 0.55409532]\n",
      " [0.44590468 0.55409532]\n",
      " [0.67228098 0.32771902]\n",
      " [0.43309916 0.56690084]\n",
      " [0.57508539 0.42491461]\n",
      " [0.48468655 0.51531345]\n",
      " [0.47171544 0.52828456]\n",
      " [0.57508539 0.42491461]\n",
      " [0.62494127 0.37505873]\n",
      " [0.66072654 0.33927346]\n",
      " [0.77528218 0.22471782]\n",
      " [0.51067323 0.48932677]\n",
      " [0.33512239 0.66487761]\n",
      " [0.61267936 0.38732064]\n",
      " [0.54950179 0.45049821]\n",
      " [0.48468655 0.51531345]\n",
      " [0.51067323 0.48932677]\n",
      " [0.45878242 0.54121758]\n",
      " [0.72680069 0.27319931]\n",
      " [0.45878242 0.54121758]\n",
      " [0.52365373 0.47634627]\n",
      " [0.57508539 0.42491461]\n",
      " [0.68363033 0.31636967]\n",
      " [0.44590468 0.55409532]\n",
      " [0.70567669 0.29432331]\n",
      " [0.49767832 0.50232168]\n",
      " [0.76609576 0.23390424]\n",
      " [0.43309916 0.56690084]\n",
      " [0.40777042 0.59222958]\n",
      " [0.62494127 0.37505873]\n",
      " [0.43309916 0.56690084]\n",
      " [0.58773662 0.41226338]\n",
      " [0.53660235 0.46339765]\n",
      " [0.40777042 0.59222958]\n",
      " [0.66072654 0.33927346]\n",
      " [0.52365373 0.47634627]\n",
      " [0.54950179 0.45049821]\n",
      " [0.67228098 0.32771902]\n",
      " [0.44590468 0.55409532]\n",
      " [0.54950179 0.45049821]\n",
      " [0.58773662 0.41226338]\n",
      " [0.81732266 0.18267734]\n",
      " [0.58773662 0.41226338]\n",
      " [0.68363033 0.31636967]\n",
      " [0.53660235 0.46339765]\n",
      " [0.3468032  0.6531968 ]\n",
      " [0.44590468 0.55409532]\n",
      " [0.76609576 0.23390424]\n",
      " [0.58773662 0.41226338]\n",
      " [0.48468655 0.51531345]\n",
      " [0.48468655 0.51531345]\n",
      " [0.57508539 0.42491461]\n",
      " [0.42038238 0.57961762]\n",
      " [0.49767832 0.50232168]\n",
      " [0.63704495 0.36295505]\n",
      " [0.51067323 0.48932677]\n",
      " [0.70567669 0.29432331]\n",
      " [0.66072654 0.33927346]\n",
      " [0.47171544 0.52828456]\n",
      " [0.57508539 0.42491461]\n",
      " [0.69476509 0.30523491]\n",
      " [0.3829224  0.6170776 ]\n",
      " [0.53660235 0.46339765]\n",
      " [0.42038238 0.57961762]\n",
      " [0.3468032  0.6531968 ]\n",
      " [0.58773662 0.41226338]\n",
      " [0.49767832 0.50232168]\n",
      " [0.47171544 0.52828456]\n",
      " [0.37071548 0.62928452]\n",
      " [0.64897743 0.35102257]\n",
      " [0.26952689 0.73047311]\n",
      " [0.54950179 0.45049821]\n",
      " [0.49767832 0.50232168]\n",
      " [0.62494127 0.37505873]\n",
      " [0.51067323 0.48932677]\n",
      " [0.57508539 0.42491461]\n",
      " [0.54950179 0.45049821]\n",
      " [0.76609576 0.23390424]\n",
      " [0.66072654 0.33927346]\n",
      " [0.3468032  0.6531968 ]\n",
      " [0.56233504 0.43766496]\n",
      " [0.48468655 0.51531345]\n",
      " [0.44590468 0.55409532]\n",
      " [0.42038238 0.57961762]\n",
      " [0.51067323 0.48932677]\n",
      " [0.57508539 0.42491461]\n",
      " [0.52365373 0.47634627]\n",
      " [0.68363033 0.31636967]\n",
      " [0.56233504 0.43766496]\n",
      " [0.62494127 0.37505873]\n",
      " [0.52365373 0.47634627]\n",
      " [0.69476509 0.30523491]\n",
      " [0.48468655 0.51531345]\n",
      " [0.47171544 0.52828456]\n",
      " [0.43309916 0.56690084]\n",
      " [0.69476509 0.30523491]\n",
      " [0.39527879 0.60472121]\n",
      " [0.54950179 0.45049821]\n",
      " [0.35867152 0.64132848]\n",
      " [0.60027298 0.39972702]\n",
      " [0.58773662 0.41226338]\n",
      " [0.68363033 0.31636967]\n",
      " [0.44590468 0.55409532]\n",
      " [0.37071548 0.62928452]\n",
      " [0.3829224  0.6170776 ]\n",
      " [0.35867152 0.64132848]\n",
      " [0.66072654 0.33927346]\n",
      " [0.60027298 0.39972702]\n",
      " [0.48468655 0.51531345]\n",
      " [0.60027298 0.39972702]\n",
      " [0.42038238 0.57961762]\n",
      " [0.51067323 0.48932677]\n",
      " [0.42038238 0.57961762]\n",
      " [0.68363033 0.31636967]\n",
      " [0.66072654 0.33927346]\n",
      " [0.49767832 0.50232168]\n",
      " [0.60027298 0.39972702]\n",
      " [0.53660235 0.46339765]\n",
      " [0.44590468 0.55409532]\n",
      " [0.74695225 0.25304775]\n",
      " [0.73700058 0.26299942]\n",
      " [0.70567669 0.29432331]\n",
      " [0.39527879 0.60472121]\n",
      " [0.57508539 0.42491461]\n",
      " [0.52365373 0.47634627]\n",
      " [0.64897743 0.35102257]\n",
      " [0.64897743 0.35102257]\n",
      " [0.42038238 0.57961762]\n",
      " [0.48468655 0.51531345]\n",
      " [0.70567669 0.29432331]\n",
      " [0.54950179 0.45049821]\n",
      " [0.72680069 0.27319931]\n",
      " [0.56233504 0.43766496]\n",
      " [0.43309916 0.56690084]\n",
      " [0.77528218 0.22471782]\n",
      " [0.63704495 0.36295505]\n",
      " [0.3829224  0.6170776 ]\n",
      " [0.54950179 0.45049821]\n",
      " [0.39527879 0.60472121]\n",
      " [0.57508539 0.42491461]\n",
      " [0.53660235 0.46339765]\n",
      " [0.61267936 0.38732064]\n",
      " [0.30131038 0.69868962]\n",
      " [0.54950179 0.45049821]\n",
      " [0.54950179 0.45049821]\n",
      " [0.52365373 0.47634627]\n",
      " [0.64897743 0.35102257]\n",
      " [0.61267936 0.38732064]\n",
      " [0.69476509 0.30523491]\n",
      " [0.70567669 0.29432331]\n",
      " [0.70567669 0.29432331]\n",
      " [0.61267936 0.38732064]\n",
      " [0.45878242 0.54121758]\n",
      " [0.47171544 0.52828456]\n",
      " [0.3829224  0.6170776 ]\n",
      " [0.49767832 0.50232168]\n",
      " [0.63704495 0.36295505]\n",
      " [0.57508539 0.42491461]\n",
      " [0.44590468 0.55409532]\n",
      " [0.51067323 0.48932677]\n",
      " [0.49767832 0.50232168]\n",
      " [0.42038238 0.57961762]\n",
      " [0.58773662 0.41226338]\n",
      " [0.68363033 0.31636967]\n",
      " [0.69476509 0.30523491]\n",
      " [0.3829224  0.6170776 ]\n",
      " [0.2798838  0.7201162 ]\n",
      " [0.3468032  0.6531968 ]\n",
      " [0.51067323 0.48932677]\n",
      " [0.67228098 0.32771902]\n",
      " [0.49767832 0.50232168]\n",
      " [0.47171544 0.52828456]\n",
      " [0.67228098 0.32771902]\n",
      " [0.45878242 0.54121758]\n",
      " [0.69476509 0.30523491]\n",
      " [0.57508539 0.42491461]\n",
      " [0.48468655 0.51531345]\n",
      " [0.71635746 0.28364254]\n",
      " [0.69476509 0.30523491]\n",
      " [0.45878242 0.54121758]\n",
      " [0.39527879 0.60472121]\n",
      " [0.64897743 0.35102257]\n",
      " [0.33512239 0.66487761]\n",
      " [0.48468655 0.51531345]\n",
      " [0.42038238 0.57961762]\n",
      " [0.39527879 0.60472121]\n",
      " [0.72680069 0.27319931]\n",
      " [0.51067323 0.48932677]\n",
      " [0.49767832 0.50232168]\n",
      " [0.51067323 0.48932677]\n",
      " [0.63704495 0.36295505]\n",
      " [0.53660235 0.46339765]\n",
      " [0.76609576 0.23390424]\n",
      " [0.45878242 0.54121758]\n",
      " [0.49767832 0.50232168]\n",
      " [0.49767832 0.50232168]\n",
      " [0.49767832 0.50232168]\n",
      " [0.52365373 0.47634627]\n",
      " [0.52365373 0.47634627]\n",
      " [0.3829224  0.6170776 ]\n",
      " [0.53660235 0.46339765]\n",
      " [0.67228098 0.32771902]\n",
      " [0.43309916 0.56690084]\n",
      " [0.43309916 0.56690084]\n",
      " [0.70567669 0.29432331]\n",
      " [0.48468655 0.51531345]\n",
      " [0.51067323 0.48932677]\n",
      " [0.66072654 0.33927346]\n",
      " [0.37071548 0.62928452]\n",
      " [0.51067323 0.48932677]\n",
      " [0.51067323 0.48932677]\n",
      " [0.73700058 0.26299942]]\n"
     ]
    }
   ],
   "source": [
    "######\n",
    "# your code here\n",
    "######\n",
    "\n",
    "yhat_class = logit1.predict(data_x)\n",
    "yhat_prob = logit1.predict_proba(data_x)\n",
    "\n",
    "\n",
    "print(yhat_class)\n",
    "print(yhat_prob)"
   ]
  },
  {
   "cell_type": "markdown",
   "metadata": {},
   "source": [
    "**Solution:**\n",
    "    \n",
    "What is unfortunate is that the predicted probabilities are for both outcomes ($Y=0$ and $Y=1$), which is not needed since they add up to one (this will be convenient when the response has more than 2 categories).  We'll have to slice `phat` carefully."
   ]
  },
  {
   "cell_type": "markdown",
   "metadata": {},
   "source": [
    "**Q1.2** Use the array of predicted probabilities to perform the classifications manually (feel free to check your answers with sklearn's classifications). "
   ]
  },
  {
   "cell_type": "code",
   "execution_count": 7,
   "metadata": {},
   "outputs": [
    {
     "data": {
      "text/html": [
       "<div>\n",
       "<style scoped>\n",
       "    .dataframe tbody tr th:only-of-type {\n",
       "        vertical-align: middle;\n",
       "    }\n",
       "\n",
       "    .dataframe tbody tr th {\n",
       "        vertical-align: top;\n",
       "    }\n",
       "\n",
       "    .dataframe thead th {\n",
       "        text-align: right;\n",
       "    }\n",
       "</style>\n",
       "<table border=\"1\" class=\"dataframe\">\n",
       "  <thead>\n",
       "    <tr style=\"text-align: right;\">\n",
       "      <th>col_0</th>\n",
       "      <th>0</th>\n",
       "      <th>1</th>\n",
       "    </tr>\n",
       "    <tr>\n",
       "      <th>row_0</th>\n",
       "      <th></th>\n",
       "      <th></th>\n",
       "    </tr>\n",
       "  </thead>\n",
       "  <tbody>\n",
       "    <tr>\n",
       "      <th>0</th>\n",
       "      <td>179</td>\n",
       "      <td>0</td>\n",
       "    </tr>\n",
       "    <tr>\n",
       "      <th>1</th>\n",
       "      <td>0</td>\n",
       "      <td>124</td>\n",
       "    </tr>\n",
       "  </tbody>\n",
       "</table>\n",
       "</div>"
      ],
      "text/plain": [
       "col_0    0    1\n",
       "row_0          \n",
       "0      179    0\n",
       "1        0  124"
      ]
     },
     "execution_count": 7,
     "metadata": {},
     "output_type": "execute_result"
    }
   ],
   "source": [
    "\n",
    "######\n",
    "# your code here\n",
    "######\n",
    "my_yhat_class = 1*(yhat_prob[:,1]>=0.5)\n",
    "pd.crosstab(my_yhat_class,yhat_class)"
   ]
  },
  {
   "cell_type": "markdown",
   "metadata": {},
   "source": [
    "**Q1.3** Determine the classification boundary mathematically (using the estimated coefficients): what range of values of `Age` would a patient be predicted to have a heart attack?"
   ]
  },
  {
   "cell_type": "code",
   "execution_count": 8,
   "metadata": {},
   "outputs": [
    {
     "name": "stdout",
     "output_type": "stream",
     "text": [
      "-3.0059117695448707 0.051986181981340994\n"
     ]
    }
   ],
   "source": [
    "######\n",
    "# your code here\n",
    "######\n",
    "beta0hat = logit1.intercept_[0]\n",
    "beta1hat = logit1.coef_[0][0]\n",
    "\n",
    "print(beta0hat,beta1hat)\n"
   ]
  },
  {
   "cell_type": "markdown",
   "metadata": {},
   "source": [
    "The estimated logistic regression model is:\n",
    "$$\\ln\\left(\\frac{\\widehat{P}(Y=1)}{1-\\widehat{P}(Y=1)}\\right) = -3.006 + 0.05199(X)$$\n",
    "\n",
    "When the log-odds is greater than or equal to 0, then the estimated probability is greater than or equal to 0.5, so we can set the RHS to zero and solve for X:\n",
    "$$-3.006 + 0.05199(X)\\geq0 \\implies X \\geq \\frac{3.006}{0.05199} = 57.8$$\n",
    "\n",
    "So individuals 57.8 years or older would be predicted to have heart disease in this sample of data.\n"
   ]
  },
  {
   "cell_type": "markdown",
   "metadata": {},
   "source": [
    "Below is some code to plot the predictions from the linear regression model on the probability scale added to he scatterplot of points.\n",
    "\n",
    "**Q1.4** Add the logistic curve for the predicted probabilities from `logit1`.  Which function is better to describe `AHD` from `Age`?  Why?"
   ]
  },
  {
   "cell_type": "code",
   "execution_count": 9,
   "metadata": {},
   "outputs": [
    {
     "data": {
      "image/png": "[encoded data removed]",
      "text/plain": [
       "<Figure size 432x288 with 1 Axes>"
      ]
     },
     "metadata": {
      "needs_background": "light"
     },
     "output_type": "display_data"
    }
   ],
   "source": [
    "dummy_x=np.linspace(np.min(data_x)-10,np.max(data_x)+10)\n",
    "yhat_regress = regress1.predict(dummy_x.reshape(-1,1))\n",
    "plt.plot(data_x, data_y, 'o' ,alpha=0.2, label='Data')\n",
    "plt.plot(dummy_x, yhat_regress, label = \"OLS\")\n",
    "\n",
    "######\n",
    "# your code here\n",
    "######\n",
    "\n",
    "yhat_logit = logit1.predict_proba(dummy_x.reshape(-1,1))[:,1]\n",
    "plt.plot(dummy_x, yhat_logit, label = \"Logistic\")\n",
    "plt.legend()\n",
    "\n",
    "plt.ylim(-0.05,1.05)\n",
    "plt.show()"
   ]
  },
  {
   "cell_type": "markdown",
   "metadata": {},
   "source": [
    "**Solution:**\n",
    "\n",
    "The predicted curves are very similar (not always the case...especially for multiple predictors) especially where the logistic curve is more-or-less linear (when $0.25<\\hat{p}<0.75$).  The logistic curve 'flattens out' and away from the linear model in the extremities of age."
   ]
  },
  {
   "cell_type": "markdown",
   "metadata": {},
   "source": [
    "---"
   ]
  },
  {
   "cell_type": "markdown",
   "metadata": {},
   "source": [
    "## Part 2: More Logistic Regression Modeling "
   ]
  },
  {
   "cell_type": "markdown",
   "metadata": {},
   "source": [
    "**Q2.1** Fit a logistic regression model (`logit2`) to predict `AHD` from `Sex`.  Confirm that these estimates are correct based on the contingency table .\n",
    "Hint: What proportion of women had heart attacks in the dataset?  What proportion of men?"
   ]
  },
  {
   "cell_type": "code",
   "execution_count": 10,
   "metadata": {},
   "outputs": [
    {
     "name": "stdout",
     "output_type": "stream",
     "text": [
      "Estimated AHD rate for women: 0.25773409477062215\n",
      "Estimated AHD rate for men: 0.5533970476694503\n"
     ]
    }
   ],
   "source": [
    "######\n",
    "# your code here\n",
    "######\n",
    "\n",
    "logit2 = LogisticRegression(C=10000,fit_intercept=True).fit(df_heart[['Sex']], df_heart['AHD'])\n",
    "beta0 = logit2.intercept_[0]\n",
    "beta1 = logit2.coef_[0][0]\n",
    "\n",
    "phat_women = logit2.predict_proba(np.array(0).reshape(-1,1))[0][1]\n",
    "phat_men = logit2.predict_proba(np.array(1).reshape(-1,1))[0][1]\n",
    "\n",
    "\n",
    "\n",
    "print(\"Estimated AHD rate for women:\",phat_women)\n",
    "print(\"Estimated AHD rate for men:\",phat_men)\n",
    "\n"
   ]
  },
  {
   "cell_type": "code",
   "execution_count": 11,
   "metadata": {},
   "outputs": [
    {
     "name": "stdout",
     "output_type": "stream",
     "text": [
      "Observed AHD rate for women: 0.25773195876288657\n",
      "Observed AHD rate for men: 0.5533980582524272\n"
     ]
    },
    {
     "data": {
      "text/html": [
       "<div>\n",
       "<style scoped>\n",
       "    .dataframe tbody tr th:only-of-type {\n",
       "        vertical-align: middle;\n",
       "    }\n",
       "\n",
       "    .dataframe tbody tr th {\n",
       "        vertical-align: top;\n",
       "    }\n",
       "\n",
       "    .dataframe thead th {\n",
       "        text-align: right;\n",
       "    }\n",
       "</style>\n",
       "<table border=\"1\" class=\"dataframe\">\n",
       "  <thead>\n",
       "    <tr style=\"text-align: right;\">\n",
       "      <th>AHD</th>\n",
       "      <th>0</th>\n",
       "      <th>1</th>\n",
       "    </tr>\n",
       "    <tr>\n",
       "      <th>Sex</th>\n",
       "      <th></th>\n",
       "      <th></th>\n",
       "    </tr>\n",
       "  </thead>\n",
       "  <tbody>\n",
       "    <tr>\n",
       "      <th>0</th>\n",
       "      <td>72</td>\n",
       "      <td>25</td>\n",
       "    </tr>\n",
       "    <tr>\n",
       "      <th>1</th>\n",
       "      <td>92</td>\n",
       "      <td>114</td>\n",
       "    </tr>\n",
       "  </tbody>\n",
       "</table>\n",
       "</div>"
      ],
      "text/plain": [
       "AHD   0    1\n",
       "Sex         \n",
       "0    72   25\n",
       "1    92  114"
      ]
     },
     "execution_count": 11,
     "metadata": {},
     "output_type": "execute_result"
    }
   ],
   "source": [
    "table = pd.crosstab(df_heart['Sex'], df_heart['AHD'])\n",
    "print(\"Observed AHD rate for women:\",table[1][0]/(table[0][0]+table[1][0]))\n",
    "print(\"Observed AHD rate for men:\",table[1][1]/(table[0][1]+table[1][1]))\n",
    "table"
   ]
  },
  {
   "cell_type": "markdown",
   "metadata": {},
   "source": [
    "**Q2.2** Fit two more logistic regression models:\n",
    "- `logit3` to predict `AHD` from `Sex` and `Age`.  \n",
    "- `logit4` to predict `AHD` from `Sex` and `Age` and the interaction between the two predictors.\n",
    "\n",
    "What is the difference betwen these two modeling choices (aka, what does the interaction term allow for)?  "
   ]
  },
  {
   "cell_type": "code",
   "execution_count": 12,
   "metadata": {},
   "outputs": [
    {
     "name": "stdout",
     "output_type": "stream",
     "text": [
      "[-4.80773748] [[1.49886961 0.06571138]]\n",
      "[-4.27401888] [[0.77521675 0.05653474 0.01273001]]\n"
     ]
    }
   ],
   "source": [
    "######\n",
    "# your code here\n",
    "######\n",
    "df_heart['Sex_Age'] = df_heart['Sex']*df_heart['Age']\n",
    "\n",
    "logit3 = LogisticRegression(C=10000,fit_intercept=True).fit(df_heart[['Sex','Age']], df_heart['AHD'])\n",
    "logit4 = LogisticRegression(C=10000,fit_intercept=True).fit(df_heart[['Sex','Age','Sex_Age']], df_heart['AHD'])\n",
    "\n",
    "print(logit3.intercept_,logit3.coef_)\n",
    "print(logit4.intercept_,logit4.coef_)"
   ]
  },
  {
   "cell_type": "markdown",
   "metadata": {},
   "source": [
    "**Answer:**\n",
    "\n",
    "The difference between these models is the presence of the interaction term (which is estimated to 0.01273) which allows for the effect of Age on AHD to be potentially different for males and females.  It does not require the log-odds scale relationships to be parallel."
   ]
  },
  {
   "cell_type": "markdown",
   "metadata": {},
   "source": [
    "**Q2.3** From `logit4` plot the predicted probability of a heart attack as a function of age separately for females and males (2 separate curves).  What do you notice in these curves?"
   ]
  },
  {
   "cell_type": "code",
   "execution_count": 13,
   "metadata": {
    "scrolled": true
   },
   "outputs": [
    {
     "data": {
      "image/png": "[encoded data removed]",
      "text/plain": [
       "<Figure size 432x288 with 1 Axes>"
      ]
     },
     "metadata": {
      "needs_background": "light"
     },
     "output_type": "display_data"
    }
   ],
   "source": [
    "######\n",
    "# your code here\n",
    "######\n",
    "\n",
    "dummy_x = np.arange(np.min(df_heart['Age'])-1,np.max(df_heart['Age'])+1,0.5)\n",
    "yhat_male = (logit4.intercept_[0]+logit4.coef_[0][0])+(logit4.coef_[0][1]+logit4.coef_[0][2])*dummy_x\n",
    "yhat_female = (logit4.intercept_[0])+(logit4.coef_[0][1])*dummy_x\n",
    "\n",
    "\n",
    "#logit4 = LogisticRegression(C=10000,fit_intercept=True).fit(df_heart[['Sex','Age','Sex_Age']], data_y);\n",
    "\n",
    "plt.scatter(df_heart['Age'], df_heart['AHD'], alpha=0.2, label='Data')\n",
    "plt.plot(dummy_x,1/(1+np.exp(-yhat_male)),label=\"males\")\n",
    "plt.plot(dummy_x,1/(1+np.exp(-yhat_female)),label=\"females\")\n",
    "plt.hlines(0.5,xmin=np.min(df_heart['Age'])-1,xmax=np.max(df_heart['Age'])+1,linestyle=\"dashed\")\n",
    "plt.legend()\n",
    "plt.show()"
   ]
  },
  {
   "cell_type": "markdown",
   "metadata": {},
   "source": [
    "**Solution:**\n",
    "\n",
    "This plot illustrates that the logistic curves are not just a shift from one to the other (see below for `logit3`).  The plot for males is steeper than it is for females (they have the same 'steepness' in the plot below for `logit3`, just at different values of age."
   ]
  },
  {
   "cell_type": "code",
   "execution_count": 14,
   "metadata": {},
   "outputs": [
    {
     "data": {
      "image/png": "[encoded data removed]",
      "text/plain": [
       "<Figure size 432x288 with 1 Axes>"
      ]
     },
     "metadata": {
      "needs_background": "light"
     },
     "output_type": "display_data"
    }
   ],
   "source": [
    "yhat_male = (logit3.intercept_[0]+logit3.coef_[0][0])+(logit3.coef_[0][1])*dummy_x\n",
    "yhat_female = (logit3.intercept_[0])+(logit3.coef_[0][1])*dummy_x\n",
    "\n",
    "#logit4 = LogisticRegression(C=10000,fit_intercept=True).fit(df_heart[['Sex','Age','Sex_Age']], data_y);\n",
    "\n",
    "plt.scatter(df_heart['Age'], df_heart['AHD'], alpha=0.2, label='Data')\n",
    "plt.plot(dummy_x,1/(1+np.exp(-yhat_male)),label=\"males\")\n",
    "plt.plot(dummy_x,1/(1+np.exp(-yhat_female)),label=\"females\")\n",
    "plt.hlines(0.5,xmin=np.min(df_heart['Age'])-1,xmax=np.max(df_heart['Age'])+1,linestyle=\"dashed\")\n",
    "plt.legend()\n",
    "plt.show()"
   ]
  },
  {
   "cell_type": "markdown",
   "metadata": {},
   "source": [
    "**Q2.5** Using `logit4`, at what ages will males be predicted to have a heart attack in a classification?  at what ages will females be predicted to have a heart attack?  Justify based on the plot above."
   ]
  },
  {
   "cell_type": "markdown",
   "metadata": {},
   "source": [
    "**Solution:**\n",
    "\n",
    "The estimated logistic regression model is:\n",
    "$$\\ln\\left(\\frac{\\widehat{P}(Y=1)}{1-\\widehat{P}(Y=1)}\\right) = -4.27+0.775(Sex)+ 0.05653474(Age)+ 0.0127(Age\\times Sex)$$\n",
    "\n",
    "<ins>For women (Sex=0) this simplifies to:</ins>\n",
    "$$\\ln\\left(\\frac{\\widehat{P}(Y=1)}{1-\\widehat{P}(Y=1)}\\right) = -4.27+ 0.0565(Age)$$\n",
    "\n",
    "And solve the RHS for zero:\n",
    "$$-4.27+ 0.0565(Age)\\geq0 \\implies Age \\geq \\frac{4.27}{0.0565} = 75.6$$\n",
    "\n",
    "\n",
    "<ins>For men (Sex=1) this simplifies to:</ins>\n",
    "$$\\ln\\left(\\frac{\\widehat{P}(Y=1)}{1-\\widehat{P}(Y=1)}\\right) = -4.27+0.775(1)+ 0.0565(Age)+ 0.0127(Age\\times 1)=-3.495 + 0.0692(Age)$$\n",
    "\n",
    "And solve the RHS for zero:\n",
    "$$-3.495 + 0.0692(Age)\\geq0 \\implies Age \\geq \\frac{3.495}{0.0692} = 50.5$$\n",
    "\n"
   ]
  },
  {
   "cell_type": "markdown",
   "metadata": {},
   "source": [
    "---"
   ]
  },
  {
   "cell_type": "markdown",
   "metadata": {},
   "source": [
    "## Part 3: Classification Accuracy"
   ]
  },
  {
   "cell_type": "markdown",
   "metadata": {},
   "source": [
    "We split the relevant data into train and test (67-33 split) below for you.  Use this to help score several models we suggest below."
   ]
  },
  {
   "cell_type": "code",
   "execution_count": 15,
   "metadata": {},
   "outputs": [
    {
     "name": "stdout",
     "output_type": "stream",
     "text": [
      "(203, 8) (100, 8) (203,) (100,)\n"
     ]
    }
   ],
   "source": [
    "df_heart['Sex_MaxHR']=df_heart['Sex']*df_heart['MaxHR']\n",
    "df_heart['Age_MaxHR']=df_heart['Age']*df_heart['MaxHR']\n",
    "\n",
    "X_data = df_heart[['Sex','Age','MaxHR','RestBP','Chol','Sex_Age','Sex_MaxHR','Age_MaxHR']]\n",
    "y_data = df_heart['AHD']\n",
    "\n",
    "X_train, X_test, y_train, y_test = sk.model_selection.train_test_split(X_data, y_data, test_size=0.33, random_state=109)\n",
    "\n",
    "print(X_train.shape, X_test.shape, y_train.shape, y_test.shape)"
   ]
  },
  {
   "cell_type": "markdown",
   "metadata": {},
   "source": [
    "**Q3.1** Fit an 'unregularized' logistic regression model (`logit5`) to predict `AHD` from all the predictors in the training set.  Determine the misclassification rate in both the train and test sets."
   ]
  },
  {
   "cell_type": "code",
   "execution_count": 16,
   "metadata": {},
   "outputs": [
    {
     "name": "stdout",
     "output_type": "stream",
     "text": [
      "Overall misclassification rate in train: 0.26108374384236455\n",
      "Overall misclassification rate in test: 0.30000000000000004\n"
     ]
    },
    {
     "name": "stderr",
     "output_type": "stream",
     "text": [
      "/Users/kevinrader/opt/anaconda3/lib/python3.7/site-packages/sklearn/linear_model/_logistic.py:764: ConvergenceWarning: lbfgs failed to converge (status=1):\n",
      "STOP: TOTAL NO. of ITERATIONS REACHED LIMIT.\n",
      "\n",
      "Increase the number of iterations (max_iter) or scale the data as shown in:\n",
      "    https://scikit-learn.org/stable/modules/preprocessing.html\n",
      "Please also refer to the documentation for alternative solver options:\n",
      "    https://scikit-learn.org/stable/modules/linear_model.html#logistic-regression\n",
      "  extra_warning_msg=_LOGISTIC_SOLVER_CONVERGENCE_MSG)\n"
     ]
    }
   ],
   "source": [
    "######\n",
    "# your code here\n",
    "######\n",
    "\n",
    "data_x = df_heart[['Sex']]\n",
    "data_y = df_heart['AHD']\n",
    "logit5 = LogisticRegression(C=10000,fit_intercept=True).fit(X_train, y_train);\n",
    "\n",
    "print(\"Overall misclassification rate in train:\",1-logit5.score(X_train,y_train))\n",
    "print(\"Overall misclassification rate in test:\",1-logit5.score(X_test,y_test))\n"
   ]
  },
  {
   "cell_type": "markdown",
   "metadata": {},
   "source": [
    "**Q3.2** Fit a 'regularized' logistic regression model (`logit6`) to predict `AHD` from all the predictors in the training set (with `C=0.001`).  Compare the coefficient estimates in `logit6` to `logit5`, and determine the misclassification rate in both the train and test sets.  How have things changed?"
   ]
  },
  {
   "cell_type": "code",
   "execution_count": 17,
   "metadata": {},
   "outputs": [
    {
     "name": "stdout",
     "output_type": "stream",
     "text": [
      "Overall misclassification rate in train: 0.2660098522167488\n",
      "Overall misclassification rate in test: 0.29000000000000004\n"
     ]
    },
    {
     "data": {
      "text/html": [
       "<div>\n",
       "<style scoped>\n",
       "    .dataframe tbody tr th:only-of-type {\n",
       "        vertical-align: middle;\n",
       "    }\n",
       "\n",
       "    .dataframe tbody tr th {\n",
       "        vertical-align: top;\n",
       "    }\n",
       "\n",
       "    .dataframe thead th {\n",
       "        text-align: right;\n",
       "    }\n",
       "</style>\n",
       "<table border=\"1\" class=\"dataframe\">\n",
       "  <thead>\n",
       "    <tr style=\"text-align: right;\">\n",
       "      <th></th>\n",
       "      <th>logit5</th>\n",
       "      <th>logit6</th>\n",
       "    </tr>\n",
       "  </thead>\n",
       "  <tbody>\n",
       "    <tr>\n",
       "      <th>Sex</th>\n",
       "      <td>0.001286</td>\n",
       "      <td>0.000384</td>\n",
       "    </tr>\n",
       "    <tr>\n",
       "      <th>Age</th>\n",
       "      <td>-0.026253</td>\n",
       "      <td>0.000158</td>\n",
       "    </tr>\n",
       "    <tr>\n",
       "      <th>MaxHR</th>\n",
       "      <td>-0.048191</td>\n",
       "      <td>-0.043550</td>\n",
       "    </tr>\n",
       "    <tr>\n",
       "      <th>RestBP</th>\n",
       "      <td>0.035933</td>\n",
       "      <td>0.028509</td>\n",
       "    </tr>\n",
       "    <tr>\n",
       "      <th>Chol</th>\n",
       "      <td>0.006246</td>\n",
       "      <td>0.005532</td>\n",
       "    </tr>\n",
       "    <tr>\n",
       "      <th>Sex_Age</th>\n",
       "      <td>0.038157</td>\n",
       "      <td>0.022547</td>\n",
       "    </tr>\n",
       "    <tr>\n",
       "      <th>Sex_MaxHR</th>\n",
       "      <td>-0.004478</td>\n",
       "      <td>0.000602</td>\n",
       "    </tr>\n",
       "    <tr>\n",
       "      <th>Age_MaxHR</th>\n",
       "      <td>0.000164</td>\n",
       "      <td>0.000049</td>\n",
       "    </tr>\n",
       "  </tbody>\n",
       "</table>\n",
       "</div>"
      ],
      "text/plain": [
       "             logit5    logit6\n",
       "Sex        0.001286  0.000384\n",
       "Age       -0.026253  0.000158\n",
       "MaxHR     -0.048191 -0.043550\n",
       "RestBP     0.035933  0.028509\n",
       "Chol       0.006246  0.005532\n",
       "Sex_Age    0.038157  0.022547\n",
       "Sex_MaxHR -0.004478  0.000602\n",
       "Age_MaxHR  0.000164  0.000049"
      ]
     },
     "execution_count": 17,
     "metadata": {},
     "output_type": "execute_result"
    }
   ],
   "source": [
    "######\n",
    "# your code here\n",
    "######\n",
    "\n",
    "logit6 = LogisticRegression(C=0.001,fit_intercept=True).fit(X_train, y_train);\n",
    "\n",
    "\n",
    "\n",
    "print(\"Overall misclassification rate in train:\",1-logit6.score(X_train,y_train))\n",
    "print(\"Overall misclassification rate in test:\",1-logit6.score(X_test,y_test))\n",
    "\n",
    "d = {'logit5': logit5.coef_[0], 'logit6': logit6.coef_[0]}\n",
    "coefs = pd.DataFrame(data=d)\n",
    "coefs.index = X_train.columns\n",
    "coefs"
   ]
  },
  {
   "cell_type": "markdown",
   "metadata": {},
   "source": [
    "**Solution:**\n",
    "\n",
    "Not much has changed: the overall misclassification rate is a little lower for the test set (and a little higher in train, as to be expected).\n",
    "\n"
   ]
  },
  {
   "cell_type": "markdown",
   "metadata": {},
   "source": [
    "**Q3.3** Calculate the confusion tables in the test set for `logit5` when the cut-off is the typical 0.5 and when it is 0.8.  Calculate the sensitivity and specificity of this classification algorithm for each of these cut-offs.\n",
    "Hint: (sk.metrics.confusion_matrix)[https://scikit-learn.org/stable/modules/generated/sklearn.metrics.confusion_matrix.html] will be useful for this task."
   ]
  },
  {
   "cell_type": "code",
   "execution_count": 18,
   "metadata": {},
   "outputs": [
    {
     "name": "stdout",
     "output_type": "stream",
     "text": [
      "The average predicted probability is 0.4681122140333887\n",
      "The confusion matrix when cut-off is 0.5: \n",
      " [[43 15]\n",
      " [15 27]]\n",
      "The confusion matrix when cut-off is 0.8: \n",
      " [[56  2]\n",
      " [26 16]]\n"
     ]
    }
   ],
   "source": [
    "yhat_test_logit5 = logit5.predict_proba(X_test)[:,1]\n",
    "print('The average predicted probability is',np.mean(yhat_test_logit5))\n",
    "\n",
    "######\n",
    "# your code here\n",
    "######\n",
    "\n",
    "print('The confusion matrix when cut-off is 0.5: \\n',sk.metrics.confusion_matrix(y_test, yhat_test_logit5>0.5))\n",
    "print('The confusion matrix when cut-off is 0.8: \\n',sk.metrics.confusion_matrix(y_test, yhat_test_logit5>0.8))\n",
    "\n",
    "\n"
   ]
  },
  {
   "cell_type": "markdown",
   "metadata": {},
   "source": [
    "**Solution:**\n",
    " \n",
    "The sensitity is $P(\\hat{Y}=1|Y=1) = \\frac{27}{27+15} = 0.643$ and specificity is $P(\\hat{Y}=0|Y=0) = \\frac{43}{43+15} = 0.741$ when the threshold is the standard 0.5. \n",
    "    \n",
    "When the threshold is instead set to 0.8, sensitivity is much lower at $P(\\hat{Y}=1|Y=1) = \\frac{16}{16+26} = 0.381$ while specificity goes up to $P(\\hat{Y}=0|Y=0) = \\frac{56}{56+2} = 0.961$.  Note: the overall correct classification rate is actually higher at the nonstandard threshould: 72/100 vs. 70/100."
   ]
  },
  {
   "cell_type": "markdown",
   "metadata": {},
   "source": [
    "The ROC curve for logit5 is shown below using `sk.metrics.roc_curve`:"
   ]
  },
  {
   "cell_type": "code",
   "execution_count": 19,
   "metadata": {},
   "outputs": [
    {
     "data": {
      "image/png": "[encoded data removed]",
      "text/plain": [
       "<Figure size 432x288 with 1 Axes>"
      ]
     },
     "metadata": {
      "needs_background": "light"
     },
     "output_type": "display_data"
    }
   ],
   "source": [
    "fpr, tpr, thresholds = sk.metrics.roc_curve(y_test, yhat_test_logit5)\n",
    "\n",
    "x=np.arange(0,100)/100\n",
    "plt.plot(x,x,'--',color=\"gray\",alpha=0.3)\n",
    "plt.plot(fpr,tpr)\n",
    "plt.ylabel(\"True Positive Rate\")\n",
    "plt.xlabel(\"False Positive Rate\")\n",
    "plt.title(\"ROC Curve for Predicting AHD in a Logistic Regression Model\")\n",
    "plt.show()"
   ]
  },
  {
   "cell_type": "markdown",
   "metadata": {},
   "source": [
    "**Q3.4** For `logit6`, determine the predicted probabilties in test and calculate and print the ROC Curve for this model."
   ]
  },
  {
   "cell_type": "code",
   "execution_count": 20,
   "metadata": {},
   "outputs": [
    {
     "data": {
      "image/png": "[encoded data removed]",
      "text/plain": [
       "<Figure size 432x288 with 1 Axes>"
      ]
     },
     "metadata": {
      "needs_background": "light"
     },
     "output_type": "display_data"
    }
   ],
   "source": [
    "######\n",
    "# your code here\n",
    "######\n",
    "yhat_test_logit6 = logit6.predict_proba(X_test)[:,1]\n",
    "\n",
    "fpr6, tpr6, thresholds6 = sk.metrics.roc_curve(y_test, yhat_test_logit6)\n",
    "\n",
    "x=np.arange(0,100)/100\n",
    "plt.plot(x,x,'--',color=\"gray\",alpha=0.3)\n",
    "plt.plot(fpr,tpr,label=\"logit5\")\n",
    "plt.plot(fpr6,tpr6,label=\"logit6\")\n",
    "plt.ylabel(\"True Positive Rate\")\n",
    "plt.xlabel(\"False Positive Rate\")\n",
    "plt.title(\"ROC Curve for Predicting AHD in a Logistic Regression Model\")\n",
    "plt.show()"
   ]
  },
  {
   "cell_type": "markdown",
   "metadata": {},
   "source": [
    "**Q3.5** Use the ROC curves above to eyeball which of `logit5` and `logit6` is a better classification model based on Area Under the ROC Curve (AUC).  Then, calculate the actual AUC for these two models. \n",
    "\n",
    "Hint: use (sklearn.metrics.auc)[https://scikit-learn.org/stable/modules/generated/sklearn.metrics.auc.html]."
   ]
  },
  {
   "cell_type": "code",
   "execution_count": 21,
   "metadata": {},
   "outputs": [
    {
     "name": "stdout",
     "output_type": "stream",
     "text": [
      "0.8013136288998358\n",
      "0.8066502463054187\n"
     ]
    }
   ],
   "source": [
    "######\n",
    "# your code here\n",
    "######\n",
    "\n",
    "print(sk.metrics.auc(fpr,tpr))\n",
    "\n",
    "print(sk.metrics.auc(fpr6,tpr6))"
   ]
  },
  {
   "cell_type": "markdown",
   "metadata": {},
   "source": [
    "Eyeballing it, it looks like the regularized model is slightly better as measured by AUC, and in fact it is (0.807 vs. 0.801 for the unregularized version).  This is not always the pattern, and this could certainly be improved by tuning the regularization hyperparameter to improve out-of-sample prediction (which was not done here)."
   ]
  },
  {
   "cell_type": "code",
   "execution_count": null,
   "metadata": {},
   "outputs": [],
   "source": []
  }
 ],
 "metadata": {
  "anaconda-cloud": {},
  "kernelspec": {
   "display_name": "Python 3",
   "language": "python",
   "name": "python3"
  },
  "language_info": {
   "codemirror_mode": {
    "name": "ipython",
    "version": 3
   },
   "file_extension": ".py",
   "mimetype": "text/x-python",
   "name": "python",
   "nbconvert_exporter": "python",
   "pygments_lexer": "ipython3",
   "version": "3.7.6"
  }
 },
 "nbformat": 4,
 "nbformat_minor": 1
}
