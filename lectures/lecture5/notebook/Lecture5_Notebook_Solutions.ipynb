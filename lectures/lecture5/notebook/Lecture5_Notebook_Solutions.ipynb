{
 "cells": [
  {
   "cell_type": "markdown",
   "metadata": {},
   "source": [
    "# <img style=\"float: left; padding-right: 10px; width: 45px\" src=\"https://github.com/Harvard-IACS/2021-s109a/blob/master/lectures/crest.png?raw=true\"> CS-S109A Introduction to Data Science \n",
    "\n",
    "## Lecture 5: Cross-Validation and Regularization\n",
    "\n",
    "**Harvard University**<br>\n",
    "**Summer 2021**<br>\n",
    "**Instructors:** Kevin Rader<br>\n",
    "**Authors:** Rahul Dave, David Sondak, Will Claybaugh, Pavlos Protopapas, Chris Tanner, Kevin Rader\n",
    "\n",
    "---"
   ]
  },
  {
   "cell_type": "code",
   "execution_count": 1,
   "metadata": {},
   "outputs": [
    {
     "data": {
      "text/html": [
       "<style>\n",
       "blockquote { background: #AEDE94; }\n",
       "h1 { \n",
       "    padding-top: 25px;\n",
       "    padding-bottom: 25px;\n",
       "    text-align: left; \n",
       "    padding-left: 10px;\n",
       "    background-color: #DDDDDD; \n",
       "    color: black;\n",
       "}\n",
       "h2 { \n",
       "    padding-top: 10px;\n",
       "    padding-bottom: 10px;\n",
       "    text-align: left; \n",
       "    padding-left: 5px;\n",
       "    background-color: #EEEEEE; \n",
       "    color: black;\n",
       "}\n",
       "\n",
       "div.exercise {\n",
       "\tbackground-color: #ffcccc;\n",
       "\tborder-color: #E9967A; \t\n",
       "\tborder-left: 5px solid #800080; \n",
       "\tpadding: 0.5em;\n",
       "}\n",
       "\n",
       "div.exercise-r {\n",
       "\tbackground-color: #fce8e8;\n",
       "\tborder-color: #E9967A; \t\n",
       "\tborder-left: 5px solid #800080; \n",
       "\tpadding: 0.5em;\n",
       "}\n",
       "\n",
       "\n",
       "span.sub-q {\n",
       "\tfont-weight: bold;\n",
       "}\n",
       "div.theme {\n",
       "\tbackground-color: #DDDDDD;\n",
       "\tborder-color: #E9967A; \t\n",
       "\tborder-left: 5px solid #800080; \n",
       "\tpadding: 0.5em;\n",
       "\tfont-size: 18pt;\n",
       "}\n",
       "div.gc { \n",
       "\tbackground-color: #AEDE94;\n",
       "\tborder-color: #E9967A; \t \n",
       "\tborder-left: 5px solid #800080; \n",
       "\tpadding: 0.5em;\n",
       "\tfont-size: 12pt;\n",
       "}\n",
       "p.q1 { \n",
       "    padding-top: 5px;\n",
       "    padding-bottom: 5px;\n",
       "    text-align: left; \n",
       "    padding-left: 5px;\n",
       "    background-color: #EEEEEE; \n",
       "    color: black;\n",
       "}\n",
       "header {\n",
       "   padding-top: 35px;\n",
       "    padding-bottom: 35px;\n",
       "    text-align: left; \n",
       "    padding-left: 10px;\n",
       "    background-color: #DDDDDD; \n",
       "    color: black;\n",
       "}\n",
       "</style>\n",
       "\n"
      ],
      "text/plain": [
       "<IPython.core.display.HTML object>"
      ]
     },
     "execution_count": 1,
     "metadata": {},
     "output_type": "execute_result"
    }
   ],
   "source": [
    "## RUN THIS CELL TO GET THE RIGHT FORMATTING \n",
    "import requests\n",
    "from IPython.core.display import HTML\n",
    "styles = requests.get(\"https://raw.githubusercontent.com/Harvard-IACS/2018-CS109A/master/content/styles/cs109.css\").text\n",
    "HTML(styles)"
   ]
  },
  {
   "cell_type": "markdown",
   "metadata": {},
   "source": [
    "# Table of Contents \n",
    "<ol start=\"0\">\n",
    "<li> Learning Goals </li>\n",
    "<li> Cross-Validation</li>\n",
    "<li> Data Augmentation</li>    \n",
    "<li> Regulatization (Ridge and Lasso)</li>\n",
    "<li> Tuning the $\\lambda$ parameter</li>\n",
    "    "
   ]
  },
  {
   "cell_type": "markdown",
   "metadata": {},
   "source": [
    "## Learning Goals\n",
    "\n",
    "This Jupyter notebook accompanies Lecture 5. By the end of this lecture, you should be able to:\n",
    "\n",
    "- Know how to manually perform random subsets cross-validation\n",
    "- Perform $k$-fold cross-v alidation both manually and using provided libraries\n",
    "- Perform both forms of regularization (Ridge and LASSO) and understand the most basic use differences\n"
   ]
  },
  {
   "cell_type": "code",
   "execution_count": 2,
   "metadata": {},
   "outputs": [],
   "source": [
    "%matplotlib inline\n",
    "import numpy as np\n",
    "import matplotlib.pyplot as plt\n",
    "import pandas as pd\n",
    "import seaborn as sns\n",
    "import sklearn as sk\n",
    "from sklearn.linear_model import LinearRegression\n",
    "from sklearn.preprocessing import PolynomialFeatures\n",
    "import statsmodels as sm\n",
    "import statsmodels.regression.linear_model as lm\n",
    "\n",
    "from sklearn.model_selection import KFold\n",
    "\n",
    "from sklearn.linear_model import RidgeCV\n",
    "from sklearn.linear_model import Ridge\n",
    "from sklearn.linear_model import LassoCV\n",
    "from sklearn.linear_model import Lasso\n",
    "\n",
    "pd.set_option('display.width', 500)\n",
    "pd.set_option('display.max_columns', 100)"
   ]
  },
  {
   "cell_type": "markdown",
   "metadata": {},
   "source": [
    "## Part 0: Reading the data \n",
    "\n",
    "We will be using the same data as last week (both the train and test splits): modeling `votergap` from the 2020 election (Biden-Trump) from many predictors in the `county_election_20` dataset.\n",
    "\n",
    "We start by reading in the datasets for you and refitting some regression models from last week:\n",
    "\n",
    "**Important note: use the training dataset for all exploratory analysis and model fitting.  Only use the test dataset to evaluate and compare models.**\n"
   ]
  },
  {
   "cell_type": "code",
   "execution_count": 3,
   "metadata": {},
   "outputs": [
    {
     "name": "stderr",
     "output_type": "stream",
     "text": [
      "/Users/kevinrader/opt/anaconda3/lib/python3.7/site-packages/pandas/core/indexing.py:670: SettingWithCopyWarning: \n",
      "A value is trying to be set on a copy of a slice from a DataFrame\n",
      "\n",
      "See the caveats in the documentation: https://pandas.pydata.org/pandas-docs/stable/user_guide/indexing.html#returning-a-view-versus-a-copy\n",
      "  self._setitem_with_indexer(indexer, value)\n"
     ]
    }
   ],
   "source": [
    "\n",
    "train = pd.read_csv(\"../data/county_election_20_train.csv\")\n",
    "test = pd.read_csv(\"../data/county_election_20_test.csv\")\n",
    "\n",
    "#creating Y\n",
    "votergap_train = 100*(train['biden_perc']-train['trump_perc'])\n",
    "votergap_test = 100*(test['biden_perc']-test['trump_perc'])\n",
    "\n",
    "train['votergap'] = votergap_train\n",
    "test['votergap'] = votergap_test\n",
    "\n",
    "\n",
    "#recall we log-transformed several of the variables and did a little imputation in cancer variable (with the median)\n",
    "train['log_density'] = np.float64(np.log(train['density']))\n",
    "train['log_minority'] = np.float64(np.log(train['minority']))\n",
    "train['log_population'] = np.log(train['population'])\n",
    "train['log_hispanic'] = np.log(train['hispanic'])\n",
    "\n",
    "test['log_density'] = np.float64(np.log(test['density']))\n",
    "test['log_minority'] = np.float64(np.log(test['minority']))\n",
    "test['log_population'] = np.log(test['population'])\n",
    "test['log_hispanic'] = np.log(test['hispanic'])\n",
    "\n",
    "# imputing median cancer rate for the 40 or so counties with missing cancer rates\n",
    "train['cancer'].loc[train['cancer'].isnull()] = np.median(train['cancer'])\n",
    "test['cancer'].loc[test['cancer'].isnull()] = np.median(train['cancer'])\n",
    "\n"
   ]
  },
  {
   "cell_type": "markdown",
   "metadata": {},
   "source": [
    "**Q0.1** How were missing values imputed for the variable `cancer` in the test set?  Why was this choice made?"
   ]
  },
  {
   "cell_type": "markdown",
   "metadata": {},
   "source": [
    "**Solution:**\n",
    "\n",
    "The median of the train set was used as the imputed value on the test set.  This was done because the same value should be imputed in both sets, and the test set should not be analyzed (like calculating its median cancer rate) prior to the final step. "
   ]
  },
  {
   "cell_type": "code",
   "execution_count": 4,
   "metadata": {},
   "outputs": [
    {
     "name": "stdout",
     "output_type": "stream",
     "text": [
      "R-squared on the test set for the main effects model: 0.6245067302927106\n"
     ]
    }
   ],
   "source": [
    "# and we fit the simple regression model for y = votergap and x = log_density in both sklearn and statmodels\n",
    "\n",
    "predictors = ['log_population','log_hispanic', 'log_minority', 'female', \n",
    "             'unemployed', 'income', 'nodegree', 'bachelor', 'inactivity', 'obesity', 'log_density']\n",
    "X_train = train[predictors]\n",
    "X_test = test[predictors]\n",
    "\n",
    "regress_maineffects = LinearRegression(fit_intercept=True).fit(X_train, train['votergap'])\n",
    "\n",
    "r2_test_maineffects = sk.metrics.r2_score(test['votergap'], regress_maineffects.predict(X_test))\n",
    "print(\"R-squared on the test set for the main effects model:\", r2_test_maineffects)"
   ]
  },
  {
   "cell_type": "code",
   "execution_count": 5,
   "metadata": {},
   "outputs": [
    {
     "name": "stdout",
     "output_type": "stream",
     "text": [
      "There are 55 interaction terms in the design matrix for this model.\n",
      "R-squared on the test set for the full interaction model: 0.7337869345057926\n"
     ]
    }
   ],
   "source": [
    "# And then we fit a model to \n",
    "\n",
    "X_interact = PolynomialFeatures(2, interaction_only=False, include_bias=True).fit_transform(train[predictors])\n",
    "print(\"There are\", X_interact.shape[1]-2*train[predictors].shape[1]-1,\"interaction terms in the design matrix for this model.\")\n",
    "\n",
    "regress_interact = LinearRegression(fit_intercept=False).fit(X_interact, train['votergap'])\n",
    "\n",
    "r2_test_interact = sk.metrics.r2_score(test['votergap'], regress_interact.predict(\n",
    "    PolynomialFeatures(2, interaction_only=False, include_bias=True).fit_transform(test[predictors])))\n",
    "print(\"R-squared on the test set for the full interaction model:\", r2_test_interact)"
   ]
  },
  {
   "cell_type": "code",
   "execution_count": 6,
   "metadata": {},
   "outputs": [
    {
     "name": "stdout",
     "output_type": "stream",
     "text": [
      "Predictor#: 35 with associated p-value of 0.9452514196341012\n",
      "Predictor#: 19 with associated p-value of 0.9326043836265812\n",
      "Predictor#: 29 with associated p-value of 0.8087734967343886\n",
      "Predictor#: 44 with associated p-value of 0.7844650646133605\n",
      "Predictor#: 21 with associated p-value of 0.6906477299150697\n",
      "Predictor#: 72 with associated p-value of 0.6967088552114471\n",
      "Predictor#: 6 with associated p-value of 0.6856588515238984\n",
      "Predictor#: 67 with associated p-value of 0.6546503210387729\n",
      "Predictor#: 38 with associated p-value of 0.5920742318281715\n",
      "Predictor#: 33 with associated p-value of 0.6155444855799296\n",
      "Predictor#: 6 with associated p-value of 0.6343628058423352\n",
      "Predictor#: 21 with associated p-value of 0.665270644184714\n",
      "Predictor#: 63 with associated p-value of 0.581215645828604\n",
      "Predictor#: 38 with associated p-value of 0.5704653351026205\n",
      "Predictor#: 8 with associated p-value of 0.7500473412295154\n",
      "Predictor#: 43 with associated p-value of 0.568265370931275\n",
      "Predictor#: 25 with associated p-value of 0.4828589579534329\n",
      "Predictor#: 51 with associated p-value of 0.33931087176819796\n",
      "Predictor#: 42 with associated p-value of 0.3293753022631346\n",
      "Predictor#: 8 with associated p-value of 0.340433122292788\n",
      "Predictor#: 31 with associated p-value of 0.2992899648021815\n",
      "Predictor#: 20 with associated p-value of 0.3072637612229694\n",
      "Predictor#: 15 with associated p-value of 0.20244447864673248\n",
      "Predictor#: 1 with associated p-value of 0.18884568969484392\n",
      "Predictor#: 47 with associated p-value of 0.20578432746491138\n",
      "Predictor#: 42 with associated p-value of 0.2409249301614193\n",
      "Predictor#: 48 with associated p-value of 0.4638421509839473\n",
      "Predictor#: 50 with associated p-value of 0.3070111529099313\n",
      "Predictor#: 27 with associated p-value of 0.23120561183222152\n",
      "Predictor#: 7 with associated p-value of 0.17944565768443294\n",
      "Predictor#: 4 with associated p-value of 0.1256761637074108\n",
      "Predictor#: 29 with associated p-value of 0.19051709072975415\n",
      "Predictor#: 4 with associated p-value of 0.1862054773241938\n",
      "Predictor#: 16 with associated p-value of 0.20126130332420014\n",
      "Predictor#: 40 with associated p-value of 0.2150337074100585\n",
      "Predictor#: 31 with associated p-value of 0.11712599423440324\n",
      "Predictor#: 23 with associated p-value of 0.146977559153411\n",
      "Predictor#: 33 with associated p-value of 0.10235563594716433\n",
      "Predictor#: 15 with associated p-value of 0.11324850232984562\n",
      "Predictor#: 38 with associated p-value of 0.135867609396214\n",
      "Predictor#: 26 with associated p-value of 0.05093658939275764\n",
      "Predictor#: 25 with associated p-value of 0.06146785003853954\n",
      "Predictor#: 28 with associated p-value of 0.06702544525180595\n",
      "R-squared on the test set for the full interaction model: 0.7335927970531275\n"
     ]
    }
   ],
   "source": [
    "# And lastly we did variable selection on this full model with interaction (backwards sequential variable selection)\n",
    "\n",
    "df_backwards = pd.DataFrame(X_interact)\n",
    "cutoff = 0.05\n",
    "\n",
    "for i in np.arange(df_backwards.shape[1]):\n",
    "    model_temp = lm.OLS(train['votergap'],df_backwards).fit()\n",
    "    if(np.max(model_temp.pvalues) > cutoff):\n",
    "        print(\"Predictor#:\", np.argmax(model_temp.pvalues), \"with associated p-value of\" ,np.max(model_temp.pvalues))\n",
    "        df_backwards = df_backwards.drop(df_backwards.columns[np.argmax(model_temp.pvalues)],axis=1)\n",
    "    else:\n",
    "        break\n",
    "\n",
    "regress_backwards = LinearRegression(fit_intercept=False).fit(df_backwards, train['votergap'])\n",
    "df_backwards.shape\n",
    "\n",
    "X_interact_test = PolynomialFeatures(2, interaction_only=False, include_bias=True).fit_transform(test[predictors])\n",
    "X_backwards_test = pd.DataFrame(X_interact_test)[df_backwards.columns]\n",
    "\n",
    "r2_test_backwards = sk.metrics.r2_score(test['votergap'], regress_backwards.predict(X_backwards_test))\n",
    "print(\"R-squared on the test set for the full interaction model:\", r2_test_backwards)"
   ]
  },
  {
   "cell_type": "code",
   "execution_count": 7,
   "metadata": {},
   "outputs": [
    {
     "data": {
      "text/plain": [
       "Int64Index([0, 2, 3, 4, 9, 13, 14, 15, 16, 17, 18, 21, 23, 24, 26, 31, 33, 34, 36, 37, 39, 40, 45, 46, 49, 53, 54, 58, 60, 63, 64, 66, 67, 70, 72], dtype='int64')"
      ]
     },
     "execution_count": 7,
     "metadata": {},
     "output_type": "execute_result"
    }
   ],
   "source": [
    "df_backwards.columns"
   ]
  },
  {
   "cell_type": "markdown",
   "metadata": {},
   "source": [
    "**Q0.2** Play around with the critical p-value cut-off for keeping variables.  What does this say about using 0.05 as the cut-off?  Will this generalize to all situations?"
   ]
  },
  {
   "cell_type": "markdown",
   "metadata": {},
   "source": [
    "**Solution:**\n",
    "\n",
    "Playing around with the p-value cut-off for what should be removed does have a bearing on the predictive ability in the test set, but it there is no real pattern as to whether a higher cut-off will lower the predictive ability (at least with reasonable values for cut=-offs).  "
   ]
  },
  {
   "cell_type": "markdown",
   "metadata": {},
   "source": [
    "---"
   ]
  },
  {
   "cell_type": "markdown",
   "metadata": {},
   "source": [
    "## Part 1: Basic Cross-Validation\n",
    "\n",
    "3 models were built above, and a single test-set was used to determine which was best for out-of-sample prediction.  Let's instead use cross-validation to decide which of the 3 models is best."
   ]
  },
  {
   "cell_type": "code",
   "execution_count": 8,
   "metadata": {},
   "outputs": [],
   "source": [
    "np.random.RandomState(109)\n",
    "\n",
    "n_folds = 10\n",
    "k_fold = KFold(n_folds, random_state=109, shuffle=True)\n",
    "y_train = train['votergap']\n",
    "X_backwards = df_backwards\n",
    "X_interact = pd.DataFrame(X_interact)\n",
    "\n",
    "r2_cv_maineffects = []\n",
    "r2_cv_interact = []\n",
    "r2_cv_backwards = []\n",
    "\n",
    "for traincv_index, testcv_index in k_fold.split(X_train):\n",
    "    y_traincv, y_testcv = y_train[traincv_index], y_train[testcv_index]\n",
    "        \n",
    "    X_maineffects_traincv, X_maineffects_testcv = X_train.loc[traincv_index], X_train.loc[testcv_index]\n",
    "    X_interact_traincv, X_interact_testcv = X_interact.loc[traincv_index], X_interact.loc[testcv_index]\n",
    "    X_backwards_traincv, X_backwards_testcv = X_backwards.loc[traincv_index], X_backwards.loc[testcv_index]\n",
    "\n",
    "    model1 = LinearRegression(fit_intercept=True).fit(X_maineffects_traincv, y_traincv)\n",
    "    model2 = LinearRegression(fit_intercept=True).fit(X_interact_traincv, y_traincv)\n",
    "    model3 = LinearRegression(fit_intercept=True).fit(X_backwards_traincv, y_traincv)\n",
    "\n",
    "    r2_cv_maineffects.append(sk.metrics.r2_score(y_testcv, model1.predict(X_maineffects_testcv)))\n",
    "    r2_cv_interact.append(sk.metrics.r2_score(y_testcv, model2.predict(X_interact_testcv)))\n",
    "    r2_cv_backwards.append(sk.metrics.r2_score(y_testcv, model3.predict(X_backwards_testcv)))"
   ]
  },
  {
   "cell_type": "markdown",
   "metadata": {},
   "source": [
    "**Q1.1** Evaluate which of the 3 models considered above are best for out-of-sample prediction (both numerically and visually).  Does this agree with using the original test set?"
   ]
  },
  {
   "cell_type": "code",
   "execution_count": 9,
   "metadata": {},
   "outputs": [
    {
     "name": "stdout",
     "output_type": "stream",
     "text": [
      "0.6401775233403887\n",
      "0.7528750471262587\n",
      "0.7575961524405948\n"
     ]
    },
    {
     "data": {
      "image/png": "[encoded data removed]",
      "text/plain": [
       "<Figure size 432x288 with 1 Axes>"
      ]
     },
     "metadata": {
      "needs_background": "light"
     },
     "output_type": "display_data"
    }
   ],
   "source": [
    "######\n",
    "# your code here\n",
    "######\n",
    "print(np.mean(r2_cv_maineffects))\n",
    "print(np.mean(r2_cv_interact))\n",
    "print(np.mean(r2_cv_backwards))\n",
    "\n",
    "plt.boxplot( [r2_cv_maineffects, r2_cv_interact, r2_cv_backwards])\n",
    "plt.show()"
   ]
  },
  {
   "cell_type": "markdown",
   "metadata": {},
   "source": [
    "**Solution:**\n",
    "\n",
    "The results of the backwards variable selection provide the highest accuracy in the validation sets, on average (barely better than the full interaction model).  This is not 100% in agreement with the results in the test set, which favored the larger model.  The CV approach is prefered as it does not rely on a single out-of-sample set to make this decision."
   ]
  },
  {
   "cell_type": "markdown",
   "metadata": {},
   "source": [
    "**Q1.2** Play around with $k$ in the $k$-fold cross-validation above.  Does the choice of the number of folds really matter?"
   ]
  },
  {
   "cell_type": "code",
   "execution_count": 10,
   "metadata": {},
   "outputs": [],
   "source": [
    "######\n",
    "# your code here\n",
    "######\n"
   ]
  },
  {
   "cell_type": "markdown",
   "metadata": {},
   "source": [
    "**Solution:**\n",
    "\n",
    "It has a bearing on the decistion, but just barely (usually the backwards model is chosen).  The boxplots can look very different though as a larger $k$ leads to much smaller validation sets, which will have more variation in the validation scoes (especially for more complkex models)."
   ]
  },
  {
   "cell_type": "markdown",
   "metadata": {},
   "source": [
    "**Q1.3** Build your own bootstrap cross-validation approach below (a skeleton is provided).  Do you see the same result comparing these 3 models?  What are the advantages to $k$-fold and random subsets/bootstrap cross-validation?"
   ]
  },
  {
   "cell_type": "code",
   "execution_count": 11,
   "metadata": {},
   "outputs": [],
   "source": [
    "\n",
    "nboots = 100\n",
    "n_train = train.shape[0]\n",
    "traincv_size = 0.8\n",
    "n_traincv = int(traincv_size*n_train)\n",
    "\n",
    "r2_cv_maineffects = []\n",
    "r2_cv_interact = []\n",
    "r2_cv_backwards = []\n",
    "\n",
    "for boot in np.arange(nboots):\n",
    "    random_indices = np.random.choice(n_train,n_train,replace=False)\n",
    "    traincv_index = random_indices[0:n_traincv]\n",
    "    testcv_index = random_indices[n_traincv:n_train]\n",
    "    \n",
    "    ######\n",
    "    # your code here\n",
    "    ######\n",
    "\n",
    "    y_traincv, y_testcv = y_train[traincv_index], y_train[testcv_index]\n",
    "        \n",
    "    X_maineffects_traincv, X_maineffects_testcv = X_train.loc[traincv_index], X_train.loc[testcv_index]\n",
    "    X_interact_traincv, X_interact_testcv = X_interact.loc[traincv_index], X_interact.loc[testcv_index]\n",
    "    X_backwards_traincv, X_backwards_testcv = X_backwards.loc[traincv_index], X_backwards.loc[testcv_index]\n",
    "\n",
    "    model1 = LinearRegression(fit_intercept=True).fit(X_maineffects_traincv, y_traincv)\n",
    "    model2 = LinearRegression(fit_intercept=True).fit(X_interact_traincv, y_traincv)\n",
    "    model3 = LinearRegression(fit_intercept=True).fit(X_backwards_traincv, y_traincv)\n",
    "\n",
    "    r2_cv_maineffects.append(sk.metrics.r2_score(y_testcv, model1.predict(X_maineffects_testcv)))\n",
    "    r2_cv_interact.append(sk.metrics.r2_score(y_testcv, model2.predict(X_interact_testcv)))\n",
    "    r2_cv_backwards.append(sk.metrics.r2_score(y_testcv, model3.predict(X_backwards_testcv)))"
   ]
  },
  {
   "cell_type": "code",
   "execution_count": 12,
   "metadata": {
    "scrolled": true
   },
   "outputs": [
    {
     "name": "stdout",
     "output_type": "stream",
     "text": [
      "0.6376119418351761\n",
      "0.7442647190644679\n",
      "0.7423159128464428\n"
     ]
    },
    {
     "data": {
      "image/png": "[encoded data removed]",
      "text/plain": [
       "<Figure size 432x288 with 1 Axes>"
      ]
     },
     "metadata": {
      "needs_background": "light"
     },
     "output_type": "display_data"
    }
   ],
   "source": [
    "######\n",
    "# your code here\n",
    "######\n",
    "print(np.mean(r2_cv_maineffects))\n",
    "print(np.mean(r2_cv_interact))\n",
    "print(np.mean(r2_cv_backwards))\n",
    "\n",
    "plt.boxplot( [r2_cv_maineffects, r2_cv_interact, r2_cv_backwards])\n",
    "plt.show()"
   ]
  },
  {
   "cell_type": "markdown",
   "metadata": {},
   "source": [
    "**Solution:**\n",
    "\n",
    "*k*-fold is more computationally efficient, while random subsets allows for more repetition to prevent the specific splitting having a bearing on choosing the 'best' model (without making the validation sets too small)."
   ]
  },
  {
   "cell_type": "markdown",
   "metadata": {},
   "source": [
    "## Part 2: Data augmentation\n",
    "\n",
    "In this section, we will create two different desgin matrices that will be used going forward for applying reularization to.  The first is a high-order (10) polynomial regression using `log-minority` only, and the second is a high-dimensional design matrix considering all factors."
   ]
  },
  {
   "cell_type": "code",
   "execution_count": 13,
   "metadata": {},
   "outputs": [
    {
     "name": "stdout",
     "output_type": "stream",
     "text": [
      "Beta0 = -72.33240028679661 , Beta1 = [-1.62092095e+01  1.36224752e+02 -6.42518154e+01 -1.91625347e+02\n",
      "  2.96762411e+02 -1.92188785e+02  6.89109676e+01 -1.43126184e+01\n",
      "  1.62122274e+00 -7.78012035e-02]\n"
     ]
    }
   ],
   "source": [
    "X_minority_poly = PolynomialFeatures(10, include_bias=False).fit_transform(train[['log_minority']])\n",
    "\n",
    "regress_minority_poly = LinearRegression(fit_intercept=True).fit(X_minority_poly , train['votergap'])\n",
    "print(\"Beta0 =\", regress_minority_poly.intercept_ ,\", Beta1 =\", regress_minority_poly.coef_)\n",
    "\n"
   ]
  },
  {
   "cell_type": "markdown",
   "metadata": {},
   "source": [
    "**Q2.1** Plot the predicted curves on top of the scatterplot of `votergap` vs. `log_minority`.  What do you notice?\n",
    "\n"
   ]
  },
  {
   "cell_type": "code",
   "execution_count": 14,
   "metadata": {},
   "outputs": [
    {
     "data": {
      "image/png": "[encoded data removed]",
      "text/plain": [
       "<Figure size 432x288 with 1 Axes>"
      ]
     },
     "metadata": {
      "needs_background": "light"
     },
     "output_type": "display_data"
    }
   ],
   "source": [
    "######\n",
    "# your code here\n",
    "######\n",
    "\n",
    "x_dummy = np.arange(np.min(train['log_minority']),np.max(train['log_minority']),0.1)\n",
    "x_dummy_poly = PolynomialFeatures(10, include_bias=False).fit_transform(pd.DataFrame(x_dummy))\n",
    "\n",
    "yhat_minority_poly = regress_minority_poly.predict(x_dummy_poly)\n",
    "\n",
    "plt.scatter(train['log_minority'],train['votergap'])\n",
    "plt.plot(x_dummy,yhat_minority_poly,c=\"r\",label=\"Poly(3) Regression\")\n",
    "\n",
    "plt.show()"
   ]
  },
  {
   "cell_type": "code",
   "execution_count": 15,
   "metadata": {},
   "outputs": [
    {
     "data": {
      "text/plain": [
       "array([-1.62092095e+01,  1.36224752e+02, -6.42518154e+01, -1.91625347e+02,\n",
       "        2.96762411e+02, -1.92188785e+02,  6.89109676e+01, -1.43126184e+01,\n",
       "        1.62122274e+00, -7.78012035e-02])"
      ]
     },
     "execution_count": 15,
     "metadata": {},
     "output_type": "execute_result"
    }
   ],
   "source": [
    "regress_minority_poly.coef_"
   ]
  },
  {
   "cell_type": "markdown",
   "metadata": {},
   "source": [
    "**Solution:**\n",
    "\n",
    "The prediction curve is more *wiggly* than ideally we'd see: there is too much overfitting to the two smallest points on the x-axis (`log-minority`), for example.  This model is likely too complex (and thus overfit to this training set)."
   ]
  },
  {
   "cell_type": "markdown",
   "metadata": {},
   "source": [
    "**Q2.2** Create a design matrix (call it `X_over`) with all the interactions and 4th-order polynomials based on the original list of 11 predictors: \n",
    "\n",
    "predictors = ['log_population','log_hispanic', 'log_minority', 'female', \n",
    "             'unemployed', 'income', 'nodegree', 'bachelor', 'inactivity', 'obesity', 'log_density']\n",
    "\n",
    "How many predictors does this create?  Justify this number mathematically (it is not easy)."
   ]
  },
  {
   "cell_type": "code",
   "execution_count": 16,
   "metadata": {},
   "outputs": [
    {
     "data": {
      "text/plain": [
       "(2491, 1364)"
      ]
     },
     "execution_count": 16,
     "metadata": {},
     "output_type": "execute_result"
    }
   ],
   "source": [
    "######\n",
    "# your code here: create X_over \n",
    "######\n",
    "\n",
    "X_over = PolynomialFeatures(4, include_bias=False).fit_transform(X_train)\n",
    "X_over_test = PolynomialFeatures(4, include_bias=False).fit_transform(X_test)\n",
    "X_over.shape\n"
   ]
  },
  {
   "cell_type": "markdown",
   "metadata": {},
   "source": [
    "**Solution:**\n",
    "\n",
    "We need to add up:\n",
    "- all the polynomial terms (linear, 2nd order, 3rd order, and 4th order): $4\\cdot11$\n",
    "- all the 2-way interactions $\\binom{11}{2}$\n",
    "- all the 2-way interactions involving (2nd order term or 3rd order term) with a linear term: $2\\times2\\times \\binom{11}{2}$\n",
    "- all the 2-way interactions involving two 2nd order terms: $\\binom{11}{2}$\n",
    "- all the 3-way interactions of linear terms $\\binom{11}{3}$\n",
    "- all the 3-way interactions involving two linear terms and a quadratic term $\\binom{11}{3}$\n",
    "- all the 4-way interactions $\\binom{11}{4}$\n",
    "\n",
    "\n",
    "$$  \\binom{11}{4} + 2\\times\\binom{11}{3} + 6\\times\\binom{11}{2} + 4\\times11 = 1364 $$"
   ]
  },
  {
   "cell_type": "markdown",
   "metadata": {},
   "source": [
    "**Q2.2** Fit the model using the over-parameterized design matrix above.  How does it perform on the test set?"
   ]
  },
  {
   "cell_type": "code",
   "execution_count": 17,
   "metadata": {},
   "outputs": [
    {
     "name": "stdout",
     "output_type": "stream",
     "text": [
      "R-squared on the test set for the overparameterized model: 0.7042706604152744\n"
     ]
    }
   ],
   "source": [
    "######\n",
    "# your code here\n",
    "######\n",
    "\n",
    "regress_over = LinearRegression(fit_intercept=True).fit(X_over , train['votergap'])\n",
    "\n",
    "r2_test_over = sk.metrics.r2_score(test['votergap'], regress_over.predict(X_over_test))\n",
    "print(\"R-squared on the test set for the overparameterized model:\", r2_test_over)\n"
   ]
  },
  {
   "cell_type": "markdown",
   "metadata": {},
   "source": [
    "## Part 3: Regularization: Ridge and LASSO\n",
    "\n",
    "In this part we will explore the effects of regularization on linear regression modeling.  First using the 10th order polynomial version of `log_minority`, then using the over-parameterized design matrix.\n"
   ]
  },
  {
   "cell_type": "markdown",
   "metadata": {},
   "source": [
    "**Q3.1** Fit a Ridge model with $\\alpha = 1$, $\\alpha = 10$, and a LASSO model with $\\alpha = 1$, and $\\alpha = 10$ using the `X_minority_poly` design matrix.  Compare the estimated coefficients for all 7 models (including the unregularized model)."
   ]
  },
  {
   "cell_type": "code",
   "execution_count": 18,
   "metadata": {},
   "outputs": [
    {
     "name": "stderr",
     "output_type": "stream",
     "text": [
      "/Users/kevinrader/opt/anaconda3/lib/python3.7/site-packages/sklearn/linear_model/_coordinate_descent.py:531: ConvergenceWarning: Objective did not converge. You might want to increase the number of iterations. Duality gap: 859387.670344771, tolerance: 247.9848241016775\n",
      "  positive)\n",
      "/Users/kevinrader/opt/anaconda3/lib/python3.7/site-packages/sklearn/linear_model/_coordinate_descent.py:531: ConvergenceWarning: Objective did not converge. You might want to increase the number of iterations. Duality gap: 734294.3861230422, tolerance: 247.9848241016775\n",
      "  positive)\n",
      "/Users/kevinrader/opt/anaconda3/lib/python3.7/site-packages/sklearn/linear_model/_coordinate_descent.py:531: ConvergenceWarning: Objective did not converge. You might want to increase the number of iterations. Duality gap: 763561.2194351222, tolerance: 247.9848241016775\n",
      "  positive)\n"
     ]
    },
    {
     "data": {
      "text/html": [
       "<div>\n",
       "<style scoped>\n",
       "    .dataframe tbody tr th:only-of-type {\n",
       "        vertical-align: middle;\n",
       "    }\n",
       "\n",
       "    .dataframe tbody tr th {\n",
       "        vertical-align: top;\n",
       "    }\n",
       "\n",
       "    .dataframe thead th {\n",
       "        text-align: right;\n",
       "    }\n",
       "</style>\n",
       "<table border=\"1\" class=\"dataframe\">\n",
       "  <thead>\n",
       "    <tr style=\"text-align: right;\">\n",
       "      <th></th>\n",
       "      <th>ols</th>\n",
       "      <th>ridge1</th>\n",
       "      <th>ridge10</th>\n",
       "      <th>ridge100</th>\n",
       "      <th>lasso1</th>\n",
       "      <th>lasso10</th>\n",
       "      <th>lasso100</th>\n",
       "    </tr>\n",
       "  </thead>\n",
       "  <tbody>\n",
       "    <tr>\n",
       "      <th>0</th>\n",
       "      <td>-16.209210</td>\n",
       "      <td>20.584221</td>\n",
       "      <td>7.836386</td>\n",
       "      <td>2.005654</td>\n",
       "      <td>0.000000e+00</td>\n",
       "      <td>0.000000</td>\n",
       "      <td>0.000000</td>\n",
       "    </tr>\n",
       "    <tr>\n",
       "      <th>1</th>\n",
       "      <td>136.224752</td>\n",
       "      <td>9.006740</td>\n",
       "      <td>4.954223</td>\n",
       "      <td>2.044807</td>\n",
       "      <td>1.630989e+00</td>\n",
       "      <td>0.000000</td>\n",
       "      <td>0.000000</td>\n",
       "    </tr>\n",
       "    <tr>\n",
       "      <th>2</th>\n",
       "      <td>-64.251815</td>\n",
       "      <td>-6.244910</td>\n",
       "      <td>0.197398</td>\n",
       "      <td>1.264978</td>\n",
       "      <td>1.375515e+00</td>\n",
       "      <td>0.000000</td>\n",
       "      <td>0.000000</td>\n",
       "    </tr>\n",
       "    <tr>\n",
       "      <th>3</th>\n",
       "      <td>-191.625347</td>\n",
       "      <td>-7.916862</td>\n",
       "      <td>-2.326542</td>\n",
       "      <td>0.164568</td>\n",
       "      <td>-9.974136e-02</td>\n",
       "      <td>0.490287</td>\n",
       "      <td>0.000000</td>\n",
       "    </tr>\n",
       "    <tr>\n",
       "      <th>4</th>\n",
       "      <td>296.762411</td>\n",
       "      <td>2.058233</td>\n",
       "      <td>-0.851545</td>\n",
       "      <td>-0.560737</td>\n",
       "      <td>-1.008450e-01</td>\n",
       "      <td>0.001525</td>\n",
       "      <td>0.000000</td>\n",
       "    </tr>\n",
       "    <tr>\n",
       "      <th>5</th>\n",
       "      <td>-192.188785</td>\n",
       "      <td>6.058779</td>\n",
       "      <td>1.621157</td>\n",
       "      <td>-0.227599</td>\n",
       "      <td>-1.405451e-03</td>\n",
       "      <td>-0.024053</td>\n",
       "      <td>0.028154</td>\n",
       "    </tr>\n",
       "    <tr>\n",
       "      <th>6</th>\n",
       "      <td>68.910968</td>\n",
       "      <td>-4.382962</td>\n",
       "      <td>-0.247273</td>\n",
       "      <td>0.684118</td>\n",
       "      <td>1.764230e-03</td>\n",
       "      <td>-0.003291</td>\n",
       "      <td>0.000000</td>\n",
       "    </tr>\n",
       "    <tr>\n",
       "      <th>7</th>\n",
       "      <td>-14.312618</td>\n",
       "      <td>1.191165</td>\n",
       "      <td>-0.200492</td>\n",
       "      <td>-0.389736</td>\n",
       "      <td>4.951203e-04</td>\n",
       "      <td>0.000191</td>\n",
       "      <td>-0.001314</td>\n",
       "    </tr>\n",
       "    <tr>\n",
       "      <th>8</th>\n",
       "      <td>1.621223</td>\n",
       "      <td>-0.141165</td>\n",
       "      <td>0.072990</td>\n",
       "      <td>0.088463</td>\n",
       "      <td>7.093040e-05</td>\n",
       "      <td>0.000138</td>\n",
       "      <td>-0.000048</td>\n",
       "    </tr>\n",
       "    <tr>\n",
       "      <th>9</th>\n",
       "      <td>-0.077801</td>\n",
       "      <td>0.005826</td>\n",
       "      <td>-0.006834</td>\n",
       "      <td>-0.007102</td>\n",
       "      <td>-6.661947e-07</td>\n",
       "      <td>0.000029</td>\n",
       "      <td>0.000035</td>\n",
       "    </tr>\n",
       "  </tbody>\n",
       "</table>\n",
       "</div>"
      ],
      "text/plain": [
       "          ols     ridge1   ridge10  ridge100        lasso1   lasso10  lasso100\n",
       "0  -16.209210  20.584221  7.836386  2.005654  0.000000e+00  0.000000  0.000000\n",
       "1  136.224752   9.006740  4.954223  2.044807  1.630989e+00  0.000000  0.000000\n",
       "2  -64.251815  -6.244910  0.197398  1.264978  1.375515e+00  0.000000  0.000000\n",
       "3 -191.625347  -7.916862 -2.326542  0.164568 -9.974136e-02  0.490287  0.000000\n",
       "4  296.762411   2.058233 -0.851545 -0.560737 -1.008450e-01  0.001525  0.000000\n",
       "5 -192.188785   6.058779  1.621157 -0.227599 -1.405451e-03 -0.024053  0.028154\n",
       "6   68.910968  -4.382962 -0.247273  0.684118  1.764230e-03 -0.003291  0.000000\n",
       "7  -14.312618   1.191165 -0.200492 -0.389736  4.951203e-04  0.000191 -0.001314\n",
       "8    1.621223  -0.141165  0.072990  0.088463  7.093040e-05  0.000138 -0.000048\n",
       "9   -0.077801   0.005826 -0.006834 -0.007102 -6.661947e-07  0.000029  0.000035"
      ]
     },
     "execution_count": 18,
     "metadata": {},
     "output_type": "execute_result"
    }
   ],
   "source": [
    "######\n",
    "# your code here\n",
    "######\n",
    "\n",
    "ridge_alpha1 = Ridge(alpha=1,fit_intercept=True).fit(X_minority_poly , train['votergap'])\n",
    "ridge_alpha10 = Ridge(alpha=10,fit_intercept=True).fit(X_minority_poly , train['votergap'])\n",
    "ridge_alpha100 = Ridge(alpha=100,fit_intercept=True).fit(X_minority_poly , train['votergap'])\n",
    "\n",
    "lasso_alpha1 = Lasso(alpha=1,fit_intercept=True,max_iter=1000).fit(X_minority_poly , train['votergap'])\n",
    "lasso_alpha10 = Lasso(alpha=10,fit_intercept=True,max_iter=1000).fit(X_minority_poly , train['votergap'])\n",
    "lasso_alpha100 = Lasso(alpha=100,fit_intercept=True,max_iter=1000).fit(X_minority_poly , train['votergap'])\n",
    "\n",
    "# We give you the nice table and graph\n",
    "pd.DataFrame(np.transpose([regress_minority_poly.coef_, ridge_alpha1.coef_,ridge_alpha10.coef_,ridge_alpha100.coef_,\n",
    "                          lasso_alpha1.coef_,lasso_alpha10.coef_,lasso_alpha100.coef_]),\n",
    "            columns = [\"ols\",\"ridge1\",\"ridge10\",\"ridge100\",\"lasso1\",\"lasso10\",\"lasso100\",])\n",
    "\n"
   ]
  },
  {
   "cell_type": "code",
   "execution_count": 19,
   "metadata": {},
   "outputs": [
    {
     "data": {
      "image/png": "[encoded data removed]",
      "text/plain": [
       "<Figure size 864x432 with 2 Axes>"
      ]
     },
     "metadata": {
      "needs_background": "light"
     },
     "output_type": "display_data"
    }
   ],
   "source": [
    "f, (ax1, ax2) = plt.subplots(1, 2, sharey=True, figsize = (12,6))\n",
    "\n",
    "ax1.plot([1,10,100],[ridge_alpha1.coef_,ridge_alpha10.coef_,ridge_alpha100.coef_],ls=\"--\")\n",
    "ax1.set_title('Ridge')\n",
    "ax2.plot([1,10,100],[lasso_alpha1.coef_,lasso_alpha10.coef_,lasso_alpha100.coef_],ls=\"-.\")\n",
    "ax2.set_title('Lasso')\n",
    "plt.show()"
   ]
  },
  {
   "cell_type": "markdown",
   "metadata": {},
   "source": [
    "**Solution:**\n",
    "\n",
    "Here we see the coefficients are shrunken the most with LASSO, and within either Ridge or LASSO, the larger the value for $\\alpha$ the more shrinking towards zero results.  Note: the OLS estimates were let off since they would have dominated the magnitudes of these estimates and made them all appear to be zero."
   ]
  },
  {
   "cell_type": "markdown",
   "metadata": {},
   "source": [
    "**Q3.3**  Plot the predictions (on top of the scatterplot) for all 5 models.  What do you notice?"
   ]
  },
  {
   "cell_type": "code",
   "execution_count": 20,
   "metadata": {},
   "outputs": [
    {
     "data": {
      "image/png": "[encoded data removed]",
      "text/plain": [
       "<Figure size 432x288 with 1 Axes>"
      ]
     },
     "metadata": {
      "needs_background": "light"
     },
     "output_type": "display_data"
    }
   ],
   "source": [
    "######\n",
    "# your code here\n",
    "######\n",
    "x_dummy_poly10 = PolynomialFeatures(10, include_bias=False).fit_transform(pd.DataFrame(x_dummy))\n",
    "yhat_minority_poly = regress_minority_poly.predict(x_dummy_poly10)\n",
    "yhat_ridge1 = ridge_alpha1.predict(x_dummy_poly10)\n",
    "yhat_ridge10 = ridge_alpha10.predict(x_dummy_poly10)\n",
    "yhat_lasso1 = lasso_alpha1.predict(x_dummy_poly10)\n",
    "yhat_lasso10 = lasso_alpha10.predict(x_dummy_poly10)\n",
    "\n",
    "\n",
    "plt.scatter(train['log_minority'],train['votergap'])\n",
    "plt.plot(x_dummy,yhat_minority_poly,c=\"r\",label=\"Poly(10) Regression\")\n",
    "plt.plot(x_dummy,yhat_ridge1,c=\"green\",label=\"Ridge1\")\n",
    "plt.plot(x_dummy,yhat_ridge10,c=\"orange\",label=\"Ridge10\")\n",
    "plt.plot(x_dummy,yhat_lasso1,c=\"purple\",label=\"Lasso1\")\n",
    "plt.plot(x_dummy,yhat_lasso10,c=\"yellow\",label=\"Lasso10\")\n",
    "plt.legend()\n",
    "\n",
    "plt.show()"
   ]
  },
  {
   "cell_type": "markdown",
   "metadata": {},
   "source": [
    "**Solution:**\n",
    "\n",
    "This shows that all of the 4 penalized models smooth out the 10$^{th}$ order polynomial similarly, but the LASSOs are smoothed out more than the ridges (due to many of the polynomial term coefficients being much smaller in magnitude).\n"
   ]
  },
  {
   "cell_type": "markdown",
   "metadata": {},
   "source": [
    "**Q3.3** For Ridge, *tune* the penalty terms using the test set.  Which value did you choose? How does this perform on the test set?"
   ]
  },
  {
   "cell_type": "code",
   "execution_count": 21,
   "metadata": {},
   "outputs": [
    {
     "name": "stdout",
     "output_type": "stream",
     "text": [
      "7.38905609893065\n"
     ]
    },
    {
     "name": "stderr",
     "output_type": "stream",
     "text": [
      "/Users/kevinrader/opt/anaconda3/lib/python3.7/site-packages/sklearn/linear_model/_ridge.py:148: LinAlgWarning: Ill-conditioned matrix (rcond=2.45508e-19): result may not be accurate.\n",
      "  overwrite_a=True).T\n",
      "/Users/kevinrader/opt/anaconda3/lib/python3.7/site-packages/sklearn/linear_model/_ridge.py:148: LinAlgWarning: Ill-conditioned matrix (rcond=3.67413e-19): result may not be accurate.\n",
      "  overwrite_a=True).T\n",
      "/Users/kevinrader/opt/anaconda3/lib/python3.7/site-packages/sklearn/linear_model/_ridge.py:148: LinAlgWarning: Ill-conditioned matrix (rcond=6.99207e-19): result may not be accurate.\n",
      "  overwrite_a=True).T\n",
      "/Users/kevinrader/opt/anaconda3/lib/python3.7/site-packages/sklearn/linear_model/_ridge.py:148: LinAlgWarning: Ill-conditioned matrix (rcond=1.6026e-18): result may not be accurate.\n",
      "  overwrite_a=True).T\n",
      "/Users/kevinrader/opt/anaconda3/lib/python3.7/site-packages/sklearn/linear_model/_ridge.py:148: LinAlgWarning: Ill-conditioned matrix (rcond=4.06987e-18): result may not be accurate.\n",
      "  overwrite_a=True).T\n",
      "/Users/kevinrader/opt/anaconda3/lib/python3.7/site-packages/sklearn/linear_model/_ridge.py:148: LinAlgWarning: Ill-conditioned matrix (rcond=1.08465e-17): result may not be accurate.\n",
      "  overwrite_a=True).T\n",
      "/Users/kevinrader/opt/anaconda3/lib/python3.7/site-packages/sklearn/linear_model/_ridge.py:148: LinAlgWarning: Ill-conditioned matrix (rcond=3.31448e-17): result may not be accurate.\n",
      "  overwrite_a=True).T\n",
      "/Users/kevinrader/opt/anaconda3/lib/python3.7/site-packages/sklearn/linear_model/_ridge.py:148: LinAlgWarning: Ill-conditioned matrix (rcond=8.18537e-17): result may not be accurate.\n",
      "  overwrite_a=True).T\n"
     ]
    }
   ],
   "source": [
    "######\n",
    "# your code here\n",
    "######\n",
    "\n",
    "alphas = np.exp(np.arange(-10,10,1))\n",
    "r2_ridges_test = []\n",
    "X_minority_poly_test = PolynomialFeatures(10, include_bias=False).fit_transform(test[['log_minority']])\n",
    "\n",
    "for alpha in alphas:\n",
    "    ridge = Ridge(alpha=alpha,fit_intercept=True,max_iter=100000).fit(X_minority_poly , train['votergap'])\n",
    "    r2_ridges_test.append(sk.metrics.r2_score(test['votergap'], ridge.predict(X_minority_poly_test)))\n",
    "\n",
    "\n",
    "\n",
    "print(alphas[np.argmax(r2_ridges_test)])  \n"
   ]
  },
  {
   "cell_type": "code",
   "execution_count": 22,
   "metadata": {},
   "outputs": [
    {
     "data": {
      "text/plain": [
       "2.0"
      ]
     },
     "execution_count": 22,
     "metadata": {},
     "output_type": "execute_result"
    }
   ],
   "source": [
    "np.log(alphas[np.argmax(r2_ridges_test)])"
   ]
  },
  {
   "cell_type": "markdown",
   "metadata": {},
   "source": [
    "Ignoring the warning signs, the best chosen penalty term of those considered is $e^3 = 20.08$ using the test set to choose between these models.\n"
   ]
  },
  {
   "cell_type": "markdown",
   "metadata": {},
   "source": [
    "## Part 4: Ridge and LASSO with CV\n",
    "\n",
    "In this part we will use cross-validation to *tune* the penalization term ($\\alpha$) in both ridge and LASSO regressions for the "
   ]
  },
  {
   "cell_type": "markdown",
   "metadata": {},
   "source": [
    "**Q4.1** Use [ridgeCV](https://scikit-learn.org/stable/modules/generated/sklearn.linear_model.RidgeCV.html) and [LassoCV](https://scikit-learn.org/stable/modules/generated/sklearn.linear_model.LassoCV.html) to tune the models using 5-fold cross-validation for the 10$^{th}$ order polynomial of `log_minority`.  You may need to play around with the values of $\\alpha$ you should consider. "
   ]
  },
  {
   "cell_type": "code",
   "execution_count": 23,
   "metadata": {},
   "outputs": [
    {
     "name": "stderr",
     "output_type": "stream",
     "text": [
      "/Users/kevinrader/opt/anaconda3/lib/python3.7/site-packages/sklearn/linear_model/_ridge.py:148: LinAlgWarning: Ill-conditioned matrix (rcond=2.62356e-19): result may not be accurate.\n",
      "  overwrite_a=True).T\n",
      "/Users/kevinrader/opt/anaconda3/lib/python3.7/site-packages/sklearn/linear_model/_ridge.py:148: LinAlgWarning: Ill-conditioned matrix (rcond=2.33306e-19): result may not be accurate.\n",
      "  overwrite_a=True).T\n",
      "/Users/kevinrader/opt/anaconda3/lib/python3.7/site-packages/sklearn/linear_model/_ridge.py:148: LinAlgWarning: Ill-conditioned matrix (rcond=1.83593e-19): result may not be accurate.\n",
      "  overwrite_a=True).T\n",
      "/Users/kevinrader/opt/anaconda3/lib/python3.7/site-packages/sklearn/linear_model/_ridge.py:148: LinAlgWarning: Ill-conditioned matrix (rcond=2.80593e-19): result may not be accurate.\n",
      "  overwrite_a=True).T\n",
      "/Users/kevinrader/opt/anaconda3/lib/python3.7/site-packages/sklearn/linear_model/_ridge.py:148: LinAlgWarning: Ill-conditioned matrix (rcond=2.81614e-19): result may not be accurate.\n",
      "  overwrite_a=True).T\n",
      "/Users/kevinrader/opt/anaconda3/lib/python3.7/site-packages/sklearn/linear_model/_ridge.py:148: LinAlgWarning: Ill-conditioned matrix (rcond=4.06665e-19): result may not be accurate.\n",
      "  overwrite_a=True).T\n",
      "/Users/kevinrader/opt/anaconda3/lib/python3.7/site-packages/sklearn/linear_model/_ridge.py:148: LinAlgWarning: Ill-conditioned matrix (rcond=3.92709e-19): result may not be accurate.\n",
      "  overwrite_a=True).T\n",
      "/Users/kevinrader/opt/anaconda3/lib/python3.7/site-packages/sklearn/linear_model/_ridge.py:148: LinAlgWarning: Ill-conditioned matrix (rcond=3.28321e-19): result may not be accurate.\n",
      "  overwrite_a=True).T\n",
      "/Users/kevinrader/opt/anaconda3/lib/python3.7/site-packages/sklearn/linear_model/_ridge.py:148: LinAlgWarning: Ill-conditioned matrix (rcond=4.4484e-19): result may not be accurate.\n",
      "  overwrite_a=True).T\n",
      "/Users/kevinrader/opt/anaconda3/lib/python3.7/site-packages/sklearn/linear_model/_ridge.py:148: LinAlgWarning: Ill-conditioned matrix (rcond=4.33937e-19): result may not be accurate.\n",
      "  overwrite_a=True).T\n",
      "/Users/kevinrader/opt/anaconda3/lib/python3.7/site-packages/sklearn/linear_model/_ridge.py:148: LinAlgWarning: Ill-conditioned matrix (rcond=7.99007e-19): result may not be accurate.\n",
      "  overwrite_a=True).T\n",
      "/Users/kevinrader/opt/anaconda3/lib/python3.7/site-packages/sklearn/linear_model/_ridge.py:148: LinAlgWarning: Ill-conditioned matrix (rcond=8.26437e-19): result may not be accurate.\n",
      "  overwrite_a=True).T\n",
      "/Users/kevinrader/opt/anaconda3/lib/python3.7/site-packages/sklearn/linear_model/_ridge.py:148: LinAlgWarning: Ill-conditioned matrix (rcond=7.221e-19): result may not be accurate.\n",
      "  overwrite_a=True).T\n",
      "/Users/kevinrader/opt/anaconda3/lib/python3.7/site-packages/sklearn/linear_model/_ridge.py:148: LinAlgWarning: Ill-conditioned matrix (rcond=8.91639e-19): result may not be accurate.\n",
      "  overwrite_a=True).T\n",
      "/Users/kevinrader/opt/anaconda3/lib/python3.7/site-packages/sklearn/linear_model/_ridge.py:148: LinAlgWarning: Ill-conditioned matrix (rcond=8.48062e-19): result may not be accurate.\n",
      "  overwrite_a=True).T\n",
      "/Users/kevinrader/opt/anaconda3/lib/python3.7/site-packages/sklearn/linear_model/_ridge.py:148: LinAlgWarning: Ill-conditioned matrix (rcond=1.8675e-18): result may not be accurate.\n",
      "  overwrite_a=True).T\n",
      "/Users/kevinrader/opt/anaconda3/lib/python3.7/site-packages/sklearn/linear_model/_ridge.py:148: LinAlgWarning: Ill-conditioned matrix (rcond=2.00801e-18): result may not be accurate.\n",
      "  overwrite_a=True).T\n",
      "/Users/kevinrader/opt/anaconda3/lib/python3.7/site-packages/sklearn/linear_model/_ridge.py:148: LinAlgWarning: Ill-conditioned matrix (rcond=1.79647e-18): result may not be accurate.\n",
      "  overwrite_a=True).T\n",
      "/Users/kevinrader/opt/anaconda3/lib/python3.7/site-packages/sklearn/linear_model/_ridge.py:148: LinAlgWarning: Ill-conditioned matrix (rcond=2.1083e-18): result may not be accurate.\n",
      "  overwrite_a=True).T\n",
      "/Users/kevinrader/opt/anaconda3/lib/python3.7/site-packages/sklearn/linear_model/_ridge.py:148: LinAlgWarning: Ill-conditioned matrix (rcond=1.97608e-18): result may not be accurate.\n",
      "  overwrite_a=True).T\n",
      "/Users/kevinrader/opt/anaconda3/lib/python3.7/site-packages/sklearn/linear_model/_ridge.py:148: LinAlgWarning: Ill-conditioned matrix (rcond=4.7867e-18): result may not be accurate.\n",
      "  overwrite_a=True).T\n",
      "/Users/kevinrader/opt/anaconda3/lib/python3.7/site-packages/sklearn/linear_model/_ridge.py:148: LinAlgWarning: Ill-conditioned matrix (rcond=5.2401e-18): result may not be accurate.\n",
      "  overwrite_a=True).T\n",
      "/Users/kevinrader/opt/anaconda3/lib/python3.7/site-packages/sklearn/linear_model/_ridge.py:148: LinAlgWarning: Ill-conditioned matrix (rcond=4.74483e-18): result may not be accurate.\n",
      "  overwrite_a=True).T\n",
      "/Users/kevinrader/opt/anaconda3/lib/python3.7/site-packages/sklearn/linear_model/_ridge.py:148: LinAlgWarning: Ill-conditioned matrix (rcond=5.43209e-18): result may not be accurate.\n",
      "  overwrite_a=True).T\n",
      "/Users/kevinrader/opt/anaconda3/lib/python3.7/site-packages/sklearn/linear_model/_ridge.py:148: LinAlgWarning: Ill-conditioned matrix (rcond=5.05791e-18): result may not be accurate.\n",
      "  overwrite_a=True).T\n",
      "/Users/kevinrader/opt/anaconda3/lib/python3.7/site-packages/sklearn/linear_model/_ridge.py:148: LinAlgWarning: Ill-conditioned matrix (rcond=1.27982e-17): result may not be accurate.\n",
      "  overwrite_a=True).T\n",
      "/Users/kevinrader/opt/anaconda3/lib/python3.7/site-packages/sklearn/linear_model/_ridge.py:148: LinAlgWarning: Ill-conditioned matrix (rcond=1.40354e-17): result may not be accurate.\n",
      "  overwrite_a=True).T\n",
      "/Users/kevinrader/opt/anaconda3/lib/python3.7/site-packages/sklearn/linear_model/_ridge.py:148: LinAlgWarning: Ill-conditioned matrix (rcond=1.47052e-17): result may not be accurate.\n",
      "  overwrite_a=True).T\n",
      "/Users/kevinrader/opt/anaconda3/lib/python3.7/site-packages/sklearn/linear_model/_ridge.py:148: LinAlgWarning: Ill-conditioned matrix (rcond=1.45562e-17): result may not be accurate.\n",
      "  overwrite_a=True).T\n",
      "/Users/kevinrader/opt/anaconda3/lib/python3.7/site-packages/sklearn/linear_model/_ridge.py:148: LinAlgWarning: Ill-conditioned matrix (rcond=1.35179e-17): result may not be accurate.\n",
      "  overwrite_a=True).T\n",
      "/Users/kevinrader/opt/anaconda3/lib/python3.7/site-packages/sklearn/linear_model/_ridge.py:148: LinAlgWarning: Ill-conditioned matrix (rcond=3.84627e-17): result may not be accurate.\n",
      "  overwrite_a=True).T\n",
      "/Users/kevinrader/opt/anaconda3/lib/python3.7/site-packages/sklearn/linear_model/_ridge.py:148: LinAlgWarning: Ill-conditioned matrix (rcond=4.20228e-17): result may not be accurate.\n",
      "  overwrite_a=True).T\n",
      "/Users/kevinrader/opt/anaconda3/lib/python3.7/site-packages/sklearn/linear_model/_ridge.py:148: LinAlgWarning: Ill-conditioned matrix (rcond=3.66232e-17): result may not be accurate.\n",
      "  overwrite_a=True).T\n",
      "/Users/kevinrader/opt/anaconda3/lib/python3.7/site-packages/sklearn/linear_model/_ridge.py:148: LinAlgWarning: Ill-conditioned matrix (rcond=4.34194e-17): result may not be accurate.\n",
      "  overwrite_a=True).T\n",
      "/Users/kevinrader/opt/anaconda3/lib/python3.7/site-packages/sklearn/linear_model/_ridge.py:148: LinAlgWarning: Ill-conditioned matrix (rcond=4.06744e-17): result may not be accurate.\n",
      "  overwrite_a=True).T\n",
      "/Users/kevinrader/opt/anaconda3/lib/python3.7/site-packages/sklearn/linear_model/_ridge.py:148: LinAlgWarning: Ill-conditioned matrix (rcond=9.5832e-17): result may not be accurate.\n",
      "  overwrite_a=True).T\n",
      "/Users/kevinrader/opt/anaconda3/lib/python3.7/site-packages/sklearn/linear_model/_ridge.py:148: LinAlgWarning: Ill-conditioned matrix (rcond=1.05371e-16): result may not be accurate.\n",
      "  overwrite_a=True).T\n",
      "/Users/kevinrader/opt/anaconda3/lib/python3.7/site-packages/sklearn/linear_model/_ridge.py:148: LinAlgWarning: Ill-conditioned matrix (rcond=9.47655e-17): result may not be accurate.\n",
      "  overwrite_a=True).T\n",
      "/Users/kevinrader/opt/anaconda3/lib/python3.7/site-packages/sklearn/linear_model/_ridge.py:148: LinAlgWarning: Ill-conditioned matrix (rcond=1.08711e-16): result may not be accurate.\n",
      "  overwrite_a=True).T\n",
      "/Users/kevinrader/opt/anaconda3/lib/python3.7/site-packages/sklearn/linear_model/_ridge.py:148: LinAlgWarning: Ill-conditioned matrix (rcond=1.0125e-16): result may not be accurate.\n",
      "  overwrite_a=True).T\n",
      "/Users/kevinrader/opt/anaconda3/lib/python3.7/site-packages/sklearn/linear_model/_coordinate_descent.py:527: ConvergenceWarning: Objective did not converge. You might want to increase the number of iterations. Duality gap: 3174.4541240450926, tolerance: 201.23464266742474\n",
      "  tol, rng, random, positive)\n",
      "/Users/kevinrader/opt/anaconda3/lib/python3.7/site-packages/sklearn/linear_model/_coordinate_descent.py:527: ConvergenceWarning: Objective did not converge. You might want to increase the number of iterations. Duality gap: 39244.99517839728, tolerance: 201.23464266742474\n",
      "  tol, rng, random, positive)\n",
      "/Users/kevinrader/opt/anaconda3/lib/python3.7/site-packages/sklearn/linear_model/_coordinate_descent.py:527: ConvergenceWarning: Objective did not converge. You might want to increase the number of iterations. Duality gap: 1946.9259396744892, tolerance: 201.23464266742474\n",
      "  tol, rng, random, positive)\n",
      "/Users/kevinrader/opt/anaconda3/lib/python3.7/site-packages/sklearn/linear_model/_coordinate_descent.py:527: ConvergenceWarning: Objective did not converge. You might want to increase the number of iterations. Duality gap: 101980.63381864212, tolerance: 201.23464266742474\n",
      "  tol, rng, random, positive)\n",
      "/Users/kevinrader/opt/anaconda3/lib/python3.7/site-packages/sklearn/linear_model/_coordinate_descent.py:527: ConvergenceWarning: Objective did not converge. You might want to increase the number of iterations. Duality gap: 598653.610640173, tolerance: 201.23464266742474\n",
      "  tol, rng, random, positive)\n",
      "/Users/kevinrader/opt/anaconda3/lib/python3.7/site-packages/sklearn/linear_model/_coordinate_descent.py:527: ConvergenceWarning: Objective did not converge. You might want to increase the number of iterations. Duality gap: 659400.1162789342, tolerance: 201.23464266742474\n",
      "  tol, rng, random, positive)\n",
      "/Users/kevinrader/opt/anaconda3/lib/python3.7/site-packages/sklearn/linear_model/_coordinate_descent.py:527: ConvergenceWarning: Objective did not converge. You might want to increase the number of iterations. Duality gap: 667715.0500849499, tolerance: 201.23464266742474\n",
      "  tol, rng, random, positive)\n",
      "/Users/kevinrader/opt/anaconda3/lib/python3.7/site-packages/sklearn/linear_model/_coordinate_descent.py:527: ConvergenceWarning: Objective did not converge. You might want to increase the number of iterations. Duality gap: 666643.3741395455, tolerance: 201.23464266742474\n",
      "  tol, rng, random, positive)\n",
      "/Users/kevinrader/opt/anaconda3/lib/python3.7/site-packages/sklearn/linear_model/_coordinate_descent.py:527: ConvergenceWarning: Objective did not converge. You might want to increase the number of iterations. Duality gap: 692766.683495699, tolerance: 201.23464266742474\n",
      "  tol, rng, random, positive)\n",
      "/Users/kevinrader/opt/anaconda3/lib/python3.7/site-packages/sklearn/linear_model/_coordinate_descent.py:527: ConvergenceWarning: Objective did not converge. You might want to increase the number of iterations. Duality gap: 691519.9449992127, tolerance: 201.23464266742474\n",
      "  tol, rng, random, positive)\n",
      "/Users/kevinrader/opt/anaconda3/lib/python3.7/site-packages/sklearn/linear_model/_coordinate_descent.py:527: ConvergenceWarning: Objective did not converge. You might want to increase the number of iterations. Duality gap: 688193.9424697751, tolerance: 201.23464266742474\n",
      "  tol, rng, random, positive)\n",
      "/Users/kevinrader/opt/anaconda3/lib/python3.7/site-packages/sklearn/linear_model/_coordinate_descent.py:527: ConvergenceWarning: Objective did not converge. You might want to increase the number of iterations. Duality gap: 685460.357157836, tolerance: 201.23464266742474\n",
      "  tol, rng, random, positive)\n",
      "/Users/kevinrader/opt/anaconda3/lib/python3.7/site-packages/sklearn/linear_model/_coordinate_descent.py:527: ConvergenceWarning: Objective did not converge. You might want to increase the number of iterations. Duality gap: 684052.9502865818, tolerance: 201.23464266742474\n",
      "  tol, rng, random, positive)\n",
      "/Users/kevinrader/opt/anaconda3/lib/python3.7/site-packages/sklearn/linear_model/_coordinate_descent.py:527: ConvergenceWarning: Objective did not converge. You might want to increase the number of iterations. Duality gap: 683407.5586763544, tolerance: 201.23464266742474\n",
      "  tol, rng, random, positive)\n",
      "/Users/kevinrader/opt/anaconda3/lib/python3.7/site-packages/sklearn/linear_model/_coordinate_descent.py:527: ConvergenceWarning: Objective did not converge. You might want to increase the number of iterations. Duality gap: 683140.1156275845, tolerance: 201.23464266742474\n",
      "  tol, rng, random, positive)\n",
      "/Users/kevinrader/opt/anaconda3/lib/python3.7/site-packages/sklearn/linear_model/_coordinate_descent.py:527: ConvergenceWarning: Objective did not converge. You might want to increase the number of iterations. Duality gap: 683019.4563458234, tolerance: 201.23464266742474\n",
      "  tol, rng, random, positive)\n",
      "/Users/kevinrader/opt/anaconda3/lib/python3.7/site-packages/sklearn/linear_model/_coordinate_descent.py:527: ConvergenceWarning: Objective did not converge. You might want to increase the number of iterations. Duality gap: 682953.9759312506, tolerance: 201.23464266742474\n",
      "  tol, rng, random, positive)\n",
      "/Users/kevinrader/opt/anaconda3/lib/python3.7/site-packages/sklearn/linear_model/_coordinate_descent.py:527: ConvergenceWarning: Objective did not converge. You might want to increase the number of iterations. Duality gap: 682904.4614897615, tolerance: 201.23464266742474\n",
      "  tol, rng, random, positive)\n",
      "/Users/kevinrader/opt/anaconda3/lib/python3.7/site-packages/sklearn/linear_model/_coordinate_descent.py:527: ConvergenceWarning: Objective did not converge. You might want to increase the number of iterations. Duality gap: 682863.2056059624, tolerance: 201.23464266742474\n",
      "  tol, rng, random, positive)\n",
      "/Users/kevinrader/opt/anaconda3/lib/python3.7/site-packages/sklearn/linear_model/_coordinate_descent.py:527: ConvergenceWarning: Objective did not converge. You might want to increase the number of iterations. Duality gap: 682825.6717407291, tolerance: 201.23464266742474\n",
      "  tol, rng, random, positive)\n",
      "/Users/kevinrader/opt/anaconda3/lib/python3.7/site-packages/sklearn/linear_model/_coordinate_descent.py:527: ConvergenceWarning: Objective did not converge. You might want to increase the number of iterations. Duality gap: 3325.204158986453, tolerance: 199.07164367193903\n",
      "  tol, rng, random, positive)\n",
      "/Users/kevinrader/opt/anaconda3/lib/python3.7/site-packages/sklearn/linear_model/_coordinate_descent.py:527: ConvergenceWarning: Objective did not converge. You might want to increase the number of iterations. Duality gap: 33063.96514323726, tolerance: 199.07164367193903\n",
      "  tol, rng, random, positive)\n",
      "/Users/kevinrader/opt/anaconda3/lib/python3.7/site-packages/sklearn/linear_model/_coordinate_descent.py:527: ConvergenceWarning: Objective did not converge. You might want to increase the number of iterations. Duality gap: 3040.607937866822, tolerance: 199.07164367193903\n",
      "  tol, rng, random, positive)\n",
      "/Users/kevinrader/opt/anaconda3/lib/python3.7/site-packages/sklearn/linear_model/_coordinate_descent.py:527: ConvergenceWarning: Objective did not converge. You might want to increase the number of iterations. Duality gap: 170554.6730347058, tolerance: 199.07164367193903\n",
      "  tol, rng, random, positive)\n",
      "/Users/kevinrader/opt/anaconda3/lib/python3.7/site-packages/sklearn/linear_model/_coordinate_descent.py:527: ConvergenceWarning: Objective did not converge. You might want to increase the number of iterations. Duality gap: 603073.0174583287, tolerance: 199.07164367193903\n",
      "  tol, rng, random, positive)\n",
      "/Users/kevinrader/opt/anaconda3/lib/python3.7/site-packages/sklearn/linear_model/_coordinate_descent.py:527: ConvergenceWarning: Objective did not converge. You might want to increase the number of iterations. Duality gap: 658335.9267364119, tolerance: 199.07164367193903\n",
      "  tol, rng, random, positive)\n",
      "/Users/kevinrader/opt/anaconda3/lib/python3.7/site-packages/sklearn/linear_model/_coordinate_descent.py:527: ConvergenceWarning: Objective did not converge. You might want to increase the number of iterations. Duality gap: 666595.2781844761, tolerance: 199.07164367193903\n",
      "  tol, rng, random, positive)\n",
      "/Users/kevinrader/opt/anaconda3/lib/python3.7/site-packages/sklearn/linear_model/_coordinate_descent.py:527: ConvergenceWarning: Objective did not converge. You might want to increase the number of iterations. Duality gap: 612760.8460788033, tolerance: 199.07164367193903\n",
      "  tol, rng, random, positive)\n",
      "/Users/kevinrader/opt/anaconda3/lib/python3.7/site-packages/sklearn/linear_model/_coordinate_descent.py:527: ConvergenceWarning: Objective did not converge. You might want to increase the number of iterations. Duality gap: 684330.050326067, tolerance: 199.07164367193903\n",
      "  tol, rng, random, positive)\n",
      "/Users/kevinrader/opt/anaconda3/lib/python3.7/site-packages/sklearn/linear_model/_coordinate_descent.py:527: ConvergenceWarning: Objective did not converge. You might want to increase the number of iterations. Duality gap: 685098.3756510466, tolerance: 199.07164367193903\n",
      "  tol, rng, random, positive)\n",
      "/Users/kevinrader/opt/anaconda3/lib/python3.7/site-packages/sklearn/linear_model/_coordinate_descent.py:527: ConvergenceWarning: Objective did not converge. You might want to increase the number of iterations. Duality gap: 682080.997818033, tolerance: 199.07164367193903\n",
      "  tol, rng, random, positive)\n",
      "/Users/kevinrader/opt/anaconda3/lib/python3.7/site-packages/sklearn/linear_model/_coordinate_descent.py:527: ConvergenceWarning: Objective did not converge. You might want to increase the number of iterations. Duality gap: 679540.2342947741, tolerance: 199.07164367193903\n",
      "  tol, rng, random, positive)\n",
      "/Users/kevinrader/opt/anaconda3/lib/python3.7/site-packages/sklearn/linear_model/_coordinate_descent.py:527: ConvergenceWarning: Objective did not converge. You might want to increase the number of iterations. Duality gap: 677965.9294309227, tolerance: 199.07164367193903\n",
      "  tol, rng, random, positive)\n",
      "/Users/kevinrader/opt/anaconda3/lib/python3.7/site-packages/sklearn/linear_model/_coordinate_descent.py:527: ConvergenceWarning: Objective did not converge. You might want to increase the number of iterations. Duality gap: 677243.9008325712, tolerance: 199.07164367193903\n",
      "  tol, rng, random, positive)\n",
      "/Users/kevinrader/opt/anaconda3/lib/python3.7/site-packages/sklearn/linear_model/_coordinate_descent.py:527: ConvergenceWarning: Objective did not converge. You might want to increase the number of iterations. Duality gap: 676976.5198384542, tolerance: 199.07164367193903\n",
      "  tol, rng, random, positive)\n",
      "/Users/kevinrader/opt/anaconda3/lib/python3.7/site-packages/sklearn/linear_model/_coordinate_descent.py:527: ConvergenceWarning: Objective did not converge. You might want to increase the number of iterations. Duality gap: 676877.1664005929, tolerance: 199.07164367193903\n",
      "  tol, rng, random, positive)\n",
      "/Users/kevinrader/opt/anaconda3/lib/python3.7/site-packages/sklearn/linear_model/_coordinate_descent.py:527: ConvergenceWarning: Objective did not converge. You might want to increase the number of iterations. Duality gap: 676834.5530179869, tolerance: 199.07164367193903\n",
      "  tol, rng, random, positive)\n",
      "/Users/kevinrader/opt/anaconda3/lib/python3.7/site-packages/sklearn/linear_model/_coordinate_descent.py:527: ConvergenceWarning: Objective did not converge. You might want to increase the number of iterations. Duality gap: 676811.0398945021, tolerance: 199.07164367193903\n",
      "  tol, rng, random, positive)\n",
      "/Users/kevinrader/opt/anaconda3/lib/python3.7/site-packages/sklearn/linear_model/_coordinate_descent.py:527: ConvergenceWarning: Objective did not converge. You might want to increase the number of iterations. Duality gap: 676793.8397399347, tolerance: 199.07164367193903\n",
      "  tol, rng, random, positive)\n",
      "/Users/kevinrader/opt/anaconda3/lib/python3.7/site-packages/sklearn/linear_model/_coordinate_descent.py:527: ConvergenceWarning: Objective did not converge. You might want to increase the number of iterations. Duality gap: 676778.6162817009, tolerance: 199.07164367193903\n",
      "  tol, rng, random, positive)\n",
      "/Users/kevinrader/opt/anaconda3/lib/python3.7/site-packages/sklearn/linear_model/_coordinate_descent.py:527: ConvergenceWarning: Objective did not converge. You might want to increase the number of iterations. Duality gap: 5663.805106193991, tolerance: 199.68875375503822\n",
      "  tol, rng, random, positive)\n",
      "/Users/kevinrader/opt/anaconda3/lib/python3.7/site-packages/sklearn/linear_model/_coordinate_descent.py:527: ConvergenceWarning: Objective did not converge. You might want to increase the number of iterations. Duality gap: 39650.0533122567, tolerance: 199.68875375503822\n",
      "  tol, rng, random, positive)\n",
      "/Users/kevinrader/opt/anaconda3/lib/python3.7/site-packages/sklearn/linear_model/_coordinate_descent.py:527: ConvergenceWarning: Objective did not converge. You might want to increase the number of iterations. Duality gap: 1826.0901197099593, tolerance: 199.68875375503822\n",
      "  tol, rng, random, positive)\n",
      "/Users/kevinrader/opt/anaconda3/lib/python3.7/site-packages/sklearn/linear_model/_coordinate_descent.py:527: ConvergenceWarning: Objective did not converge. You might want to increase the number of iterations. Duality gap: 81349.15599842486, tolerance: 199.68875375503822\n",
      "  tol, rng, random, positive)\n",
      "/Users/kevinrader/opt/anaconda3/lib/python3.7/site-packages/sklearn/linear_model/_coordinate_descent.py:527: ConvergenceWarning: Objective did not converge. You might want to increase the number of iterations. Duality gap: 596987.8901573234, tolerance: 199.68875375503822\n",
      "  tol, rng, random, positive)\n",
      "/Users/kevinrader/opt/anaconda3/lib/python3.7/site-packages/sklearn/linear_model/_coordinate_descent.py:527: ConvergenceWarning: Objective did not converge. You might want to increase the number of iterations. Duality gap: 662090.3399612688, tolerance: 199.68875375503822\n",
      "  tol, rng, random, positive)\n",
      "/Users/kevinrader/opt/anaconda3/lib/python3.7/site-packages/sklearn/linear_model/_coordinate_descent.py:527: ConvergenceWarning: Objective did not converge. You might want to increase the number of iterations. Duality gap: 671769.0128077284, tolerance: 199.68875375503822\n",
      "  tol, rng, random, positive)\n",
      "/Users/kevinrader/opt/anaconda3/lib/python3.7/site-packages/sklearn/linear_model/_coordinate_descent.py:527: ConvergenceWarning: Objective did not converge. You might want to increase the number of iterations. Duality gap: 651968.3784403035, tolerance: 199.68875375503822\n",
      "  tol, rng, random, positive)\n",
      "/Users/kevinrader/opt/anaconda3/lib/python3.7/site-packages/sklearn/linear_model/_coordinate_descent.py:527: ConvergenceWarning: Objective did not converge. You might want to increase the number of iterations. Duality gap: 692596.2781410291, tolerance: 199.68875375503822\n",
      "  tol, rng, random, positive)\n",
      "/Users/kevinrader/opt/anaconda3/lib/python3.7/site-packages/sklearn/linear_model/_coordinate_descent.py:527: ConvergenceWarning: Objective did not converge. You might want to increase the number of iterations. Duality gap: 692269.5207545161, tolerance: 199.68875375503822\n",
      "  tol, rng, random, positive)\n",
      "/Users/kevinrader/opt/anaconda3/lib/python3.7/site-packages/sklearn/linear_model/_coordinate_descent.py:527: ConvergenceWarning: Objective did not converge. You might want to increase the number of iterations. Duality gap: 689338.813246617, tolerance: 199.68875375503822\n",
      "  tol, rng, random, positive)\n",
      "/Users/kevinrader/opt/anaconda3/lib/python3.7/site-packages/sklearn/linear_model/_coordinate_descent.py:527: ConvergenceWarning: Objective did not converge. You might want to increase the number of iterations. Duality gap: 686749.611948157, tolerance: 199.68875375503822\n",
      "  tol, rng, random, positive)\n",
      "/Users/kevinrader/opt/anaconda3/lib/python3.7/site-packages/sklearn/linear_model/_coordinate_descent.py:527: ConvergenceWarning: Objective did not converge. You might want to increase the number of iterations. Duality gap: 685375.2335442926, tolerance: 199.68875375503822\n",
      "  tol, rng, random, positive)\n",
      "/Users/kevinrader/opt/anaconda3/lib/python3.7/site-packages/sklearn/linear_model/_coordinate_descent.py:527: ConvergenceWarning: Objective did not converge. You might want to increase the number of iterations. Duality gap: 684722.9959535409, tolerance: 199.68875375503822\n",
      "  tol, rng, random, positive)\n",
      "/Users/kevinrader/opt/anaconda3/lib/python3.7/site-packages/sklearn/linear_model/_coordinate_descent.py:527: ConvergenceWarning: Objective did not converge. You might want to increase the number of iterations. Duality gap: 684461.174615138, tolerance: 199.68875375503822\n",
      "  tol, rng, random, positive)\n",
      "/Users/kevinrader/opt/anaconda3/lib/python3.7/site-packages/sklearn/linear_model/_coordinate_descent.py:527: ConvergenceWarning: Objective did not converge. You might want to increase the number of iterations. Duality gap: 684350.0821452279, tolerance: 199.68875375503822\n",
      "  tol, rng, random, positive)\n",
      "/Users/kevinrader/opt/anaconda3/lib/python3.7/site-packages/sklearn/linear_model/_coordinate_descent.py:527: ConvergenceWarning: Objective did not converge. You might want to increase the number of iterations. Duality gap: 684293.0993457938, tolerance: 199.68875375503822\n",
      "  tol, rng, random, positive)\n",
      "/Users/kevinrader/opt/anaconda3/lib/python3.7/site-packages/sklearn/linear_model/_coordinate_descent.py:527: ConvergenceWarning: Objective did not converge. You might want to increase the number of iterations. Duality gap: 684255.8520013589, tolerance: 199.68875375503822\n",
      "  tol, rng, random, positive)\n",
      "/Users/kevinrader/opt/anaconda3/lib/python3.7/site-packages/sklearn/linear_model/_coordinate_descent.py:527: ConvergenceWarning: Objective did not converge. You might want to increase the number of iterations. Duality gap: 684226.1452291007, tolerance: 199.68875375503822\n",
      "  tol, rng, random, positive)\n",
      "/Users/kevinrader/opt/anaconda3/lib/python3.7/site-packages/sklearn/linear_model/_coordinate_descent.py:527: ConvergenceWarning: Objective did not converge. You might want to increase the number of iterations. Duality gap: 684199.4406561938, tolerance: 199.68875375503822\n",
      "  tol, rng, random, positive)\n",
      "/Users/kevinrader/opt/anaconda3/lib/python3.7/site-packages/sklearn/linear_model/_coordinate_descent.py:527: ConvergenceWarning: Objective did not converge. You might want to increase the number of iterations. Duality gap: 3264.277957594022, tolerance: 195.92130407275968\n",
      "  tol, rng, random, positive)\n",
      "/Users/kevinrader/opt/anaconda3/lib/python3.7/site-packages/sklearn/linear_model/_coordinate_descent.py:527: ConvergenceWarning: Objective did not converge. You might want to increase the number of iterations. Duality gap: 39861.98648525216, tolerance: 195.92130407275968\n",
      "  tol, rng, random, positive)\n",
      "/Users/kevinrader/opt/anaconda3/lib/python3.7/site-packages/sklearn/linear_model/_coordinate_descent.py:527: ConvergenceWarning: Objective did not converge. You might want to increase the number of iterations. Duality gap: 1597.3810628182255, tolerance: 195.92130407275968\n",
      "  tol, rng, random, positive)\n",
      "/Users/kevinrader/opt/anaconda3/lib/python3.7/site-packages/sklearn/linear_model/_coordinate_descent.py:527: ConvergenceWarning: Objective did not converge. You might want to increase the number of iterations. Duality gap: 58313.395481743384, tolerance: 195.92130407275968\n",
      "  tol, rng, random, positive)\n",
      "/Users/kevinrader/opt/anaconda3/lib/python3.7/site-packages/sklearn/linear_model/_coordinate_descent.py:527: ConvergenceWarning: Objective did not converge. You might want to increase the number of iterations. Duality gap: 587924.9571783189, tolerance: 195.92130407275968\n",
      "  tol, rng, random, positive)\n",
      "/Users/kevinrader/opt/anaconda3/lib/python3.7/site-packages/sklearn/linear_model/_coordinate_descent.py:527: ConvergenceWarning: Objective did not converge. You might want to increase the number of iterations. Duality gap: 652567.0354271793, tolerance: 195.92130407275968\n",
      "  tol, rng, random, positive)\n",
      "/Users/kevinrader/opt/anaconda3/lib/python3.7/site-packages/sklearn/linear_model/_coordinate_descent.py:527: ConvergenceWarning: Objective did not converge. You might want to increase the number of iterations. Duality gap: 661605.6996593304, tolerance: 195.92130407275968\n",
      "  tol, rng, random, positive)\n",
      "/Users/kevinrader/opt/anaconda3/lib/python3.7/site-packages/sklearn/linear_model/_coordinate_descent.py:527: ConvergenceWarning: Objective did not converge. You might want to increase the number of iterations. Duality gap: 664305.0349872616, tolerance: 195.92130407275968\n",
      "  tol, rng, random, positive)\n",
      "/Users/kevinrader/opt/anaconda3/lib/python3.7/site-packages/sklearn/linear_model/_coordinate_descent.py:527: ConvergenceWarning: Objective did not converge. You might want to increase the number of iterations. Duality gap: 687049.7603350603, tolerance: 195.92130407275968\n",
      "  tol, rng, random, positive)\n",
      "/Users/kevinrader/opt/anaconda3/lib/python3.7/site-packages/sklearn/linear_model/_coordinate_descent.py:527: ConvergenceWarning: Objective did not converge. You might want to increase the number of iterations. Duality gap: 685058.080416084, tolerance: 195.92130407275968\n",
      "  tol, rng, random, positive)\n",
      "/Users/kevinrader/opt/anaconda3/lib/python3.7/site-packages/sklearn/linear_model/_coordinate_descent.py:527: ConvergenceWarning: Objective did not converge. You might want to increase the number of iterations. Duality gap: 681362.7613085734, tolerance: 195.92130407275968\n",
      "  tol, rng, random, positive)\n",
      "/Users/kevinrader/opt/anaconda3/lib/python3.7/site-packages/sklearn/linear_model/_coordinate_descent.py:527: ConvergenceWarning: Objective did not converge. You might want to increase the number of iterations. Duality gap: 678435.9395746288, tolerance: 195.92130407275968\n",
      "  tol, rng, random, positive)\n",
      "/Users/kevinrader/opt/anaconda3/lib/python3.7/site-packages/sklearn/linear_model/_coordinate_descent.py:527: ConvergenceWarning: Objective did not converge. You might want to increase the number of iterations. Duality gap: 676963.3733910167, tolerance: 195.92130407275968\n",
      "  tol, rng, random, positive)\n",
      "/Users/kevinrader/opt/anaconda3/lib/python3.7/site-packages/sklearn/linear_model/_coordinate_descent.py:527: ConvergenceWarning: Objective did not converge. You might want to increase the number of iterations. Duality gap: 676333.3354671815, tolerance: 195.92130407275968\n",
      "  tol, rng, random, positive)\n",
      "/Users/kevinrader/opt/anaconda3/lib/python3.7/site-packages/sklearn/linear_model/_coordinate_descent.py:527: ConvergenceWarning: Objective did not converge. You might want to increase the number of iterations. Duality gap: 676062.881050763, tolerance: 195.92130407275968\n",
      "  tol, rng, random, positive)\n",
      "/Users/kevinrader/opt/anaconda3/lib/python3.7/site-packages/sklearn/linear_model/_coordinate_descent.py:527: ConvergenceWarning: Objective did not converge. You might want to increase the number of iterations. Duality gap: 675897.2122311881, tolerance: 195.92130407275968\n",
      "  tol, rng, random, positive)\n",
      "/Users/kevinrader/opt/anaconda3/lib/python3.7/site-packages/sklearn/linear_model/_coordinate_descent.py:527: ConvergenceWarning: Objective did not converge. You might want to increase the number of iterations. Duality gap: 675783.5034067364, tolerance: 195.92130407275968\n",
      "  tol, rng, random, positive)\n",
      "/Users/kevinrader/opt/anaconda3/lib/python3.7/site-packages/sklearn/linear_model/_coordinate_descent.py:527: ConvergenceWarning: Objective did not converge. You might want to increase the number of iterations. Duality gap: 675704.5245564522, tolerance: 195.92130407275968\n",
      "  tol, rng, random, positive)\n",
      "/Users/kevinrader/opt/anaconda3/lib/python3.7/site-packages/sklearn/linear_model/_coordinate_descent.py:527: ConvergenceWarning: Objective did not converge. You might want to increase the number of iterations. Duality gap: 675645.4419458632, tolerance: 195.92130407275968\n",
      "  tol, rng, random, positive)\n",
      "/Users/kevinrader/opt/anaconda3/lib/python3.7/site-packages/sklearn/linear_model/_coordinate_descent.py:527: ConvergenceWarning: Objective did not converge. You might want to increase the number of iterations. Duality gap: 675596.9921663029, tolerance: 195.92130407275968\n",
      "  tol, rng, random, positive)\n",
      "/Users/kevinrader/opt/anaconda3/lib/python3.7/site-packages/sklearn/linear_model/_coordinate_descent.py:527: ConvergenceWarning: Objective did not converge. You might want to increase the number of iterations. Duality gap: 2282.994889797177, tolerance: 195.91351713322598\n",
      "  tol, rng, random, positive)\n",
      "/Users/kevinrader/opt/anaconda3/lib/python3.7/site-packages/sklearn/linear_model/_coordinate_descent.py:527: ConvergenceWarning: Objective did not converge. You might want to increase the number of iterations. Duality gap: 25696.50806221948, tolerance: 195.91351713322598\n",
      "  tol, rng, random, positive)\n",
      "/Users/kevinrader/opt/anaconda3/lib/python3.7/site-packages/sklearn/linear_model/_coordinate_descent.py:527: ConvergenceWarning: Objective did not converge. You might want to increase the number of iterations. Duality gap: 815.9048879479524, tolerance: 195.91351713322598\n",
      "  tol, rng, random, positive)\n",
      "/Users/kevinrader/opt/anaconda3/lib/python3.7/site-packages/sklearn/linear_model/_coordinate_descent.py:527: ConvergenceWarning: Objective did not converge. You might want to increase the number of iterations. Duality gap: 2781.439930138644, tolerance: 195.91351713322598\n",
      "  tol, rng, random, positive)\n",
      "/Users/kevinrader/opt/anaconda3/lib/python3.7/site-packages/sklearn/linear_model/_coordinate_descent.py:527: ConvergenceWarning: Objective did not converge. You might want to increase the number of iterations. Duality gap: 577600.5602461117, tolerance: 195.91351713322598\n",
      "  tol, rng, random, positive)\n",
      "/Users/kevinrader/opt/anaconda3/lib/python3.7/site-packages/sklearn/linear_model/_coordinate_descent.py:527: ConvergenceWarning: Objective did not converge. You might want to increase the number of iterations. Duality gap: 653630.036207119, tolerance: 195.91351713322598\n",
      "  tol, rng, random, positive)\n",
      "/Users/kevinrader/opt/anaconda3/lib/python3.7/site-packages/sklearn/linear_model/_coordinate_descent.py:527: ConvergenceWarning: Objective did not converge. You might want to increase the number of iterations. Duality gap: 664364.8215586493, tolerance: 195.91351713322598\n",
      "  tol, rng, random, positive)\n",
      "/Users/kevinrader/opt/anaconda3/lib/python3.7/site-packages/sklearn/linear_model/_coordinate_descent.py:527: ConvergenceWarning: Objective did not converge. You might want to increase the number of iterations. Duality gap: 668275.5914959429, tolerance: 195.91351713322598\n",
      "  tol, rng, random, positive)\n",
      "/Users/kevinrader/opt/anaconda3/lib/python3.7/site-packages/sklearn/linear_model/_coordinate_descent.py:527: ConvergenceWarning: Objective did not converge. You might want to increase the number of iterations. Duality gap: 691289.5427501289, tolerance: 195.91351713322598\n",
      "  tol, rng, random, positive)\n",
      "/Users/kevinrader/opt/anaconda3/lib/python3.7/site-packages/sklearn/linear_model/_coordinate_descent.py:527: ConvergenceWarning: Objective did not converge. You might want to increase the number of iterations. Duality gap: 689407.1570824148, tolerance: 195.91351713322598\n",
      "  tol, rng, random, positive)\n",
      "/Users/kevinrader/opt/anaconda3/lib/python3.7/site-packages/sklearn/linear_model/_coordinate_descent.py:527: ConvergenceWarning: Objective did not converge. You might want to increase the number of iterations. Duality gap: 685307.9742773764, tolerance: 195.91351713322598\n",
      "  tol, rng, random, positive)\n",
      "/Users/kevinrader/opt/anaconda3/lib/python3.7/site-packages/sklearn/linear_model/_coordinate_descent.py:527: ConvergenceWarning: Objective did not converge. You might want to increase the number of iterations. Duality gap: 682266.9559395767, tolerance: 195.91351713322598\n",
      "  tol, rng, random, positive)\n",
      "/Users/kevinrader/opt/anaconda3/lib/python3.7/site-packages/sklearn/linear_model/_coordinate_descent.py:527: ConvergenceWarning: Objective did not converge. You might want to increase the number of iterations. Duality gap: 680750.0399518152, tolerance: 195.91351713322598\n",
      "  tol, rng, random, positive)\n",
      "/Users/kevinrader/opt/anaconda3/lib/python3.7/site-packages/sklearn/linear_model/_coordinate_descent.py:527: ConvergenceWarning: Objective did not converge. You might want to increase the number of iterations. Duality gap: 680057.1375112176, tolerance: 195.91351713322598\n",
      "  tol, rng, random, positive)\n",
      "/Users/kevinrader/opt/anaconda3/lib/python3.7/site-packages/sklearn/linear_model/_coordinate_descent.py:527: ConvergenceWarning: Objective did not converge. You might want to increase the number of iterations. Duality gap: 679776.5600756026, tolerance: 195.91351713322598\n",
      "  tol, rng, random, positive)\n",
      "/Users/kevinrader/opt/anaconda3/lib/python3.7/site-packages/sklearn/linear_model/_coordinate_descent.py:527: ConvergenceWarning: Objective did not converge. You might want to increase the number of iterations. Duality gap: 679652.8131022877, tolerance: 195.91351713322598\n",
      "  tol, rng, random, positive)\n",
      "/Users/kevinrader/opt/anaconda3/lib/python3.7/site-packages/sklearn/linear_model/_coordinate_descent.py:527: ConvergenceWarning: Objective did not converge. You might want to increase the number of iterations. Duality gap: 679585.0824520916, tolerance: 195.91351713322598\n",
      "  tol, rng, random, positive)\n",
      "/Users/kevinrader/opt/anaconda3/lib/python3.7/site-packages/sklearn/linear_model/_coordinate_descent.py:527: ConvergenceWarning: Objective did not converge. You might want to increase the number of iterations. Duality gap: 679537.5079086745, tolerance: 195.91351713322598\n",
      "  tol, rng, random, positive)\n",
      "/Users/kevinrader/opt/anaconda3/lib/python3.7/site-packages/sklearn/linear_model/_coordinate_descent.py:527: ConvergenceWarning: Objective did not converge. You might want to increase the number of iterations. Duality gap: 679496.4700547808, tolerance: 195.91351713322598\n",
      "  tol, rng, random, positive)\n",
      "/Users/kevinrader/opt/anaconda3/lib/python3.7/site-packages/sklearn/linear_model/_coordinate_descent.py:527: ConvergenceWarning: Objective did not converge. You might want to increase the number of iterations. Duality gap: 679457.5447351313, tolerance: 195.91351713322598\n",
      "  tol, rng, random, positive)\n",
      "/Users/kevinrader/opt/anaconda3/lib/python3.7/site-packages/sklearn/linear_model/_coordinate_descent.py:531: ConvergenceWarning: Objective did not converge. You might want to increase the number of iterations. Duality gap: 851589.9574394575, tolerance: 247.9848241016775\n",
      "  positive)\n"
     ]
    }
   ],
   "source": [
    "######\n",
    "# your code here\n",
    "######\n",
    "\n",
    "alphas = np.exp(np.arange(-10,20,1))\n",
    "ridges = RidgeCV(alphas=alphas,fit_intercept=True,cv=5).fit(X_minority_poly, train['votergap'])\n",
    "\n",
    "lassos = LassoCV(alphas=alphas,fit_intercept=True,cv=5).fit(X_minority_poly, train['votergap'])\n"
   ]
  },
  {
   "cell_type": "code",
   "execution_count": 24,
   "metadata": {},
   "outputs": [
    {
     "name": "stdout",
     "output_type": "stream",
     "text": [
      "R-sq on test for Ridge: 0.2837466788213361\n",
      "Best Ridge Model: Intercept = -68.7449157189048 Coefficients = [ 2.05842211e+01  9.00673964e+00 -6.24491043e+00 -7.91686182e+00\n",
      "  2.05823252e+00  6.05877868e+00 -4.38296230e+00  1.19116483e+00\n",
      " -1.41164592e-01  5.82623521e-03]\n"
     ]
    },
    {
     "data": {
      "text/plain": [
       "1.0"
      ]
     },
     "execution_count": 24,
     "metadata": {},
     "output_type": "execute_result"
    }
   ],
   "source": [
    "print(\"R-sq on test for Ridge:\",ridges.score(X_minority_poly_test, test['votergap']))\n",
    "print(\"Best Ridge Model: Intercept =\",ridges.intercept_ , \"Coefficients =\",ridges.coef_)\n",
    "ridges.alpha_"
   ]
  },
  {
   "cell_type": "code",
   "execution_count": 25,
   "metadata": {},
   "outputs": [
    {
     "name": "stdout",
     "output_type": "stream",
     "text": [
      "R-sq on test for LASSO: 0.2873262040522899\n",
      "Best LASSO Model: Intercept = -65.66197910343136 Coefficients = [ 1.55976298e+01  9.71783658e-01 -4.99356723e-01 -1.04278727e-01\n",
      " -3.84561493e-03  3.73752209e-03  1.40186351e-03  2.95785693e-04\n",
      "  3.15350656e-05 -6.04819933e-06]\n"
     ]
    },
    {
     "data": {
      "text/plain": [
       "0.006737946999085467"
      ]
     },
     "execution_count": 25,
     "metadata": {},
     "output_type": "execute_result"
    }
   ],
   "source": [
    "print(\"R-sq on test for LASSO:\",lassos.score(X_minority_poly_test, test['votergap']))\n",
    "print(\"Best LASSO Model: Intercept =\",lassos.intercept_ , \"Coefficients =\",lassos.coef_)\n",
    "lassos.alpha_"
   ]
  },
  {
   "cell_type": "markdown",
   "metadata": {},
   "source": [
    "**Q4.2** How do the best choices of $\\alpha$ compare for Ridge and LASSO?  Why is this surprising, mathematically?"
   ]
  },
  {
   "cell_type": "markdown",
   "metadata": {},
   "source": [
    "**Solution:**\n",
    "\n",
    "The value for $\\alpha$ is much smaller for LASSO than Ridge.  This is simply due to the fact that the way `sklearn` has implemented these penalty terms is not standard, as LASSO penalizes MSE while Ridge penalizes SSE in sklearn (see documentation [here](https://scikit-learn.org/stable/modules/linear_model.html)).  They are not comparable to each other since they are using different units (Ridge is in squared units, LASSO in standard units)."
   ]
  },
  {
   "cell_type": "markdown",
   "metadata": {},
   "source": [
    "**Q4.3** Why is it important to not include the bias term when creating the design matrices?  Why is it important to standardize the predictors?  Were these precautions taken here?"
   ]
  },
  {
   "cell_type": "markdown",
   "metadata": {},
   "source": [
    "**Solution:**\n",
    "\n",
    "Bias (the intercept) should not be included in the penalty term because the default model should be the one with just the intercept when all the other $\\beta$ coefficient estimates are *shrunk* to zero.  This equates to using $\\bar{y}$ as the best prediction model (see below).\n",
    "\n",
    "Standardizing the predictors leads to putting them all on the same scale (where 1 unit is 1 standard deviation).  Thus the units of the predictors will not have an effect on how they are shrunk relative to one another (predictors with smaller standard deviations would be shrunk quicker if not standardized).  This precaution was not taken here.\n"
   ]
  },
  {
   "cell_type": "code",
   "execution_count": 26,
   "metadata": {},
   "outputs": [
    {
     "name": "stdout",
     "output_type": "stream",
     "text": [
      "-31.648499718679606\n",
      "-31.648499716619785\n"
     ]
    }
   ],
   "source": [
    "print(Ridge(alpha=10**24,fit_intercept=True).fit(X_minority_poly , train['votergap']).intercept_)\n",
    "print(np.mean(train['votergap']))"
   ]
  },
  {
   "cell_type": "markdown",
   "metadata": {},
   "source": [
    "**Q4.4** Fit a well-tuned regularization model on the overly parameterized design matrix `X_over` (let's use `normalize=True` now).  How does this perform on the test set?"
   ]
  },
  {
   "cell_type": "code",
   "execution_count": 27,
   "metadata": {},
   "outputs": [],
   "source": [
    "######\n",
    "# your code here\n",
    "######\n",
    "\n",
    "alphas = np.exp(np.arange(-10,10,1))\n",
    "ridges_over = RidgeCV(alphas=alphas,fit_intercept=True,cv=5,normalize=True).fit(X_over, train['votergap'])\n"
   ]
  },
  {
   "cell_type": "code",
   "execution_count": 28,
   "metadata": {},
   "outputs": [
    {
     "name": "stdout",
     "output_type": "stream",
     "text": [
      "R-sq on test for Ridge: 0.749889610880638\n"
     ]
    }
   ],
   "source": [
    "print(\"R-sq on test for Ridge:\",ridges_over.score(X_over_test, test['votergap']))"
   ]
  },
  {
   "cell_type": "markdown",
   "metadata": {},
   "source": [
    "**Solution:**\n",
    "\n",
    "After choosing the best model based on the Ridge penalty term, this model performs better (0.750 vs. 0.704 unpenalized).  A similar approach could be used with LASSO CV.\n"
   ]
  },
  {
   "cell_type": "code",
   "execution_count": null,
   "metadata": {},
   "outputs": [],
   "source": []
  }
 ],
 "metadata": {
  "anaconda-cloud": {},
  "kernelspec": {
   "display_name": "Python 3",
   "language": "python",
   "name": "python3"
  },
  "language_info": {
   "codemirror_mode": {
    "name": "ipython",
    "version": 3
   },
   "file_extension": ".py",
   "mimetype": "text/x-python",
   "name": "python",
   "nbconvert_exporter": "python",
   "pygments_lexer": "ipython3",
   "version": "3.7.6"
  }
 },
 "nbformat": 4,
 "nbformat_minor": 1
}
