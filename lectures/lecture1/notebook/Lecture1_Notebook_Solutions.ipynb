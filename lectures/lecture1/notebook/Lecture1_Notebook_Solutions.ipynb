{
 "cells": [
  {
   "cell_type": "markdown",
   "metadata": {
    "slideshow": {
     "slide_type": "slide"
    }
   },
   "source": [
    "# <img style=\"float: left; padding-right: 10px; width: 45px\" src=\"data:image/png;base64,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\"> CS-S109A Introduction to Data Science \n",
    "\n",
    "## Lecture 1: Example\n",
    "\n",
    "\n",
    "**Harvard University**<br/>\n",
    "**Summer 2021**<br/>\n",
    "**Instructors**: Kevin Rader\n",
    "\n",
    "---"
   ]
  },
  {
   "cell_type": "markdown",
   "metadata": {},
   "source": [
    "## If you have not installed Conda and have Jupyter Notebooks running properly on your computer, please see *Lab 0* on the course Canvas website (or on git)."
   ]
  },
  {
   "cell_type": "code",
   "execution_count": 1,
   "metadata": {
    "slideshow": {
     "slide_type": "skip"
    }
   },
   "outputs": [
    {
     "data": {
      "text/html": [
       "<style>\n",
       "blockquote { background: #AEDE94; }\n",
       "h1 { \n",
       "    padding-top: 25px;\n",
       "    padding-bottom: 25px;\n",
       "    text-align: left; \n",
       "    padding-left: 10px;\n",
       "    background-color: #DDDDDD; \n",
       "    color: black;\n",
       "}\n",
       "h2 { \n",
       "    padding-top: 10px;\n",
       "    padding-bottom: 10px;\n",
       "    text-align: left; \n",
       "    padding-left: 5px;\n",
       "    background-color: #EEEEEE; \n",
       "    color: black;\n",
       "}\n",
       "\n",
       "div.exercise {\n",
       "\tbackground-color: #ffcccc;\n",
       "\tborder-color: #E9967A; \t\n",
       "\tborder-left: 5px solid #800080; \n",
       "\tpadding: 0.5em;\n",
       "}\n",
       "\n",
       "div.exercise-r {\n",
       "\tbackground-color: #fce8e8;\n",
       "\tborder-color: #E9967A; \t\n",
       "\tborder-left: 5px solid #800080; \n",
       "\tpadding: 0.5em;\n",
       "}\n",
       "\n",
       "\n",
       "span.sub-q {\n",
       "\tfont-weight: bold;\n",
       "}\n",
       "div.theme {\n",
       "\tbackground-color: #DDDDDD;\n",
       "\tborder-color: #E9967A; \t\n",
       "\tborder-left: 5px solid #800080; \n",
       "\tpadding: 0.5em;\n",
       "\tfont-size: 18pt;\n",
       "}\n",
       "div.gc { \n",
       "\tbackground-color: #AEDE94;\n",
       "\tborder-color: #E9967A; \t \n",
       "\tborder-left: 5px solid #800080; \n",
       "\tpadding: 0.5em;\n",
       "\tfont-size: 12pt;\n",
       "}\n",
       "p.q1 { \n",
       "    padding-top: 5px;\n",
       "    padding-bottom: 5px;\n",
       "    text-align: left; \n",
       "    padding-left: 5px;\n",
       "    background-color: #EEEEEE; \n",
       "    color: black;\n",
       "}\n",
       "header {\n",
       "   padding-top: 35px;\n",
       "    padding-bottom: 35px;\n",
       "    text-align: left; \n",
       "    padding-left: 10px;\n",
       "    background-color: #DDDDDD; \n",
       "    color: black;\n",
       "}\n",
       "</style>\n",
       "\n"
      ],
      "text/plain": [
       "<IPython.core.display.HTML object>"
      ]
     },
     "execution_count": 1,
     "metadata": {},
     "output_type": "execute_result"
    }
   ],
   "source": [
    "## RUN THIS CELL TO GET THE RIGHT FORMATTING \n",
    "import requests\n",
    "from IPython.core.display import HTML\n",
    "styles = requests.get(\"https://raw.githubusercontent.com/Harvard-IACS/2018-CS109A/master/content/styles/cs109.css\").text\n",
    "HTML(styles)"
   ]
  },
  {
   "cell_type": "code",
   "execution_count": 2,
   "metadata": {
    "slideshow": {
     "slide_type": "-"
    }
   },
   "outputs": [],
   "source": [
    "import pandas as pd\n",
    "import sys\n",
    "import numpy as np\n",
    "import scipy as sp\n",
    "import matplotlib.pyplot as plt\n",
    "from math import radians, cos, sin, asin, sqrt\n",
    "import datetime\n",
    "%matplotlib inline\n"
   ]
  },
  {
   "cell_type": "markdown",
   "metadata": {
    "slideshow": {
     "slide_type": "slide"
    }
   },
   "source": [
    "Download the data from (29MB):\n",
    "\n",
    "https://drive.google.com/open?id=0B28c493CP9GtMzN1emFoMkJNNlU\n"
   ]
  },
  {
   "cell_type": "markdown",
   "metadata": {
    "slideshow": {
     "slide_type": "slide"
    }
   },
   "source": [
    "## 1. Data Manipulation & Wrangling\n",
    "\n",
    "Manipulation, not Modificaition (important distinction).  Fill-in the 3 different 'Your code here' sections below to perform the tasks given."
   ]
  },
  {
   "cell_type": "code",
   "execution_count": 3,
   "metadata": {
    "slideshow": {
     "slide_type": "subslide"
    }
   },
   "outputs": [],
   "source": [
    "# you may need to change the path here:\n",
    "hubway_data_file = '~/Downloads/hubway_data/hubway_trips.csv'\n",
    "\n",
    "# read in the data using pandas 'read_csv' funciton\n",
    "hubway_data = pd.read_csv(hubway_data_file, low_memory=False)\n"
   ]
  },
  {
   "cell_type": "code",
   "execution_count": 4,
   "metadata": {},
   "outputs": [
    {
     "data": {
      "text/html": [
       "<div>\n",
       "<style scoped>\n",
       "    .dataframe tbody tr th:only-of-type {\n",
       "        vertical-align: middle;\n",
       "    }\n",
       "\n",
       "    .dataframe tbody tr th {\n",
       "        vertical-align: top;\n",
       "    }\n",
       "\n",
       "    .dataframe thead th {\n",
       "        text-align: right;\n",
       "    }\n",
       "</style>\n",
       "<table border=\"1\" class=\"dataframe\">\n",
       "  <thead>\n",
       "    <tr style=\"text-align: right;\">\n",
       "      <th></th>\n",
       "      <th>seq_id</th>\n",
       "      <th>hubway_id</th>\n",
       "      <th>status</th>\n",
       "      <th>duration</th>\n",
       "      <th>start_date</th>\n",
       "      <th>strt_statn</th>\n",
       "      <th>end_date</th>\n",
       "      <th>end_statn</th>\n",
       "      <th>bike_nr</th>\n",
       "      <th>subsc_type</th>\n",
       "      <th>zip_code</th>\n",
       "      <th>birth_date</th>\n",
       "      <th>gender</th>\n",
       "    </tr>\n",
       "  </thead>\n",
       "  <tbody>\n",
       "    <tr>\n",
       "      <th>1579015</th>\n",
       "      <td>1579016</td>\n",
       "      <td>1748013</td>\n",
       "      <td>Closed</td>\n",
       "      <td>300</td>\n",
       "      <td>11/30/2013 22:53:00</td>\n",
       "      <td>74.0</td>\n",
       "      <td>11/30/2013 22:58:00</td>\n",
       "      <td>87.0</td>\n",
       "      <td>T01217</td>\n",
       "      <td>Registered</td>\n",
       "      <td>'02138</td>\n",
       "      <td>NaN</td>\n",
       "      <td>Female</td>\n",
       "    </tr>\n",
       "    <tr>\n",
       "      <th>1579016</th>\n",
       "      <td>1579017</td>\n",
       "      <td>1748014</td>\n",
       "      <td>Closed</td>\n",
       "      <td>120</td>\n",
       "      <td>11/30/2013 23:07:00</td>\n",
       "      <td>128.0</td>\n",
       "      <td>11/30/2013 23:09:00</td>\n",
       "      <td>136.0</td>\n",
       "      <td>B01468</td>\n",
       "      <td>Registered</td>\n",
       "      <td>'02142</td>\n",
       "      <td>NaN</td>\n",
       "      <td>Male</td>\n",
       "    </tr>\n",
       "    <tr>\n",
       "      <th>1579017</th>\n",
       "      <td>1579018</td>\n",
       "      <td>1748015</td>\n",
       "      <td>Closed</td>\n",
       "      <td>900</td>\n",
       "      <td>11/30/2013 23:17:00</td>\n",
       "      <td>76.0</td>\n",
       "      <td>11/30/2013 23:32:00</td>\n",
       "      <td>96.0</td>\n",
       "      <td>B00585</td>\n",
       "      <td>Registered</td>\n",
       "      <td>'02131</td>\n",
       "      <td>NaN</td>\n",
       "      <td>Female</td>\n",
       "    </tr>\n",
       "    <tr>\n",
       "      <th>1579018</th>\n",
       "      <td>1579019</td>\n",
       "      <td>1748016</td>\n",
       "      <td>Closed</td>\n",
       "      <td>240</td>\n",
       "      <td>11/30/2013 23:24:00</td>\n",
       "      <td>134.0</td>\n",
       "      <td>11/30/2013 23:28:00</td>\n",
       "      <td>139.0</td>\n",
       "      <td>T01195</td>\n",
       "      <td>Registered</td>\n",
       "      <td>'02478</td>\n",
       "      <td>NaN</td>\n",
       "      <td>Male</td>\n",
       "    </tr>\n",
       "    <tr>\n",
       "      <th>1579019</th>\n",
       "      <td>1579020</td>\n",
       "      <td>1748017</td>\n",
       "      <td>Closed</td>\n",
       "      <td>360</td>\n",
       "      <td>11/30/2013 23:24:00</td>\n",
       "      <td>129.0</td>\n",
       "      <td>11/30/2013 23:30:00</td>\n",
       "      <td>133.0</td>\n",
       "      <td>T01069</td>\n",
       "      <td>Registered</td>\n",
       "      <td>'02138</td>\n",
       "      <td>NaN</td>\n",
       "      <td>Male</td>\n",
       "    </tr>\n",
       "    <tr>\n",
       "      <th>1579020</th>\n",
       "      <td>1579021</td>\n",
       "      <td>1748018</td>\n",
       "      <td>Closed</td>\n",
       "      <td>720</td>\n",
       "      <td>11/30/2013 23:30:00</td>\n",
       "      <td>130.0</td>\n",
       "      <td>11/30/2013 23:42:00</td>\n",
       "      <td>90.0</td>\n",
       "      <td>T01341</td>\n",
       "      <td>Registered</td>\n",
       "      <td>'02141</td>\n",
       "      <td>NaN</td>\n",
       "      <td>Male</td>\n",
       "    </tr>\n",
       "    <tr>\n",
       "      <th>1579021</th>\n",
       "      <td>1579022</td>\n",
       "      <td>1748019</td>\n",
       "      <td>Closed</td>\n",
       "      <td>480</td>\n",
       "      <td>11/30/2013 23:32:00</td>\n",
       "      <td>67.0</td>\n",
       "      <td>11/30/2013 23:40:00</td>\n",
       "      <td>88.0</td>\n",
       "      <td>T01328</td>\n",
       "      <td>Registered</td>\n",
       "      <td>'02143</td>\n",
       "      <td>NaN</td>\n",
       "      <td>Male</td>\n",
       "    </tr>\n",
       "    <tr>\n",
       "      <th>1579022</th>\n",
       "      <td>1579023</td>\n",
       "      <td>1748020</td>\n",
       "      <td>Closed</td>\n",
       "      <td>540</td>\n",
       "      <td>11/30/2013 23:32:00</td>\n",
       "      <td>137.0</td>\n",
       "      <td>11/30/2013 23:41:00</td>\n",
       "      <td>133.0</td>\n",
       "      <td>T01310</td>\n",
       "      <td>Casual</td>\n",
       "      <td>NaN</td>\n",
       "      <td>NaN</td>\n",
       "      <td>NaN</td>\n",
       "    </tr>\n",
       "    <tr>\n",
       "      <th>1579023</th>\n",
       "      <td>1579024</td>\n",
       "      <td>1748021</td>\n",
       "      <td>Closed</td>\n",
       "      <td>120</td>\n",
       "      <td>11/30/2013 23:36:00</td>\n",
       "      <td>76.0</td>\n",
       "      <td>11/30/2013 23:38:00</td>\n",
       "      <td>68.0</td>\n",
       "      <td>B01478</td>\n",
       "      <td>Registered</td>\n",
       "      <td>'02141</td>\n",
       "      <td>NaN</td>\n",
       "      <td>Male</td>\n",
       "    </tr>\n",
       "    <tr>\n",
       "      <th>1579024</th>\n",
       "      <td>1579025</td>\n",
       "      <td>1748022</td>\n",
       "      <td>Closed</td>\n",
       "      <td>420</td>\n",
       "      <td>11/30/2013 23:39:00</td>\n",
       "      <td>68.0</td>\n",
       "      <td>11/30/2013 23:46:00</td>\n",
       "      <td>95.0</td>\n",
       "      <td>T01352</td>\n",
       "      <td>Registered</td>\n",
       "      <td>'02143</td>\n",
       "      <td>NaN</td>\n",
       "      <td>Female</td>\n",
       "    </tr>\n",
       "  </tbody>\n",
       "</table>\n",
       "</div>"
      ],
      "text/plain": [
       "          seq_id  hubway_id  status  duration           start_date  \\\n",
       "1579015  1579016    1748013  Closed       300  11/30/2013 22:53:00   \n",
       "1579016  1579017    1748014  Closed       120  11/30/2013 23:07:00   \n",
       "1579017  1579018    1748015  Closed       900  11/30/2013 23:17:00   \n",
       "1579018  1579019    1748016  Closed       240  11/30/2013 23:24:00   \n",
       "1579019  1579020    1748017  Closed       360  11/30/2013 23:24:00   \n",
       "1579020  1579021    1748018  Closed       720  11/30/2013 23:30:00   \n",
       "1579021  1579022    1748019  Closed       480  11/30/2013 23:32:00   \n",
       "1579022  1579023    1748020  Closed       540  11/30/2013 23:32:00   \n",
       "1579023  1579024    1748021  Closed       120  11/30/2013 23:36:00   \n",
       "1579024  1579025    1748022  Closed       420  11/30/2013 23:39:00   \n",
       "\n",
       "         strt_statn             end_date  end_statn bike_nr  subsc_type  \\\n",
       "1579015        74.0  11/30/2013 22:58:00       87.0  T01217  Registered   \n",
       "1579016       128.0  11/30/2013 23:09:00      136.0  B01468  Registered   \n",
       "1579017        76.0  11/30/2013 23:32:00       96.0  B00585  Registered   \n",
       "1579018       134.0  11/30/2013 23:28:00      139.0  T01195  Registered   \n",
       "1579019       129.0  11/30/2013 23:30:00      133.0  T01069  Registered   \n",
       "1579020       130.0  11/30/2013 23:42:00       90.0  T01341  Registered   \n",
       "1579021        67.0  11/30/2013 23:40:00       88.0  T01328  Registered   \n",
       "1579022       137.0  11/30/2013 23:41:00      133.0  T01310      Casual   \n",
       "1579023        76.0  11/30/2013 23:38:00       68.0  B01478  Registered   \n",
       "1579024        68.0  11/30/2013 23:46:00       95.0  T01352  Registered   \n",
       "\n",
       "        zip_code  birth_date  gender  \n",
       "1579015   '02138         NaN  Female  \n",
       "1579016   '02142         NaN    Male  \n",
       "1579017   '02131         NaN  Female  \n",
       "1579018   '02478         NaN    Male  \n",
       "1579019   '02138         NaN    Male  \n",
       "1579020   '02141         NaN    Male  \n",
       "1579021   '02143         NaN    Male  \n",
       "1579022      NaN         NaN     NaN  \n",
       "1579023   '02141         NaN    Male  \n",
       "1579024   '02143         NaN  Female  "
      ]
     },
     "execution_count": 4,
     "metadata": {},
     "output_type": "execute_result"
    }
   ],
   "source": [
    "# use the pd.head command to view the first 5 rows of the data set and pd.tail to print out the last 10 rows\n",
    "# https://pandas.pydata.org/pandas-docs/stable/reference/api/pandas.DataFrame.head.html\n",
    "\n",
    "\n",
    "################\n",
    "# Your code here\n",
    "################\n",
    "\n",
    "hubway_data.head()\n",
    "hubway_data.tail(10)"
   ]
  },
  {
   "cell_type": "code",
   "execution_count": 5,
   "metadata": {},
   "outputs": [
    {
     "name": "stdout",
     "output_type": "stream",
     "text": [
      "20527325\n",
      "(1579025, 13)\n",
      "Index(['seq_id', 'hubway_id', 'status', 'duration', 'start_date', 'strt_statn',\n",
      "       'end_date', 'end_statn', 'bike_nr', 'subsc_type', 'zip_code',\n",
      "       'birth_date', 'gender'],\n",
      "      dtype='object')\n",
      "[      0       1       2 ... 1579022 1579023 1579024]\n"
     ]
    }
   ],
   "source": [
    "# determine the size and dimensions of the data frame using df.size and df.shape \n",
    "# https://pandas.pydata.org/pandas-docs/stable/reference/api/pandas.DataFrame.shape.html\n",
    "# pull off the column and row names using df.columns and df.index.values\n",
    "\n",
    "################\n",
    "# Your code here\n",
    "################\n",
    "\n",
    "print(hubway_data.size)\n",
    "print(hubway_data.shape)\n",
    "print(hubway_data.columns)\n",
    "print(hubway_data.index.values)\n"
   ]
  },
  {
   "cell_type": "code",
   "execution_count": 6,
   "metadata": {},
   "outputs": [
    {
     "name": "stdout",
     "output_type": "stream",
     "text": [
      "0    Male\n",
      "1    Male\n",
      "Name: gender, dtype: object\n",
      "['Male' 'Male']\n"
     ]
    }
   ],
   "source": [
    "# pull off the first 2 entries of the gender variable:\n",
    "\n",
    "print(hubway_data['gender'][0:2])\n",
    "\n",
    "# the ever important 'values' command\n",
    "print(hubway_data['gender'][0:2].values)\n"
   ]
  },
  {
   "cell_type": "code",
   "execution_count": 7,
   "metadata": {},
   "outputs": [
    {
     "name": "stdout",
     "output_type": "stream",
     "text": [
      "7/28/2011 10:12:00\n",
      "0    10\n",
      "1    10\n",
      "2    10\n",
      "Name: start_date, dtype: int64\n"
     ]
    },
    {
     "data": {
      "text/plain": [
       "0          2011\n",
       "1          2011\n",
       "2          2011\n",
       "3          2011\n",
       "4          2011\n",
       "           ... \n",
       "1579020    2013\n",
       "1579021    2013\n",
       "1579022    2013\n",
       "1579023    2013\n",
       "1579024    2013\n",
       "Name: start_date, Length: 1579025, dtype: int64"
      ]
     },
     "execution_count": 7,
     "metadata": {},
     "output_type": "execute_result"
    }
   ],
   "source": [
    "# processing the checkout dates a little \n",
    "\n",
    "print(hubway_data['start_date'][0])\n",
    "\n",
    "# pull off the hour into 'checkout_hour'\n",
    "checkout_hour = hubway_data['start_date'].apply(lambda s: int(s[-8:-6]))\n",
    "print(checkout_hour[0:3])\n",
    "\n",
    "# create 'checkout_year' to pull of the year of the checkout start time.\n",
    "\n",
    "################\n",
    "# Your code here\n",
    "################\n",
    "\n",
    "checkout_year = hubway_data['start_date'].apply(lambda s: int(s[-13:-9]))\n",
    "checkout_year\n"
   ]
  },
  {
   "cell_type": "markdown",
   "metadata": {
    "slideshow": {
     "slide_type": "skip"
    }
   },
   "source": [
    "---"
   ]
  },
  {
   "cell_type": "markdown",
   "metadata": {
    "slideshow": {
     "slide_type": "slide"
    }
   },
   "source": [
    "## 2. Data Exploration\n",
    "### Who?\n",
    "\n",
    "Use the data frame to explore the distributions of user type, gender, and age (4 'Your code here' fill-ins)."
   ]
  },
  {
   "cell_type": "code",
   "execution_count": 8,
   "metadata": {},
   "outputs": [
    {
     "name": "stdout",
     "output_type": "stream",
     "text": [
      "(array(['Casual', 'Registered'], dtype=object), array([ 472611, 1106414]))\n",
      "(array(['Casual', 'Registered'], dtype=object), array([ 472611, 1106414]))\n"
     ]
    },
    {
     "data": {
      "image/png": "[encoded data removed]",
      "text/plain": [
       "<Figure size 432x288 with 1 Axes>"
      ]
     },
     "metadata": {
      "needs_background": "light"
     },
     "output_type": "display_data"
    }
   ],
   "source": [
    "# create a table, a barplot, and pie chart of subscriber type: 'subsc_type'\n",
    "\n",
    "# 2 ways to do the same thing:\n",
    "subsc_counts = np.unique(hubway_data['subsc_type'], return_counts=True)\n",
    "print(subsc_counts)\n",
    "\n",
    "print(np.unique(hubway_data.subsc_type,return_counts=True))\n",
    "\n",
    "# now for the barplot\n",
    "plt.bar(subsc_counts[0],subsc_counts[1])\n",
    "plt.show()"
   ]
  },
  {
   "cell_type": "code",
   "execution_count": 9,
   "metadata": {},
   "outputs": [
    {
     "data": {
      "image/png": "[encoded data removed]",
      "text/plain": [
       "<Figure size 432x288 with 1 Axes>"
      ]
     },
     "metadata": {
      "needs_background": "light"
     },
     "output_type": "display_data"
    }
   ],
   "source": [
    "# Create a table of counts for each gender in the checkout data set \n",
    "# Use this table to create a bar plot of gender \n",
    "# Hint: use .dropna() on the relevant variable\n",
    "\n",
    "################\n",
    "# Your code here\n",
    "################\n",
    "\n",
    "gender_counts = np.unique(hubway_data['gender'].dropna(), return_counts=True)\n",
    "\n",
    "plt.bar(gender_counts[0],gender_counts[1])\n",
    "plt.show()\n",
    "\n"
   ]
  },
  {
   "cell_type": "code",
   "execution_count": 10,
   "metadata": {
    "slideshow": {
     "slide_type": "subslide"
    }
   },
   "outputs": [
    {
     "name": "stdout",
     "output_type": "stream",
     "text": [
      "Mean Age = 35.48022780940213\n",
      "Median Age = 32.0\n",
      "Minimum Age = 17.0\n",
      "Maximum Age = 79.0\n",
      "Standard Deviation of Age = 10.988319684159583\n"
     ]
    },
    {
     "data": {
      "image/png": "[encoded data removed]",
      "text/plain": [
       "<Figure size 432x288 with 1 Axes>"
      ]
     },
     "metadata": {
      "needs_background": "light"
     },
     "output_type": "display_data"
    }
   ],
   "source": [
    "\n",
    "# create a variable 'age' outside the data frame for the ages of users (use 'checkout_year').  \n",
    "# Then add the variable into the data frame  \n",
    "\n",
    "################\n",
    "# Your code here\n",
    "################\n",
    "\n",
    "age = checkout_year - hubway_data['birth_date']\n",
    "hubway_data['age'] = age\n",
    "\n",
    "\n",
    "# calculate mean, median, sd, min, and max of the ages of hubway users\n",
    "# be careful handling nan's in np.median (.dropna() may be helpful)\n",
    "\n",
    "################\n",
    "# Your code here\n",
    "################\n",
    "\n",
    "print(\"Mean Age =\",  np.mean(age))\n",
    "print(\"Median Age =\", np.median(age.dropna()))\n",
    "print(\"Minimum Age =\", np.min(age))\n",
    "print(\"Maximum Age =\", np.max(age))\n",
    "print(\"Standard Deviation of Age =\", np.std(age))\n",
    "\n",
    "# Create the default histogram of age using plt.hist.  \n",
    "# Then improve the histogram with bins of 15-19, 20-24, etc. and improved labels\n",
    "# plt.xlabel, plt.ylabel, and plt.title will be useful\n",
    "\n",
    "################\n",
    "# Your code here\n",
    "################\n",
    "\n",
    "\n",
    "#plt.hist(hubway_data['age'])\n",
    "plt.hist(hubway_data['age'],bins=5*np.arange(3,16))\n",
    "plt.title('Histogram of Ages of Users')\n",
    "plt.ylabel('Number of Uses')\n",
    "plt.xlabel('Age')\n",
    "plt.show()\n",
    "\n"
   ]
  },
  {
   "cell_type": "markdown",
   "metadata": {},
   "source": [
    "## 3. Interpretation Questions: \n",
    "\n",
    "1. Use summary statistics and the histogram above to describe the distribution of user ages in the data set.\n",
    "\n",
    "2. What is wrong with the statement \"The average age of Hubway bike share users is roughly 35.5 years old\"?.\n",
    "\n",
    "3. What would be a better interpretation of the mean age of the users calcualted here?"
   ]
  },
  {
   "cell_type": "markdown",
   "metadata": {},
   "source": [
    "*Your answer here*\n",
    "\n",
    "1. This histogram is moderately to strongly right-skewed, ranging from 17 years to 79 years, with an average age of 35.5, roughly.  The bulk of the data is between about 20 and 40 years of age.\n",
    "\n",
    "2. This is calculated based on the average age of each ride, not the average age of all users (so if younger people use the bikes more often, this will pull the value here down compared to the true average age of unique users).\n",
    "\n",
    "3. This is the average age of uses/rides taken, not unique users."
   ]
  },
  {
   "cell_type": "markdown",
   "metadata": {},
   "source": [
    "## 4. More Visualizations\n",
    "\n",
    "Look at creating subfigures and exploring the usage across location (distance from Boston 'center city').\n"
   ]
  },
  {
   "cell_type": "code",
   "execution_count": 11,
   "metadata": {
    "slideshow": {
     "slide_type": "subslide"
    }
   },
   "outputs": [
    {
     "data": {
      "image/png": "[encoded data removed]",
      "text/plain": [
       "<Figure size 1080x432 with 2 Axes>"
      ]
     },
     "metadata": {
      "needs_background": "light"
     },
     "output_type": "display_data"
    }
   ],
   "source": [
    "\n",
    "# subplots: put both the barplot of gender and histogram of time into the same figure\n",
    "\n",
    "fig, ax = plt.subplots(1, 2, figsize=(15, 6))\n",
    "\n",
    "\n",
    "# use ax[0].bar to put the barplot in the first subplot \n",
    "\n",
    "\n",
    "################\n",
    "# Your code here\n",
    "################\n",
    "\n",
    "ax[0].bar(gender_counts[0],gender_counts[1], align='center', color=['green', 'teal'], alpha=0.5)\n",
    "ax[0].set_title('Users by Gender')\n",
    "\n",
    "# use ax[1].bar to put the histogram in the second subplot \n",
    "\n",
    "################\n",
    "# Your code here\n",
    "################\n",
    "\n",
    "ax[1].hist(hubway_data['age'],bins=5*np.arange(3,16))\n",
    "ax[1].set_title('Histogram of Ages of Users')\n",
    "ax[1].set_ylabel('Number of Uses')\n",
    "ax[1].set_xlabel('Age')\n",
    "\n",
    "plt.tight_layout()\n",
    "plt.show();\n",
    "\n",
    "\n"
   ]
  },
  {
   "cell_type": "markdown",
   "metadata": {
    "slideshow": {
     "slide_type": "slide"
    }
   },
   "source": [
    "### Where"
   ]
  },
  {
   "cell_type": "code",
   "execution_count": 12,
   "metadata": {
    "slideshow": {
     "slide_type": "subslide"
    }
   },
   "outputs": [
    {
     "data": {
      "text/html": [
       "<div>\n",
       "<style scoped>\n",
       "    .dataframe tbody tr th:only-of-type {\n",
       "        vertical-align: middle;\n",
       "    }\n",
       "\n",
       "    .dataframe tbody tr th {\n",
       "        vertical-align: top;\n",
       "    }\n",
       "\n",
       "    .dataframe thead th {\n",
       "        text-align: right;\n",
       "    }\n",
       "</style>\n",
       "<table border=\"1\" class=\"dataframe\">\n",
       "  <thead>\n",
       "    <tr style=\"text-align: right;\">\n",
       "      <th></th>\n",
       "      <th>station</th>\n",
       "      <th>id</th>\n",
       "      <th>lat</th>\n",
       "      <th>lng</th>\n",
       "    </tr>\n",
       "  </thead>\n",
       "  <tbody>\n",
       "    <tr>\n",
       "      <th>0</th>\n",
       "      <td>Colleges of the Fenway</td>\n",
       "      <td>3</td>\n",
       "      <td>42.340021</td>\n",
       "      <td>-71.100812</td>\n",
       "    </tr>\n",
       "    <tr>\n",
       "      <th>1</th>\n",
       "      <td>Tremont St. at Berkeley St.</td>\n",
       "      <td>4</td>\n",
       "      <td>42.345392</td>\n",
       "      <td>-71.069616</td>\n",
       "    </tr>\n",
       "    <tr>\n",
       "      <th>2</th>\n",
       "      <td>Northeastern U / North Parking Lot</td>\n",
       "      <td>5</td>\n",
       "      <td>42.341814</td>\n",
       "      <td>-71.090179</td>\n",
       "    </tr>\n",
       "    <tr>\n",
       "      <th>3</th>\n",
       "      <td>Cambridge St. at Joy St.</td>\n",
       "      <td>6</td>\n",
       "      <td>42.361285</td>\n",
       "      <td>-71.065140</td>\n",
       "    </tr>\n",
       "    <tr>\n",
       "      <th>4</th>\n",
       "      <td>Fan Pier</td>\n",
       "      <td>7</td>\n",
       "      <td>42.353412</td>\n",
       "      <td>-71.044624</td>\n",
       "    </tr>\n",
       "  </tbody>\n",
       "</table>\n",
       "</div>"
      ],
      "text/plain": [
       "                              station  id        lat        lng\n",
       "0              Colleges of the Fenway   3  42.340021 -71.100812\n",
       "1         Tremont St. at Berkeley St.   4  42.345392 -71.069616\n",
       "2  Northeastern U / North Parking Lot   5  42.341814 -71.090179\n",
       "3            Cambridge St. at Joy St.   6  42.361285 -71.065140\n",
       "4                            Fan Pier   7  42.353412 -71.044624"
      ]
     },
     "execution_count": 12,
     "metadata": {},
     "output_type": "execute_result"
    }
   ],
   "source": [
    "# read in the separate station data\n",
    "\n",
    "station_data = pd.read_csv('hubway_stations.csv', low_memory=False)[['station','id', 'lat', 'lng']]\n",
    "station_data.head()"
   ]
  },
  {
   "cell_type": "code",
   "execution_count": 13,
   "metadata": {
    "slideshow": {
     "slide_type": "subslide"
    }
   },
   "outputs": [
    {
     "data": {
      "text/html": [
       "<div>\n",
       "<style scoped>\n",
       "    .dataframe tbody tr th:only-of-type {\n",
       "        vertical-align: middle;\n",
       "    }\n",
       "\n",
       "    .dataframe tbody tr th {\n",
       "        vertical-align: top;\n",
       "    }\n",
       "\n",
       "    .dataframe thead th {\n",
       "        text-align: right;\n",
       "    }\n",
       "</style>\n",
       "<table border=\"1\" class=\"dataframe\">\n",
       "  <thead>\n",
       "    <tr style=\"text-align: right;\">\n",
       "      <th></th>\n",
       "      <th>seq_id</th>\n",
       "      <th>hubway_id</th>\n",
       "      <th>status</th>\n",
       "      <th>duration</th>\n",
       "      <th>start_date</th>\n",
       "      <th>strt_statn</th>\n",
       "      <th>end_date</th>\n",
       "      <th>end_statn</th>\n",
       "      <th>bike_nr</th>\n",
       "      <th>subsc_type</th>\n",
       "      <th>zip_code</th>\n",
       "      <th>birth_date</th>\n",
       "      <th>gender</th>\n",
       "      <th>age</th>\n",
       "      <th>station</th>\n",
       "      <th>lat</th>\n",
       "      <th>lng</th>\n",
       "    </tr>\n",
       "  </thead>\n",
       "  <tbody>\n",
       "    <tr>\n",
       "      <th>0</th>\n",
       "      <td>1</td>\n",
       "      <td>8</td>\n",
       "      <td>Closed</td>\n",
       "      <td>9</td>\n",
       "      <td>7/28/2011 10:12:00</td>\n",
       "      <td>23.0</td>\n",
       "      <td>7/28/2011 10:12:00</td>\n",
       "      <td>23.0</td>\n",
       "      <td>B00468</td>\n",
       "      <td>Registered</td>\n",
       "      <td>'97217</td>\n",
       "      <td>1976.0</td>\n",
       "      <td>Male</td>\n",
       "      <td>35.0</td>\n",
       "      <td>Mayor Thomas M. Menino - Government Center</td>\n",
       "      <td>42.359677</td>\n",
       "      <td>-71.059364</td>\n",
       "    </tr>\n",
       "    <tr>\n",
       "      <th>1</th>\n",
       "      <td>2</td>\n",
       "      <td>9</td>\n",
       "      <td>Closed</td>\n",
       "      <td>220</td>\n",
       "      <td>7/28/2011 10:21:00</td>\n",
       "      <td>23.0</td>\n",
       "      <td>7/28/2011 10:25:00</td>\n",
       "      <td>23.0</td>\n",
       "      <td>B00554</td>\n",
       "      <td>Registered</td>\n",
       "      <td>'02215</td>\n",
       "      <td>1966.0</td>\n",
       "      <td>Male</td>\n",
       "      <td>45.0</td>\n",
       "      <td>Mayor Thomas M. Menino - Government Center</td>\n",
       "      <td>42.359677</td>\n",
       "      <td>-71.059364</td>\n",
       "    </tr>\n",
       "    <tr>\n",
       "      <th>2</th>\n",
       "      <td>3</td>\n",
       "      <td>10</td>\n",
       "      <td>Closed</td>\n",
       "      <td>56</td>\n",
       "      <td>7/28/2011 10:33:00</td>\n",
       "      <td>23.0</td>\n",
       "      <td>7/28/2011 10:34:00</td>\n",
       "      <td>23.0</td>\n",
       "      <td>B00456</td>\n",
       "      <td>Registered</td>\n",
       "      <td>'02108</td>\n",
       "      <td>1943.0</td>\n",
       "      <td>Male</td>\n",
       "      <td>68.0</td>\n",
       "      <td>Mayor Thomas M. Menino - Government Center</td>\n",
       "      <td>42.359677</td>\n",
       "      <td>-71.059364</td>\n",
       "    </tr>\n",
       "    <tr>\n",
       "      <th>3</th>\n",
       "      <td>4</td>\n",
       "      <td>11</td>\n",
       "      <td>Closed</td>\n",
       "      <td>64</td>\n",
       "      <td>7/28/2011 10:35:00</td>\n",
       "      <td>23.0</td>\n",
       "      <td>7/28/2011 10:36:00</td>\n",
       "      <td>23.0</td>\n",
       "      <td>B00554</td>\n",
       "      <td>Registered</td>\n",
       "      <td>'02116</td>\n",
       "      <td>1981.0</td>\n",
       "      <td>Female</td>\n",
       "      <td>30.0</td>\n",
       "      <td>Mayor Thomas M. Menino - Government Center</td>\n",
       "      <td>42.359677</td>\n",
       "      <td>-71.059364</td>\n",
       "    </tr>\n",
       "    <tr>\n",
       "      <th>4</th>\n",
       "      <td>5</td>\n",
       "      <td>12</td>\n",
       "      <td>Closed</td>\n",
       "      <td>12</td>\n",
       "      <td>7/28/2011 10:37:00</td>\n",
       "      <td>23.0</td>\n",
       "      <td>7/28/2011 10:37:00</td>\n",
       "      <td>23.0</td>\n",
       "      <td>B00554</td>\n",
       "      <td>Registered</td>\n",
       "      <td>'97214</td>\n",
       "      <td>1983.0</td>\n",
       "      <td>Female</td>\n",
       "      <td>28.0</td>\n",
       "      <td>Mayor Thomas M. Menino - Government Center</td>\n",
       "      <td>42.359677</td>\n",
       "      <td>-71.059364</td>\n",
       "    </tr>\n",
       "  </tbody>\n",
       "</table>\n",
       "</div>"
      ],
      "text/plain": [
       "   seq_id  hubway_id  status  duration          start_date  strt_statn  \\\n",
       "0       1          8  Closed         9  7/28/2011 10:12:00        23.0   \n",
       "1       2          9  Closed       220  7/28/2011 10:21:00        23.0   \n",
       "2       3         10  Closed        56  7/28/2011 10:33:00        23.0   \n",
       "3       4         11  Closed        64  7/28/2011 10:35:00        23.0   \n",
       "4       5         12  Closed        12  7/28/2011 10:37:00        23.0   \n",
       "\n",
       "             end_date  end_statn bike_nr  subsc_type zip_code  birth_date  \\\n",
       "0  7/28/2011 10:12:00       23.0  B00468  Registered   '97217      1976.0   \n",
       "1  7/28/2011 10:25:00       23.0  B00554  Registered   '02215      1966.0   \n",
       "2  7/28/2011 10:34:00       23.0  B00456  Registered   '02108      1943.0   \n",
       "3  7/28/2011 10:36:00       23.0  B00554  Registered   '02116      1981.0   \n",
       "4  7/28/2011 10:37:00       23.0  B00554  Registered   '97214      1983.0   \n",
       "\n",
       "   gender   age                                     station        lat  \\\n",
       "0    Male  35.0  Mayor Thomas M. Menino - Government Center  42.359677   \n",
       "1    Male  45.0  Mayor Thomas M. Menino - Government Center  42.359677   \n",
       "2    Male  68.0  Mayor Thomas M. Menino - Government Center  42.359677   \n",
       "3  Female  30.0  Mayor Thomas M. Menino - Government Center  42.359677   \n",
       "4  Female  28.0  Mayor Thomas M. Menino - Government Center  42.359677   \n",
       "\n",
       "         lng  \n",
       "0 -71.059364  \n",
       "1 -71.059364  \n",
       "2 -71.059364  \n",
       "3 -71.059364  \n",
       "4 -71.059364  "
      ]
     },
     "execution_count": 13,
     "metadata": {},
     "output_type": "execute_result"
    }
   ],
   "source": [
    "# join the two together data\n",
    "\n",
    "hubway_data_with_gps = hubway_data.join(station_data.set_index('id'), on='strt_statn')\n",
    "hubway_data_with_gps.head()"
   ]
  },
  {
   "cell_type": "markdown",
   "metadata": {
    "slideshow": {
     "slide_type": "subslide"
    }
   },
   "source": [
    "![Alt](../fig/Lecture1a_g2.png)"
   ]
  },
  {
   "cell_type": "code",
   "execution_count": 14,
   "metadata": {},
   "outputs": [],
   "source": [
    "# a user-defined function to calculate distances 'as the crow flies'\n",
    "\n",
    "def haversine(pt, lat2=42.3604, lon2=-71.05868):\n",
    "    \"\"\"\n",
    "    Calculate the great circle distance between two points \n",
    "    on the earth (specified in decimal degrees)\n",
    "    Center City (of Boston) is the default comparison point\n",
    "    \"\"\"\n",
    "    lon1 = pt[0]\n",
    "    lat1 = pt[1]\n",
    "    \n",
    "    # convert decimal degrees to radians \n",
    "    lon1, lat1, lon2, lat2 = map(radians, [lon1, lat1, lon2, lat2])\n",
    "\n",
    "    # haversine formula \n",
    "    dlon = lon2 - lon1 \n",
    "    dlat = lat2 - lat1 \n",
    "    a = sin(dlat/2)**2 + cos(lat1) * cos(lat2) * sin(dlon/2)**2\n",
    "    c = 2 * asin(sqrt(a)) \n",
    "    r = 3958.8 # Radius of earth in miles\n",
    "    return c * r"
   ]
  },
  {
   "cell_type": "code",
   "execution_count": 15,
   "metadata": {},
   "outputs": [
    {
     "data": {
      "text/html": [
       "<div>\n",
       "<style scoped>\n",
       "    .dataframe tbody tr th:only-of-type {\n",
       "        vertical-align: middle;\n",
       "    }\n",
       "\n",
       "    .dataframe tbody tr th {\n",
       "        vertical-align: top;\n",
       "    }\n",
       "\n",
       "    .dataframe thead th {\n",
       "        text-align: right;\n",
       "    }\n",
       "</style>\n",
       "<table border=\"1\" class=\"dataframe\">\n",
       "  <thead>\n",
       "    <tr style=\"text-align: right;\">\n",
       "      <th></th>\n",
       "      <th>station</th>\n",
       "      <th>id</th>\n",
       "      <th>lat</th>\n",
       "      <th>lng</th>\n",
       "      <th>checkouts</th>\n",
       "    </tr>\n",
       "  </thead>\n",
       "  <tbody>\n",
       "    <tr>\n",
       "      <th>0</th>\n",
       "      <td>Colleges of the Fenway</td>\n",
       "      <td>3</td>\n",
       "      <td>42.340021</td>\n",
       "      <td>-71.100812</td>\n",
       "      <td>9734</td>\n",
       "    </tr>\n",
       "    <tr>\n",
       "      <th>1</th>\n",
       "      <td>Tremont St. at Berkeley St.</td>\n",
       "      <td>4</td>\n",
       "      <td>42.345392</td>\n",
       "      <td>-71.069616</td>\n",
       "      <td>18058</td>\n",
       "    </tr>\n",
       "    <tr>\n",
       "      <th>2</th>\n",
       "      <td>Northeastern U / North Parking Lot</td>\n",
       "      <td>5</td>\n",
       "      <td>42.341814</td>\n",
       "      <td>-71.090179</td>\n",
       "      <td>10630</td>\n",
       "    </tr>\n",
       "    <tr>\n",
       "      <th>3</th>\n",
       "      <td>Cambridge St. at Joy St.</td>\n",
       "      <td>6</td>\n",
       "      <td>42.361285</td>\n",
       "      <td>-71.065140</td>\n",
       "      <td>23322</td>\n",
       "    </tr>\n",
       "    <tr>\n",
       "      <th>4</th>\n",
       "      <td>Fan Pier</td>\n",
       "      <td>7</td>\n",
       "      <td>42.353412</td>\n",
       "      <td>-71.044624</td>\n",
       "      <td>9163</td>\n",
       "    </tr>\n",
       "  </tbody>\n",
       "</table>\n",
       "</div>"
      ],
      "text/plain": [
       "                              station  id        lat        lng  checkouts\n",
       "0              Colleges of the Fenway   3  42.340021 -71.100812       9734\n",
       "1         Tremont St. at Berkeley St.   4  42.345392 -71.069616      18058\n",
       "2  Northeastern U / North Parking Lot   5  42.341814 -71.090179      10630\n",
       "3            Cambridge St. at Joy St.   6  42.361285 -71.065140      23322\n",
       "4                            Fan Pier   7  42.353412 -71.044624       9163"
      ]
     },
     "execution_count": 15,
     "metadata": {},
     "output_type": "execute_result"
    }
   ],
   "source": [
    "\n",
    "# determine the number of checkouts at each station, and add 'checkouts'  to the 'station_data' data frame\n",
    "# Hint: use .dropna() on the relevant array\n",
    "\n",
    "################\n",
    "# Your code here\n",
    "################\n",
    "\n",
    "station_counts = np.unique(hubway_data['strt_statn'].dropna(), return_counts=True)\n",
    "counts_df = pd.DataFrame(station_counts[1],index = station_counts[0],columns=['checkouts'])\n",
    "station_data['checkouts'] = station_counts[1]\n",
    "\n",
    "station_data.head()"
   ]
  },
  {
   "cell_type": "code",
   "execution_count": 16,
   "metadata": {},
   "outputs": [],
   "source": [
    "# using the hersine function to create 'dist_to_center' variable \n",
    "dist_to_center = list(map(haversine, station_data[['lng', 'lat']].values))\n",
    "\n",
    "################\n",
    "# Your code here, and add it to the 'station_data' data frame\n",
    "################\n",
    "\n",
    "station_data['dist_to_center'] = dist_to_center\n",
    "\n"
   ]
  },
  {
   "cell_type": "code",
   "execution_count": 17,
   "metadata": {},
   "outputs": [
    {
     "data": {
      "image/png": "[encoded data removed]",
      "text/plain": [
       "<Figure size 720x360 with 1 Axes>"
      ]
     },
     "metadata": {
      "needs_background": "light"
     },
     "output_type": "display_data"
    }
   ],
   "source": [
    "fig, ax = plt.subplots(1, 1, figsize=(10, 5))\n",
    "\n",
    "# use ax.scatter to create a scatter plot of x = 'dist_to_center' and y = 'checkouts'\n",
    "\n",
    "ax.scatter(station_data['dist_to_center'].values, station_data['checkouts'].values)\n",
    "\n",
    "ax.set_xlabel('Distance to City Center (Miles)')\n",
    "ax.set_ylabel('Number of Checkouts')\n",
    "ax.set_title('Distance to City Center vs Checkouts')\n",
    "plt.show()\n",
    "\n"
   ]
  },
  {
   "cell_type": "markdown",
   "metadata": {
    "slideshow": {
     "slide_type": "slide"
    }
   },
   "source": [
    "### When...this is done for you"
   ]
  },
  {
   "cell_type": "code",
   "execution_count": 18,
   "metadata": {
    "slideshow": {
     "slide_type": "subslide"
    }
   },
   "outputs": [
    {
     "data": {
      "image/png": "[encoded data removed]",
      "text/plain": [
       "<Figure size 720x360 with 1 Axes>"
      ]
     },
     "metadata": {
      "needs_background": "light"
     },
     "output_type": "display_data"
    }
   ],
   "source": [
    "fig, ax = plt.subplots(1, 1, figsize=(10, 5))\n",
    "\n",
    "checkout_counts = np.unique(checkout_hour, return_counts=True)\n",
    "plt.bar(checkout_counts[0], checkout_counts[1], align='center', width=0.8, alpha=0.6)\n",
    "ax.set_xlim([-1, 24])\n",
    "ax.set_xticks(range(24))\n",
    "ax.set_xlabel('Hour of Day')\n",
    "ax.set_ylabel('Number of Checkouts')\n",
    "ax.set_title('Time of Day vs Checkouts')\n",
    "\n",
    "plt.show()"
   ]
  },
  {
   "cell_type": "markdown",
   "metadata": {},
   "source": [
    "## 5. More Interpretations\n",
    "\n",
    "1. What do you notice in the scatterplot of checkouts vs. distance above?  What does this say about useage of the system, in general?\n",
    "\n",
    "2. What type of figre is the above plot titled 'Time of Day vs Checkouts'?  Describe what you notice in it.  Why does this make sense?\n",
    "\n",
    "3. How can Hubway use this information to improve their systems?\n",
    "\n",
    "*your answer here*\n",
    "\n",
    "1. Stations closer to downtown are more popular.  This is not surprising as there is more density (of people and workplaces) as you get closer to downtown.\n",
    "\n",
    "2. This is a barplot, technically (though not very different from a histogram since the categorical variable 'hour' is quantitative).  We notice that the stations are much more popular at rush hours (8am and 5pm) then any other time of day.\n",
    "\n",
    "3. Hubway may want to increase the number of stations closer to downtown, and must consider the 1-way flow of bikes for commuters at rush hour."
   ]
  },
  {
   "cell_type": "markdown",
   "metadata": {
    "slideshow": {
     "slide_type": "subslide"
    }
   },
   "source": [
    "## 6. Further Investigations:\n",
    "\n",
    "Explore the data to investigate three questions:\n",
    "    \n",
    "1. Which station is most popular (for check-outs)?\n",
    "\n",
    "2. How long does it take to bike from 'Harvard Square at Mass Ave/ Dunster' (closest stop to Harvard Square center) to 'South Station - 700 Atlantic Ave.' (to catch a train)?\n",
    "\n",
    "3. What are noticeable differences between Registered and Casual users?  Consider variables we've already looked at or created.\n"
   ]
  },
  {
   "cell_type": "code",
   "execution_count": 19,
   "metadata": {},
   "outputs": [
    {
     "data": {
      "text/plain": [
       "19    South Station - 700 Atlantic Ave.\n",
       "Name: station, dtype: object"
      ]
     },
     "execution_count": 19,
     "metadata": {},
     "output_type": "execute_result"
    }
   ],
   "source": [
    "# answering #1\n",
    "\n",
    "################\n",
    "# Your code here\n",
    "################\n",
    "\n",
    "id_max = station_counts[0][np.argmax(station_counts[1])]\n",
    "\n",
    "station_data['station'][station_data['id']==id_max]"
   ]
  },
  {
   "cell_type": "code",
   "execution_count": 20,
   "metadata": {},
   "outputs": [
    {
     "name": "stdout",
     "output_type": "stream",
     "text": [
      "19    22\n",
      "Name: id, dtype: int64 \n",
      " 70    74\n",
      "Name: id, dtype: int64\n"
     ]
    }
   ],
   "source": [
    "# answering #2 \n",
    "\n",
    "harvard_id = station_data['id'][station_data['station']=='Harvard Square at Mass Ave/ Dunster']\n",
    "\n",
    "################\n",
    "# Your code here\n",
    "################\n",
    "\n",
    "south_id = station_data['id'][station_data['station']=='South Station - 700 Atlantic Ave.']\n",
    "print(south_id, \"\\n\", harvard_id)"
   ]
  },
  {
   "cell_type": "code",
   "execution_count": 21,
   "metadata": {},
   "outputs": [
    {
     "name": "stdout",
     "output_type": "stream",
     "text": [
      "end_statn    56280\n",
      "dtype: int64\n"
     ]
    }
   ],
   "source": [
    "print(np.sum(hubway_data[['end_statn']] ==  south_id.values))\n"
   ]
  },
  {
   "cell_type": "code",
   "execution_count": 22,
   "metadata": {},
   "outputs": [
    {
     "name": "stdout",
     "output_type": "stream",
     "text": [
      "[[False]\n",
      " [False]\n",
      " [False]\n",
      " ...\n",
      " [False]\n",
      " [False]\n",
      " [False]]\n"
     ]
    }
   ],
   "source": [
    "print((hubway_data[['strt_statn']] ==  harvard_id.values).values)"
   ]
  },
  {
   "cell_type": "code",
   "execution_count": 23,
   "metadata": {},
   "outputs": [
    {
     "data": {
      "image/png": "[encoded data removed]",
      "text/plain": [
       "<Figure size 432x288 with 1 Axes>"
      ]
     },
     "metadata": {
      "needs_background": "light"
     },
     "output_type": "display_data"
    }
   ],
   "source": [
    "trips_loc = (hubway_data[['strt_statn']] ==  harvard_id.values).values & (hubway_data[['end_statn']] ==  south_id.values).values\n",
    "trips_loc\n",
    "trips = hubway_data[trips_loc]\n",
    "trips.shape\n",
    "\n",
    "np.median(trips['duration'])\n",
    "\n",
    "plt.hist(trips['duration'])\n",
    "plt.show()"
   ]
  },
  {
   "cell_type": "code",
   "execution_count": 24,
   "metadata": {},
   "outputs": [
    {
     "data": {
      "image/png": "[encoded data removed]",
      "text/plain": [
       "<Figure size 432x288 with 1 Axes>"
      ]
     },
     "metadata": {
      "needs_background": "light"
     },
     "output_type": "display_data"
    }
   ],
   "source": [
    "# answering #3\n",
    "\n",
    "################\n",
    "# Your code here\n",
    "################\n",
    "\n",
    "\n",
    "check_out_counts_reg = np.unique(checkout_hour[hubway_data['subsc_type']=='Registered'], return_counts=True)\n",
    "check_out_counts_cas = np.unique(checkout_hour[hubway_data['subsc_type']=='Casual'], return_counts=True)\n",
    "\n",
    "plt.bar(check_out_counts_reg[0],check_out_counts_reg[1], alpha=0.6)\n",
    "plt.bar(check_out_counts_cas[0],check_out_counts_cas[1], alpha=0.6)\n",
    "\n",
    "plt.show()"
   ]
  },
  {
   "cell_type": "markdown",
   "metadata": {},
   "source": [
    "*your answer here*\n",
    "\n",
    "While the registered users show peaks of usage at rush hours (8am and 5pm (hours=17)), casual users tend to use hubway in the 'middle of the day'.  This is likely due to the fact that registered users are more likely to use hubway for commuting while casual users are more likely to use it for late morning or afternoon excursions or weekend trips."
   ]
  }
 ],
 "metadata": {
  "anaconda-cloud": {},
  "kernelspec": {
   "display_name": "Python 3",
   "language": "python",
   "name": "python3"
  },
  "language_info": {
   "codemirror_mode": {
    "name": "ipython",
    "version": 3
   },
   "file_extension": ".py",
   "mimetype": "text/x-python",
   "name": "python",
   "nbconvert_exporter": "python",
   "pygments_lexer": "ipython3",
   "version": "3.7.3"
  },
  "rise": {
   "scroll": true
  }
 },
 "nbformat": 4,
 "nbformat_minor": 1
}
