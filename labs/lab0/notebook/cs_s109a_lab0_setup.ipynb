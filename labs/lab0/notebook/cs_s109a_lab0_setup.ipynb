{
 "cells": [
  {
   "cell_type": "markdown",
   "metadata": {},
   "source": [
    "# <img style=\"float: left; padding-right: 10px; width: 45px\" src=\"data:image/png;base64,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\"> CS-S109A Introduction to Data Science \n",
    "\n",
    "\n",
    "## Lab 0: Getting Started with Jupyter Notebooks\n",
    "\n",
    "**Harvard University**<br>\n",
    "**Summer 2021**<br>\n",
    "**Instructor:** Kevin Rader <br>\n",
    "**Authors:** Rahul Dave, David Sondak, Will Claybaugh, Pavlos Protopapas, Chris Tanner, Eleni Kaxiras, and Kevin Rader\n",
    "\n",
    "---\n",
    "\n"
   ]
  },
  {
   "cell_type": "code",
   "execution_count": null,
   "metadata": {},
   "outputs": [],
   "source": [
    "## RUN THIS CELL TO GET THE RIGHT FORMATTING \n",
    "import requests\n",
    "from IPython.core.display import HTML\n",
    "styles = requests.get(\"https://raw.githubusercontent.com/Harvard-IACS/2018-CS109A/master/content/styles/cs109.css\").text\n",
    "HTML(styles)"
   ]
  },
  {
   "cell_type": "code",
   "execution_count": null,
   "metadata": {},
   "outputs": [],
   "source": [
    "PATHTOSOLUTIONS = '../solutions'"
   ]
  },
  {
   "cell_type": "markdown",
   "metadata": {},
   "source": [
    "## Programming Expectations\n",
    "All assignments for this class will use Python and the browser-based iPython notebook format you are currently viewing.  Programming at the level of CS 50 is a prerequisite for this course.   If you have concerns about this, come speak with any of the instructors. \n",
    "\n",
    "We will refer to the Python 3 [documentation](https://docs.python.org/3/) in this lab and throughout the course.  "
   ]
  },
  {
   "cell_type": "markdown",
   "metadata": {},
   "source": [
    "## Learning Goals \n",
    "This introductory lab is a condensed introduction to Python numerical programming.  By the end of this lab, you will feel more comfortable:\n",
    "\n",
    "- Learn about anconda environments and setup your own with the necessary dependencies\n",
    "\n",
    "- Writing short Python code to create lists, perform arithmetic operations, and print output\n",
    "\n"
   ]
  },
  {
   "cell_type": "markdown",
   "metadata": {},
   "source": [
    "## Part 1: Set up a Conda Python Environment and Clone the Class Repository \n",
    "\n",
    "### On Python installation packages\n",
    "\n",
    "There are two main installing packages for Python, `conda` and `pip`. Pip is the Python Packaging Authority’s recommended tool for installing packages from the **Python Package Index (PyPI)**. `Conda` is a cross platform package and environment manager that installs and manages conda packages from the **Anaconda repository** and **Anaconda Cloud**. Conda does not assume any specific configuration in your computer and will install the Python interpreter along with the other Python packages, whereas `pip` assumes that you have installed the Python interpreter in your computer. Given the fact that most operating systems do include Python this is not a problem. \n",
    "\n",
    "If I could summarize their differences into a sentence it would be that conda has the ability to create **isolated environments** that can contain different versions of Python and/or the packages installed in them. This can be extremely useful when working with data science tools as different tools may contain conflicting requirements which could prevent them all being installed into a single environment. You can have environments with pip but would have to install a tool such as virtualenv or venv. You may use either, we recommend `conda` because in our experience it leads to fewer incompatibilities between packages and thus fewer broken environments.\n",
    "\n",
    "**Conclusion: Use Both.** Most often in our data science environments we want to combining pip with conda when one or more packages are only available to install via pip. Although thousands of packages are available in the Anaconda repository, including the most popular data science, machine learning, and AI frameworks but a lot more are available on PyPI. Even if you have your environment installed via `conda` you can use `pip` to install individual packages \n",
    "\n",
    "([source: anaconda site](https://www.anaconda.com/understanding-conda-and-pip/)) \n",
    "\n",
    "### Installing Conda \n",
    "\n",
    "#### - First check if you have conda \n",
    "\n",
    "In **MacOS** or **Linux** open a Terminal window and at the prompt type \n",
    "\n",
    "`conda –V` \n",
    "\n",
    "If you get the version number (e.g. `conda 4.6.14`) you are all set! If you get an error, that means you do not have Anaconda and would be a good idea to install it. \n",
    "\n",
    "#### - If you do not have it, you can install it by following the instructions:\n",
    "\n",
    "**Mac** : https://docs.anaconda.com/anaconda/install/mac-os/\n",
    "\n",
    "**Windows** : https://docs.anaconda.com/anaconda/install/windows (Note:  #8 is important: DO NOT add to your path. The reason is that Windows contains paths that may include spaces and that clashes with the way `conda` understands paths.)\n",
    "\n",
    "#### - If you do have anaconda consider upgrading it so you get the latest version of the packages: \n",
    "\n",
    "`conda update conda`\n",
    "\n",
    "Conda allows you to work in 'computing sandboxes' called environments. You may have environments installed on your computer to access different versions of Python and different libraries to avoid conflict between libraries which can cause errors.\n",
    "\n",
    "---------------------------------------------------------------------\n",
    "\n"
   ]
  },
  {
   "cell_type": "markdown",
   "metadata": {},
   "source": [
    "### What are environments and do I need them?\n",
    "\n",
    "Environments in Python are like sandboxes that have different versions of Python and/or packages installed in them. You can create, export, list, remove, and update environments. Switching or moving between environments is called activating the environment. When you are done with an environments you may deactivate it.\n",
    "\n",
    "For this class we want to have a bit more control on the packages that will be installed with the enviromnent so we will create an environment with a so called YAML file called `cs109a.yml`. Originally YAML was said to mean *Yet Another Markup Language* referencing its purpose as a markup language with the yet another construct, but it was then repurposed as *YAML Ain't Markup Language* [source:wikipedia]. This is included in the Lab directory in the class git repository. \n",
    "\n",
    "#### Creating an environment from an environment.yml file\n",
    "\n",
    "Using your browser, visit the class git repository https://github.com/Harvard-IACS/2021-s109a\n",
    "\n",
    "Go to `content` --> `labs/` --> `lab0` and look for the cs109a.yml file. Download it to a local directory in your computer.\n",
    "\n",
    "Then in the Terminal again type\n",
    "\n",
    "`conda env create -f {PATH-TO-FILE}/cs109a.yml`"
   ]
  },
  {
   "cell_type": "markdown",
   "metadata": {},
   "source": [
    "#### Activate the new environment: \n",
    "\n",
    "`source activate cs109a`\n",
    "\n",
    "You should see the name of the environment at the start of your command prompth in parenthesis.\n",
    "\n",
    "#### Verify that the new environment was installed correctly:\n",
    "\n",
    "`conda list`\n",
    "\n",
    "This will give you a list of the packages installed in this environment. \n",
    "    \n",
    "#### References\n",
    "    \n",
    "[Manage conda environments](https://docs.conda.io/projects/conda/en/latest/user-guide/tasks/manage-environments.html)"
   ]
  },
  {
   "cell_type": "markdown",
   "metadata": {},
   "source": [
    "#### Clone the class repository\n",
    "\n",
    "In the Terminal type: \n",
    "\n",
    "`git clone https://github.com/Harvard-IACS/2021-s109a.git`"
   ]
  },
  {
   "cell_type": "markdown",
   "metadata": {},
   "source": [
    "### Starting the Jupyter Notebook\n",
    "\n",
    "Once all is installed go in the Terminal and type\n",
    "\n",
    "`jupyter notebook` \n",
    "\n",
    "to start the jupyter notebook server. This will spawn a process that will be running in the Terminal window until you are done working with the notebook. In that case press `control-C` to stop it.\n",
    "\n",
    "Starting the notebook will bring up a browser window with your file structure. Look for the 2021-s109a folder. It should be where you cloned it previously. When you visit this folder in the future, and while in the top folder of it, type\n",
    "\n",
    "`git pull`\n",
    "\n",
    "This will update the contents of the folder with whatever is new. Make sure you are at the top part of the folder by typing \n",
    "\n",
    "`pwd` \n",
    "\n",
    "which should give you `/s109A-2021/`\n",
    "\n",
    "**For more on using the Notebook see**: https://jupyter-notebook.readthedocs.io/en/latest/"
   ]
  },
  {
   "cell_type": "markdown",
   "metadata": {},
   "source": [
    "## Part 2: Getting Started with Python"
   ]
  },
  {
   "cell_type": "markdown",
   "metadata": {},
   "source": [
    "### Importing modules\n",
    "All notebooks should begin with code that imports *modules*, collections of built-in, commonly-used Python functions.  Below we import the Numpy module, a fast numerical programming library for scientific computing.  Future labs will require additional modules, which we'll import with the same syntax.\n",
    "\n",
    "`import MODULE_NAME as MODULE_NICKNAME` "
   ]
  },
  {
   "cell_type": "code",
   "execution_count": null,
   "metadata": {},
   "outputs": [],
   "source": [
    "#import numpy as np #imports a fast numerical programming library"
   ]
  },
  {
   "cell_type": "markdown",
   "metadata": {},
   "source": [
    "Now that Numpy has been imported, we can access some useful functions.  For example, we can use `mean` to calculate the mean of a set of numbers."
   ]
  },
  {
   "cell_type": "code",
   "execution_count": null,
   "metadata": {},
   "outputs": [],
   "source": [
    "my_list = [1.2, 2, 3.3]\n",
    "print(my_list)"
   ]
  },
  {
   "cell_type": "markdown",
   "metadata": {},
   "source": [
    "### Calculations and variables"
   ]
  },
  {
   "cell_type": "code",
   "execution_count": null,
   "metadata": {},
   "outputs": [],
   "source": [
    "# // is integer division\n",
    "1/2, 1//2, 1.0/2, 3*3.2"
   ]
  },
  {
   "cell_type": "markdown",
   "metadata": {},
   "source": [
    "The last line in a cell is returned as the output value, as above.  For cells with multiple lines of results, we can display results using ``print``, as can be seen below."
   ]
  },
  {
   "cell_type": "code",
   "execution_count": null,
   "metadata": {},
   "outputs": [],
   "source": [
    "print(1 + 3.0, \"\\n\", 9, 7)\n",
    "5/3"
   ]
  },
  {
   "cell_type": "markdown",
   "metadata": {},
   "source": [
    "We can store integer or floating point values as variables.  The other basic Python data types -- booleans, strings, lists -- can also be stored as variables. "
   ]
  },
  {
   "cell_type": "code",
   "execution_count": null,
   "metadata": {},
   "outputs": [],
   "source": [
    "a = 1\n",
    "b = 2.0"
   ]
  },
  {
   "cell_type": "markdown",
   "metadata": {},
   "source": [
    "Here is the storing of a list"
   ]
  },
  {
   "cell_type": "code",
   "execution_count": null,
   "metadata": {},
   "outputs": [],
   "source": [
    "a = [1, 2, 3]"
   ]
  },
  {
   "cell_type": "markdown",
   "metadata": {},
   "source": [
    "Think of a variable as a label for a value, not a box in which you put the value\n",
    "\n",
    "![](../images/sticksnotboxes.png)\n",
    "\n",
    "(image: Fluent Python by Luciano Ramalho)"
   ]
  },
  {
   "cell_type": "code",
   "execution_count": null,
   "metadata": {},
   "outputs": [],
   "source": [
    "b = a\n",
    "b"
   ]
  },
  {
   "cell_type": "markdown",
   "metadata": {},
   "source": [
    "This DOES NOT create a new copy of `a`. It merely puts a new label on the memory at a, as can be seen by the following code:"
   ]
  },
  {
   "cell_type": "code",
   "execution_count": null,
   "metadata": {},
   "outputs": [],
   "source": [
    "print(\"a\", a)\n",
    "print(\"b\", b)\n",
    "a[1] = 7\n",
    "print(\"a after change\", a)\n",
    "print(\"b after change\", b)"
   ]
  },
  {
   "cell_type": "markdown",
   "metadata": {},
   "source": [
    "**Tuples**\n",
    "\n",
    "Multiple items on one line in the interface are returned as a *tuple*, an immutable sequence of Python objects. See the end of this notebook for an interesting use of `tuples`."
   ]
  },
  {
   "cell_type": "code",
   "execution_count": null,
   "metadata": {},
   "outputs": [],
   "source": [
    "a = 1\n",
    "b = 2.0\n",
    "a + a, a - b, b * b, 10*a"
   ]
  },
  {
   "cell_type": "markdown",
   "metadata": {},
   "source": [
    "#### `type()`\n",
    "\n",
    "We can obtain the type of a variable, and use boolean comparisons to test these types. VERY USEFUL when things go wrong and you cannot understand why this method does not work on a specific variable!"
   ]
  },
  {
   "cell_type": "code",
   "execution_count": null,
   "metadata": {},
   "outputs": [],
   "source": [
    "type(a) == float"
   ]
  },
  {
   "cell_type": "code",
   "execution_count": null,
   "metadata": {},
   "outputs": [],
   "source": [
    "type(a) == int"
   ]
  },
  {
   "cell_type": "code",
   "execution_count": null,
   "metadata": {},
   "outputs": [],
   "source": [
    "type(a)"
   ]
  },
  {
   "cell_type": "markdown",
   "metadata": {},
   "source": [
    "For reference, below are common arithmetic and comparison operations.\n",
    "\n",
    "<img src=\"../images/ops1_v2.png\" alt=\"Drawing\" style=\"width: 600px;\"/>\n",
    "\n",
    "<img src=\"../images/ops2_v2.png\" alt=\"Drawing\" style=\"width: 650px;\"/>"
   ]
  },
  {
   "cell_type": "markdown",
   "metadata": {},
   "source": [
    "<div class='exercise'> <b> EXERCISE 1:  Create a tuple called `tup` with the following seven objects: </div>\n",
    "\n",
    "- The first element is an integer of your choice\n",
    "- The second element is a float of your choice  \n",
    "- The third element is the sum of the first two elements\n",
    "- The fourth element is the difference of the first two elements\n",
    "- The fifth element is the first element divided by the second element\n",
    "\n",
    "- Display the output of `tup`.  What is the type of the variable `tup`? What happens if you try and chage an item in the tuple? "
   ]
  },
  {
   "cell_type": "code",
   "execution_count": null,
   "metadata": {},
   "outputs": [],
   "source": [
    "# your code here\n"
   ]
  },
  {
   "cell_type": "code",
   "execution_count": null,
   "metadata": {},
   "outputs": [],
   "source": [
    "# TO RUN THE SOLUTIONS\n",
    "# 1. uncomment the first line of the cell below so you have just %load\n",
    "# 2. Run the cell AGAIN to execute the python code, it will not run when you execute the %load command!!"
   ]
  },
  {
   "cell_type": "code",
   "execution_count": null,
   "metadata": {},
   "outputs": [],
   "source": [
    "# %load ../solutions/exercise1.py"
   ]
  }
 ],
 "metadata": {
  "anaconda-cloud": {},
  "kernelspec": {
   "display_name": "Python 3",
   "language": "python",
   "name": "python3"
  },
  "language_info": {
   "codemirror_mode": {
    "name": "ipython",
    "version": 3
   },
   "file_extension": ".py",
   "mimetype": "text/x-python",
   "name": "python",
   "nbconvert_exporter": "python",
   "pygments_lexer": "ipython3",
   "version": "3.7.3"
  }
 },
 "nbformat": 4,
 "nbformat_minor": 2
}
